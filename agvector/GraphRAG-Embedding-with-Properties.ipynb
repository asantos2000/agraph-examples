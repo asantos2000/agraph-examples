{
 "cells": [
  {
   "cell_type": "markdown",
   "id": "5c699b60-cd6b-4af3-83da-a7b85745797b",
   "metadata": {},
   "source": [
    "# GraphRAG: Embedding with Properties and Selectors in AllegroGraph\n",
    "\n",
    "This notebook demonstrates how to leverage AllegroGraph's vector store capabilities to implement efficient semantic search and retrieval. We will show the following:\n",
    "\n",
    "* Set up and authenticate a connection to an AllegroGraph repository\n",
    "* Transform your repository into a powerful vector store by integrating it with modern embedding models\n",
    "* Optimize vector search performance by enriching embeddings with custom properties\n",
    "* Create mappings between embeddings and their source objects for seamless data retrieval\n",
    "\n",
    "The techniques shown here enable you to build sophisticated GraphRAG applications that combine the semantic power of vector search with AllegroGraph's native graph capabilities.\n",
    "\n",
    "Prerequisites:\n",
    "\n",
    "* AllegroGraph version `8.3.0` or higher\n",
    "* A running AllegroGraph instance (local, cloud, or Docker)\n",
    "\n",
    "To begin, you'll need to configure your connection parameters in the `ag_connect` statement below."
   ]
  },
  {
   "cell_type": "code",
   "execution_count": 6,
   "id": "1819c9fb-2d7e-4dc3-914f-9f7590c3ff6b",
   "metadata": {},
   "outputs": [],
   "source": [
    "from franz.openrdf.connect import ag_connect\n",
    "from franz.openrdf.query.query import QueryLanguage\n",
    "from langchain.text_splitter import RecursiveCharacterTextSplitter\n",
    "from langchain.schema.document import Document\n",
    "from tqdm import tqdm\n",
    "import tarfile\n",
    "\n",
    "conn = ag_connect('chomsky-embedding-test', user='', password='', host='', port='')\n",
    "conn.setNamespace('c', 'http://chomsky.com/')\n",
    "c = conn.namespace('http://chomsky.com/')\n",
    "\n",
    "with tarfile.open('chomsky.nq.tgz', 'r:gz') as tar:\n",
    "    # Extract all contents to the current directory\n",
    "    tar.extractall()\n",
    "    \n",
    "if conn.size() == 0:\n",
    "    conn.addFile('chomsky.nq')"
   ]
  },
  {
   "cell_type": "markdown",
   "id": "ad527219-92d8-4dfc-8ee6-407bb747c86a",
   "metadata": {},
   "source": [
    "We also define a function to split a long chunk of text"
   ]
  },
  {
   "cell_type": "code",
   "execution_count": 48,
   "id": "183e1bfd-9a6b-4452-bdde-3f316da8b47b",
   "metadata": {},
   "outputs": [],
   "source": [
    "def split_text(text: str) -> list:\n",
    "    documents = [Document(page_content=text)]\n",
    "    text_splitter = RecursiveCharacterTextSplitter(\n",
    "        chunk_size=1000, chunk_overlap=100)\n",
    "    docs = text_splitter.split_documents(documents)\n",
    "    return docs"
   ]
  },
  {
   "cell_type": "markdown",
   "id": "492999bb-229b-42c7-a602-7a40b5a3fac3",
   "metadata": {},
   "source": [
    "## Converting a Repository to a Vector Store\n",
    "\n",
    "We'll now enhance the `chomsky-embedding` repository with vector store capabilities. This transformation preserves all existing triples while enabling the storage and retrieval of embeddings. While AllegroGraph supports creating dedicated vector stores, combining embeddings with triples in a single repository offers several advantages:\n",
    "\n",
    "* Unified data management\n",
    "* Seamless integration between semantic and vector-based queries\n",
    "* Simplified maintenance and backup procedures\n",
    "* Reduced operational complexity\n",
    "\n",
    "The following code configures the embedding model using OpenAI. The process is model-agnostic - you can easily adapt it to use other providers like Anthropic."
   ]
  },
  {
   "cell_type": "code",
   "execution_count": 44,
   "id": "b2e71e53-9e22-4e5a-a2d4-0b2716f3a230",
   "metadata": {},
   "outputs": [],
   "source": [
    "API_KEY=''\n",
    "EMBEDDER='openai' \n",
    "EMBEDDING_MODEL='text-embedding-3-small'"
   ]
  },
  {
   "cell_type": "markdown",
   "id": "95cb0dd0-d22b-4b9a-8383-47b191a2c9f0",
   "metadata": {},
   "source": [
    "You only have to run the following once to convert the regular repository to a vector store."
   ]
  },
  {
   "cell_type": "code",
   "execution_count": 50,
   "id": "8ecb4d6c-8e6f-4f0d-92d2-6c918fb3409c",
   "metadata": {},
   "outputs": [],
   "source": [
    "conn.convert_to_vector_store(\n",
    "    EMBEDDER,\n",
    "    api_key=API_KEY,\n",
    "    model=EMBEDDING_MODEL)"
   ]
  },
  {
   "cell_type": "markdown",
   "id": "912411b7-4957-4f9e-8a68-68e0418fdc4b",
   "metadata": {},
   "source": [
    "# Embedding text with properties\n",
    "\n",
    "In this section, we'll create semantically rich embeddings from Chomsky's works while preserving crucial metadata. Our process involves three key steps:\n",
    "\n",
    "1. **Query Extraction**: We'll retrieve all textual content from Chomsky's articles and books stored in our triple store.\n",
    "\n",
    "2. **Text Processing**: For optimal embedding quality and search performance, we'll chunk longer texts (>1000 characters) into more manageable segments. This ensures each embedding captures a coherent unit of meaning.\n",
    "\n",
    "3. **Enhanced Embedding Creation**: Using the `add_objects` method, we'll generate embeddings for each text segment. Crucially, we'll enrich these embeddings with additional properties that enable:\n",
    "    * Precise filtering during vector searches\n",
    "    * Contextual metadata preservation\n",
    "    * Efficient narrowing of the search space for `nearest_neighbor` queries\n",
    "    * More targeted responses in `askMyDocuments` operations\n",
    "\n",
    "\n",
    "\n",
    "By attaching properties to our embeddings, we create a more sophisticated search infrastructure that can leverage both semantic similarity and metadata filters to deliver more accurate results."
   ]
  },
  {
   "cell_type": "code",
   "execution_count": 51,
   "id": "b1922568-67cb-43c8-98f1-51b4a9297a78",
   "metadata": {},
   "outputs": [
    {
     "name": "stderr",
     "output_type": "stream",
     "text": [
      "100%|██████████████████████████████████████████████████████████████████████████████████████████████████████████████████| 1000/1000 [10:34<00:00,  1.57it/s]\n"
     ]
    }
   ],
   "source": [
    "#books\n",
    "query_string = \"\"\"\n",
    "SELECT ?name ?paragraph ?text WHERE {\n",
    "    ?book a c:Book ;\n",
    "            rdfs:label ?name ;\n",
    "            c:hasParagraph ?paragraph .\n",
    "      ?paragraph c:hasContent ?text . }\n",
    "limit 1000\"\"\"\n",
    "result = conn.prepareTupleQuery(QueryLanguage.SPARQL, query_string).evaluate()\n",
    "\n",
    "triples = []\n",
    "with result:\n",
    "    for binding_set in tqdm(result):\n",
    "        name = binding_set.getValue('name').label # the book name\n",
    "        paragraph = binding_set.getValue('paragraph') # the paragraph URI\n",
    "        text = binding_set.getValue('text').label # the actual text of the paragraph\n",
    "        \n",
    "        chunks = split_text(text) # splitting large paragraphs into chunks of 1000 characters\n",
    "        \n",
    "        for chunk in chunks:                  # for each chunk in the list of chunk...\n",
    "            vector_id = conn.add_objects(     # the method used to embed text\n",
    "                chunk.page_content,           # grab the content of the chunk\n",
    "                properties = {                # declare the properties per embedding\n",
    "                    \"documentType\": \"Book\",   # for this query values are \"Book\" \n",
    "                    \"name\": name              # the name of the book the text is from\n",
    "                }\n",
    "            )\n",
    "            vector_uri = conn.createURI(vector_id)   # convert the vector_id returned from the embedding add_objects function\n",
    "            triples.append((paragraph, c.vectorId, vector_uri)) # connect the paragraph where the text originated to the vector ID\n",
    "        \n",
    "conn.addTriples(triples) \n",
    "        "
   ]
  },
  {
   "cell_type": "code",
   "execution_count": 52,
   "id": "735616f1-57dc-4157-b8b2-462a6ddaa9bd",
   "metadata": {},
   "outputs": [
    {
     "name": "stderr",
     "output_type": "stream",
     "text": [
      "100%|██████████████████████████████████████████████████████████████████████████████████████████████████████████████████████| 11/11 [00:40<00:00,  3.72s/it]\n"
     ]
    }
   ],
   "source": [
    "# Now we add articles (similar process to above)\n",
    "\n",
    "query_string = \"\"\"\n",
    "SELECT ?name ?article ?text WHERE {\n",
    "    ?article a c:NewsArticle ;\n",
    "             rdfs:label ?name ;\n",
    "             c:hasJournalist c:Noam_Chomsky ;\n",
    "             c:hasContent ?text . }\"\"\"\n",
    "result = conn.prepareTupleQuery(QueryLanguage.SPARQL, query_string).evaluate()\n",
    "\n",
    "triples = []\n",
    "with result:\n",
    "    for binding_set in tqdm(result):\n",
    "        name = binding_set.getValue('name').label\n",
    "        article = binding_set.getValue('article')\n",
    "        text = binding_set.getValue('text').label\n",
    "        \n",
    "        documents = split_text(text)\n",
    "        \n",
    "        for doc in documents:\n",
    "            vector_id = conn.add_objects(\n",
    "                doc.page_content,\n",
    "                properties = {\n",
    "                    \"documentType\": \"Article\",\n",
    "                    \"name\": name\n",
    "                }\n",
    "            )\n",
    "            vector_uri = conn.createURI(vector_id)\n",
    "            triples.append((article, c.vectorId, vector_uri))\n",
    "        \n",
    "conn.addTriples(triples) "
   ]
  },
  {
   "cell_type": "markdown",
   "id": "909ada46-3edc-428b-b397-5c893b93bc6b",
   "metadata": {},
   "source": [
    "## Nearest Neighbor Search\n",
    "\n",
    "This section demonstrates how to perform high-precision semantic searches across your embedded texts using [AllegroGraph's Nearest Neighbor](https://franz.com/agraph/support/documentation/ns-allegrograph-8.0.0-llm-nearestNeighbor.html) functionality.\n",
    "\n",
    "### Core Search Capabilities\n",
    "The `nearest_neighbor` method finds the most semantically similar texts to your query by comparing vector embeddings in high-dimensional space. Here's the basic syntax:\n",
    "\n",
    "```python\n",
    "result = conn.nearest_neighbor(\n",
    "    query_text,     # The text to search for\n",
    "    minScore=0.0,   # Minimum similarity threshold (0.0-1.0)\n",
    "    topN=5,         # Number of results to return\n",
    "    selector=None   # Optional property-based filtering\n",
    ")\n",
    "```\n",
    "\n",
    "The method returns a list of matches, where each match contains:\n",
    "\n",
    "* `vector_id`: Unique identifier for the embedding\n",
    "* `score`: Similarity score (higher means more similar)\n",
    "* `text`: The matching text content\n",
    "\n",
    "### Advanced Filtering with Selectors\n",
    "The selector parameter enables powerful filtering based on the properties we attached during the embedding process. This allows you to:\n",
    "\n",
    "* Narrow searches to specific document types, time periods, or authors\n",
    "* Combine semantic similarity with metadata constraints\n",
    "* Improve search performance by reducing the candidate pool\n",
    "\n",
    "For practical examples of selector usage, refer to the embedding creation code above where we defined our custom properties."
   ]
  },
  {
   "cell_type": "code",
   "execution_count": 4,
   "id": "2560d42f-dabb-428b-ae94-8205c992703d",
   "metadata": {},
   "outputs": [
    {
     "name": "stdout",
     "output_type": "stream",
     "text": [
      "[['<http://franz.com/vdb/id/1279>',\n",
      "  0.6333528,\n",
      "  'Though it is natural for doctrinal systems to seek to induce pessimism, '\n",
      "  'hopelessness, and despair, reality is different. There has been substantial '\n",
      "  'progress in the unending quest for justice and freedom in recent years, '\n",
      "  'leaving a legacy that can be carried forward from a higher plane than '\n",
      "  'before. Opportunities for education and organizing abound. As in the past, '\n",
      "  'rights are not likely to be granted by benevolent authorities, or won by '\n",
      "  'intermittent actionsattending a few demonstrations or pushing a lever in '\n",
      "  'the personalized quadrennial extravaganzas that are depicted as \"democratic '\n",
      "  'politics.\" As always in the past, the tasks require dedicated day-by-day '\n",
      "  'engagement to createin part re-createthe basis for a functioning democratic '\n",
      "  'culture in which the public plays some role in determining policies, not '\n",
      "  'only in the political arena, from which it is largely excluded, but also in '\n",
      "  'the crucial economic arena, from which it is excluded in principle. There '\n",
      "  'are many ways to promote democracy at',\n",
      "  [],\n",
      "  []],\n",
      " ['<http://franz.com/vdb/id/1379>',\n",
      "  0.4999426,\n",
      "  'These range from very general principles, such as the truism that we should '\n",
      "  'apply to ourselves the same standards we do to others (if not harsher '\n",
      "  'ones), to more specific doctrines, such as a dedication to promoting '\n",
      "  'democracy and human rights, which is proclaimed almost universally, even by '\n",
      "  'the worst monsters – though the actual record is grim, across the '\n",
      "  'spectrum.\\n'\n",
      "  '\\n'\n",
      "  'A good place to start is with John Stuart Mill’s classic “On Liberty.” Its '\n",
      "  'epigraph formulates “The grand, leading principle, towards which every '\n",
      "  'argument unfolded in these pages directly converges: the absolute and '\n",
      "  'essential importance of human development in its richest diversity.”\\n'\n",
      "  '\\n'\n",
      "  'The words are quoted from Wilhelm von Humboldt, a founder of classical '\n",
      "  'liberalism. It follows that institutions that constrain such development '\n",
      "  'are illegitimate, unless they can somehow justify themselves.\\n'\n",
      "  '\\n'\n",
      "  'Concern for the common good should impel us to find ways to cultivate human '\n",
      "  'development in its richest diversity.',\n",
      "  [],\n",
      "  []],\n",
      " ['<http://franz.com/vdb/id/476>',\n",
      "  0.49542874,\n",
      "  'The 1960s witnessed a dramatic renewal of the democratic spirit in America. '\n",
      "  'The predominant trends of that decade involved the challenging of the '\n",
      "  'authority of established political, social, and economic institutions, '\n",
      "  'increased popular participation in and control over those institutions, a '\n",
      "  'reaction against the concentration of power in the executive branch of the '\n",
      "  'federal government and in favor of the reassertion of the power of Congress '\n",
      "  'and of state and local government, renewed commitment to the idea of '\n",
      "  'equality on the part of intellectuals and other elites, the emergence of '\n",
      "  '\"public interest\" lobbying groups, increased concern for the rights of and '\n",
      "  'provision of opportunities for minorities and women to participate in the '\n",
      "  'polity and economy, and a pervasive criticism of those who possessed or '\n",
      "  'were even thought to possess excessive power or wealth. The spirit of '\n",
      "  'protest, the spirit of equality, the impulse to expose and correct '\n",
      "  'inequities were abroad in the land. The themes of the',\n",
      "  [],\n",
      "  []],\n",
      " ['<http://franz.com/vdb/id/99>',\n",
      "  0.49476543,\n",
      "  'Where there are structures of authority, domination, and hierarchysomebody '\n",
      "  'gives the orders and somebody takes themthey are not self-justifying. They '\n",
      "  'have to justify themselves. They have a burden of proof to meet. If you '\n",
      "  \"take a close look, usually you find they can't justify themselves. If they \"\n",
      "  \"can't, we ought to be dismantling themtrying to expand the domain of \"\n",
      "  'freedom and justice by dismantling that form of illegitimate authority. '\n",
      "  \"That's another task for an organized, committed, dedicated population: not \"\n",
      "  \"just to regulate them, but to ask why they're there. This comes straight \"\n",
      "  'out of the libertarian element of the Enlightenment and classical liberal '\n",
      "  \"thought. It's also the core principle of anarchism, but that's democracy as \"\n",
      "  \"well. I don't think they're in opposition in any respect. They're just \"\n",
      "  'different ways of looking at the same kind of problempopular decision '\n",
      "  'making in the hands of people who are concerned with the decisions and '\n",
      "  'their impact. And, in fact, progress over the',\n",
      "  [],\n",
      "  []],\n",
      " ['<http://franz.com/vdb/id/1686>',\n",
      "  0.4830721,\n",
      "  'Democratic Communications Policy',\n",
      "  [],\n",
      "  '\"entity_extractor\"']]\n"
     ]
    }
   ],
   "source": [
    "from pprint import pprint\n",
    "\n",
    "result = conn.nearest_neighbor(\"Democratic culture and organizing principles based on the unending quest for justice and freedom\")\n",
    "pprint(result)"
   ]
  },
  {
   "cell_type": "markdown",
   "id": "ae1df9fa-ee9f-4dac-84dd-32249845c131",
   "metadata": {},
   "source": [
    "## ## Limiting scope of vector search\n",
    "\n",
    "While semantic similarity is powerful, you can make your searches more precise by filtering based on document properties. Here's how to narrow your search to specific document types, like Chomsky's articles.\n",
    "\n",
    "### Selector Syntax\n",
    "The selector parameter accepts a SPARQL-like query pattern that filters embeddings based on their properties. \n",
    "\n",
    "* Omit the `SELECT` statement - the selector is a pattern, not a complete query\n",
    "* Always use `?id` as the subject variable\n",
    "* Construct property predicates by combining the base URI <http://franz.com/vdb/prop/> with your property keys\n",
    "* Maintain the curly braces `{}` around your pattern\n",
    "\n",
    "These property predicates correspond directly to the keys we defined earlier in the properties dictionary when creating our embeddings."
   ]
  },
  {
   "cell_type": "code",
   "execution_count": 6,
   "id": "f036320c-e273-4c75-aa0c-7c0583366b6b",
   "metadata": {},
   "outputs": [
    {
     "name": "stdout",
     "output_type": "stream",
     "text": [
      "[['<http://franz.com/vdb/id/1379>',\n",
      "  0.4999426,\n",
      "  'These range from very general principles, such as the truism that we should '\n",
      "  'apply to ourselves the same standards we do to others (if not harsher '\n",
      "  'ones), to more specific doctrines, such as a dedication to promoting '\n",
      "  'democracy and human rights, which is proclaimed almost universally, even by '\n",
      "  'the worst monsters – though the actual record is grim, across the '\n",
      "  'spectrum.\\n'\n",
      "  '\\n'\n",
      "  'A good place to start is with John Stuart Mill’s classic “On Liberty.” Its '\n",
      "  'epigraph formulates “The grand, leading principle, towards which every '\n",
      "  'argument unfolded in these pages directly converges: the absolute and '\n",
      "  'essential importance of human development in its richest diversity.”\\n'\n",
      "  '\\n'\n",
      "  'The words are quoted from Wilhelm von Humboldt, a founder of classical '\n",
      "  'liberalism. It follows that institutions that constrain such development '\n",
      "  'are illegitimate, unless they can somehow justify themselves.\\n'\n",
      "  '\\n'\n",
      "  'Concern for the common good should impel us to find ways to cultivate human '\n",
      "  'development in its richest diversity.',\n",
      "  [],\n",
      "  []],\n",
      " ['<http://franz.com/vdb/id/1378>',\n",
      "  0.47978848,\n",
      "  'Jared Rodriguez / Truthout; Adapted: Brian Hillegas, Reigh LeBlanc, '\n",
      "  'abrinsky)” width=”308″ height=”402″ />(Image: Jared Rodriguez / Truthout; '\n",
      "  'Adapted: Brian Hillegas, Reigh LeBlanc, abrinsky)This article is adapted '\n",
      "  'from a Dewey Lecture by Noam Chomsky at Columbia University in New York on '\n",
      "  'Dec. 6, 2013.\\n'\n",
      "  '\\n'\n",
      "  'Humans are social beings, and the kind of creature that a person becomes '\n",
      "  'depends crucially on the social, cultural and institutional circumstances '\n",
      "  'of his life.\\n'\n",
      "  '\\n'\n",
      "  'We are therefore led to inquire into the social arrangements that are '\n",
      "  'conducive to people’s rights and welfare, and to fulfilling their just '\n",
      "  'aspirations – in brief, the common good.\\n'\n",
      "  '\\n'\n",
      "  'For perspective I’d like to invoke what seem to me virtual truisms. They '\n",
      "  'relate to an interesting category of ethical principles: those that are not '\n",
      "  'only universal, in that they are virtually always professed, but also '\n",
      "  'doubly universal, in that at the same time they are almost universally '\n",
      "  'rejected in practice.',\n",
      "  [],\n",
      "  []],\n",
      " ['<http://franz.com/vdb/id/1351>',\n",
      "  0.45458844,\n",
      "  'A society in which this is the predominant voice can be maintained only '\n",
      "  'through some form of national mobilization, which may range in its extent '\n",
      "  'from, at the minimum, a commitment of substantial resources to a credible '\n",
      "  'threat of force and violence.\\n'\n",
      "  '\\n'\n",
      "  'Given the realities of international politics, this commitment can be '\n",
      "  'maintained in the United States only by a form of national psychosis – a '\n",
      "  'war against an enemy who appears in many guises: Kremlin bureaucrat, Asian '\n",
      "  'peasant, Latin American student, and, no doubt, \"urban guerrilla\" at home.\\n'\n",
      "  '\\n'\n",
      "  'The intellectual has, traditionally, been caught between the conflicting '\n",
      "  'demands of truth and power. He would like to see himself as the man who '\n",
      "  'seeks to discern the truth, to tell the truth as he sees it, to act – '\n",
      "  'collectively where he can, alone where he must – to oppose injustice and '\n",
      "  'oppression, to help bring a better social order into being.',\n",
      "  [],\n",
      "  []],\n",
      " ['<http://franz.com/vdb/id/1390>',\n",
      "  0.44860882,\n",
      "  'Today the successors to Jefferson’s “aristocrats” might argue about who '\n",
      "  'should play the guiding role: technocratic and policy-oriented '\n",
      "  'intellectuals, or bankers and corporate executives.\\n'\n",
      "  '\\n'\n",
      "  'It is this political guardianship that the genuine libertarian tradition '\n",
      "  'seeks to dismantle and reconstruct from below, while also changing '\n",
      "  'industry, as Dewey put it, “from a feudalistic to a democratic social '\n",
      "  'order” based on workers’ control, respecting the dignity of the producer as '\n",
      "  'a genuine person, not a tool in the hands of others.\\n'\n",
      "  '\\n'\n",
      "  'Like Karl Marx’s Old Mole – “our old friend, our old mole, who knows so '\n",
      "  'well how to work underground, then suddenly to emerge” – the libertarian '\n",
      "  'tradition is always burrowing close to the surface, always ready to peek '\n",
      "  'through, sometimes in surprising and unexpected ways, seeking to bring '\n",
      "  'about what seems to me to be a reasonable approximation to the common '\n",
      "  'good.\\n'\n",
      "  '\\n'\n",
      "  '© 2014 Noam Chomsky\\n'\n",
      "  '\\n'\n",
      "  'Distributed by The New York Times Syndicate',\n",
      "  [],\n",
      "  []],\n",
      " ['<http://franz.com/vdb/id/1356>',\n",
      "  0.44480103,\n",
      "  'They must be willing to undertake the hard and serious intellectual work '\n",
      "  'that is required for a real contribution to understanding. They must avoid '\n",
      "  'the temptation to join a repressive elite and must help create the mass '\n",
      "  'politics that will counteract – and ultimately control and replace – the '\n",
      "  'strong tendencies toward centralization and authoritarianism that are '\n",
      "  'deeply rooted but not inescapable.\\n'\n",
      "  '\\n'\n",
      "  'They must be prepared to face repression and to act in defense of the '\n",
      "  'values they profess. In an advanced industrial society, many possibilities '\n",
      "  'exist for active popular participation in the control of major institutions '\n",
      "  'and the reconstruction of social life.\\n'\n",
      "  '\\n'\n",
      "  'To some extent, we can create the future rather than merely observing the '\n",
      "  'flow of events. Given the stakes, it would be criminal to let real '\n",
      "  'opportunities pass unexplored.',\n",
      "  [],\n",
      "  []]]\n"
     ]
    }
   ],
   "source": [
    "selector = \"\"\"{ ?id <http://franz.com/vdb/prop/documentType> \"Article\"}\"\"\"\n",
    "\n",
    "result = conn.nearest_neighbor(\n",
    "    \"Democratic culture and organizing principles based on the unending quest for justice and freedom\",\n",
    "    selector=selector\n",
    ")\n",
    "pprint(result)"
   ]
  },
  {
   "cell_type": "markdown",
   "id": "a015fae0-d999-4438-b2ea-19ed129786f4",
   "metadata": {},
   "source": [
    "Notice that we now get different results!\n",
    "\n",
    "We also added book names as our properties, so we can limit the search to both a book, and a specific one at that!"
   ]
  },
  {
   "cell_type": "code",
   "execution_count": 7,
   "id": "5b92a0ec-f13e-4baf-8ec8-ea58b4e93b93",
   "metadata": {},
   "outputs": [
    {
     "name": "stdout",
     "output_type": "stream",
     "text": [
      "[['<http://franz.com/vdb/id/1279>',\n",
      "  0.5564257,\n",
      "  'Though it is natural for doctrinal systems to seek to induce pessimism, '\n",
      "  'hopelessness, and despair, reality is different. There has been substantial '\n",
      "  'progress in the unending quest for justice and freedom in recent years, '\n",
      "  'leaving a legacy that can be carried forward from a higher plane than '\n",
      "  'before. Opportunities for education and organizing abound. As in the past, '\n",
      "  'rights are not likely to be granted by benevolent authorities, or won by '\n",
      "  'intermittent actionsattending a few demonstrations or pushing a lever in '\n",
      "  'the personalized quadrennial extravaganzas that are depicted as \"democratic '\n",
      "  'politics.\" As always in the past, the tasks require dedicated day-by-day '\n",
      "  'engagement to createin part re-createthe basis for a functioning democratic '\n",
      "  'culture in which the public plays some role in determining policies, not '\n",
      "  'only in the political arena, from which it is largely excluded, but also in '\n",
      "  'the crucial economic arena, from which it is excluded in principle. There '\n",
      "  'are many ways to promote democracy at',\n",
      "  [],\n",
      "  []],\n",
      " ['<http://franz.com/vdb/id/1159>',\n",
      "  0.49161306,\n",
      "  'The concern is not unfamiliar. The most prominent scholar who concentrates '\n",
      "  'on democratic theory and practice, Robert Dahl, has written on seriously '\n",
      "  'undemocratic features of the US political system, proposing modifications. '\n",
      "  'Thomas Ferguson\\'s \"investment theory\" of politics is a searching critique '\n",
      "  'of deeper institutional factors that sharply restrict functioning '\n",
      "  \"democracy. The same is true of Robert McChesney's investigations of the \"\n",
      "  'role of the media in undermining democratic politics, to the extent that by '\n",
      "  'the year 2000 presidential elections had become a \"travesty,\" he concludes, '\n",
      "  'with a reciprocal effect on deterioration of media quality and service to '\n",
      "  'the public interest. Subversion of democracy by concentrations of private '\n",
      "  'power is, of course, familiar: mainstream commentators casually observe '\n",
      "  'that \"business is in complete control of the machinery of government\" '\n",
      "  \"(Robert Reich), echoing Woodrow Wilson's observation, days before he took \"\n",
      "  'office, that \"the masters of the government of',\n",
      "  [],\n",
      "  []],\n",
      " ['<http://franz.com/vdb/id/1140>',\n",
      "  0.44857457,\n",
      "  'of Italian democracy continued actively at least into the 1970s. A more '\n",
      "  'general task in liberated areas was to undermine the labor movement and the '\n",
      "  'left, while restoring much of the traditional political and economic '\n",
      "  'structure, often returning fascist collaborators to positions of authority. '\n",
      "  'Initiatives to subvert democracy continued for many years, in southern '\n",
      "  'Europe particularly. Substantial efforts were also devoted to deterring the '\n",
      "  'threat of genuine democracy in Japan.26',\n",
      "  [],\n",
      "  []],\n",
      " ['<http://franz.com/vdb/id/1010>',\n",
      "  0.42864677,\n",
      "  'interests, the United States promotes democracy. Where democracy clashes '\n",
      "  'with other significant interests, it is downplayed or even ignored.\" All '\n",
      "  'administrations are \"schizophrenic\" in this regard, Carothers observes, '\n",
      "  'with puzzling consistencycommonly called \"inconsistency.\"94',\n",
      "  [],\n",
      "  []],\n",
      " ['<http://franz.com/vdb/id/21>',\n",
      "  0.42838585,\n",
      "  'No one familiar with history should be surprised that the growing '\n",
      "  'democratic deficit in the United States is accompanied by declaration of '\n",
      "  'messianic missions to bring democracy to a suffering world. Declarations of '\n",
      "  'noble intent by systems of power are rarely complete fabrication, and the '\n",
      "  'same is true in this case. Under some conditions, forms of democracy are '\n",
      "  'indeed acceptable. Abroad, as the leading scholar-advocate of \"democracy '\n",
      "  'promotion\" concludes, we find a \"strong line of continuity\": democracy is '\n",
      "  'acceptable if and only if it is consistent with strategic and economic '\n",
      "  'interests (Thomas Carothers). In modified form, the doctrine holds at home '\n",
      "  'as well.',\n",
      "  [],\n",
      "  []]]\n"
     ]
    }
   ],
   "source": [
    "selector = \"\"\"{ ?id <http://franz.com/vdb/prop/documentType> \"Book\" ;\n",
    "                    <http://franz.com/vdb/prop/name> \"Failed States\" . }\"\"\"\n",
    "\n",
    "result = conn.nearest_neighbor(\"Political systems and activism\", selector=selector)\n",
    "pprint(result)"
   ]
  },
  {
   "cell_type": "markdown",
   "id": "72dc594b-ab97-4760-a169-2b16c07db5e8",
   "metadata": {},
   "source": [
    "# Ask my Documents with GraphRAG\n",
    "\n",
    "AllegroGraph's `askMyDocuments` predicate combines vector similarity search with `Large Language Model (LLM)` capabilities to provide context-aware answers from your document collection. This feature:\n",
    "\n",
    "* Retrieves the most relevant document segments using semantic search\n",
    "* Uses an LLM to synthesize a coherent answer\n",
    "* Provides transparency by returning the source text used to generate the response\n",
    "\n",
    "### Core Query Structure\n",
    "The `askMyDocuments` magic predicate is implemented through a SPARQL query that orchestrates the GraphRAG process:\n",
    "\n",
    "```\n",
    "PREFIX llm: <http://franz.com/ns/allegrograph/8.0.0/llm/> \n",
    "PREFIX prop: <http://franz.com/vdb/prop/> # Prefix with which embedding properties are stored\n",
    "PREFIX franzOption_openaiApiKey: <franz:{api_key}>  # add your API key, can also be set in config file or AGWebView\n",
    "\n",
    "SELECT ?response ?score ?citation ?content WHERE {\n",
    "    ( ?response ?score ?citation ?content )\n",
    "        llm:askMyDocuments\n",
    "    ( \"your question\"            # the question to answer\n",
    "      \"vector-store\"             # the name of the vector store. In this case the repo and vector store are the same!\n",
    "      topN                       # the number of results\n",
    "      minScore                   # the minimum matching score\n",
    "      keyword:selector \"{}\" ) }  # Can add selector pattern in {}\n",
    "```\n",
    "\n",
    "The query returns:\n",
    "\n",
    "* `?response`: The LLM-generated answer\n",
    "* `?score`: Confidence score for the response\n",
    "* `?citation`: Reference to the source document\n",
    "* `?content`: Original text used to generate the answer\n",
    "\n",
    "We'll wrap this functionality in a Python function for easier use."
   ]
  },
  {
   "cell_type": "code",
   "execution_count": 88,
   "id": "9ae781ce-4995-409f-a6c8-dc3a23da5e4e",
   "metadata": {},
   "outputs": [],
   "source": [
    "def askMyDocuments(conn, api_key, question, n=5, min_score=0, selector=None):\n",
    "    if selector:\n",
    "        selector = f\"\"\"keyword:selector '{selector}' \"\"\"\n",
    "    else:\n",
    "        selector=''\n",
    "    query_string = f\"\"\"\n",
    "        PREFIX llm: <http://franz.com/ns/allegrograph/8.0.0/llm/> \n",
    "        PREFIX prop: <http://franz.com/vdb/prop/>\n",
    "        PREFIX franzOption_openaiApiKey: <franz:{api_key}> \n",
    "        \n",
    "        SELECT ?response ?score ?citation ?content WHERE {{\n",
    "            ( ?response ?score ?citation ?content )\n",
    "                llm:askMyDocuments\n",
    "            ( \"{question}\" \"chomsky-embedding\" {str(n)} {str(min_score)} {selector} ) . }}\"\"\"\n",
    "    result = conn.prepareTupleQuery(QueryLanguage.SPARQL, query_string).evaluate()\n",
    "    results = []\n",
    "    with result:\n",
    "        for binding_set in result:\n",
    "            results.append(\n",
    "                {\n",
    "                    \"response\": binding_set.getValue('response').label,\n",
    "                    \"score\": binding_set.getValue('score').floatValue(),\n",
    "                    \"citation\": binding_set.getValue('citation'),\n",
    "                    \"content\": binding_set.getValue('content').label\n",
    "                }\n",
    "            )\n",
    "    return results"
   ]
  },
  {
   "cell_type": "code",
   "execution_count": 89,
   "id": "3f2a6e14-1414-46e4-ac8b-7c0105c6feec",
   "metadata": {},
   "outputs": [
    {
     "data": {
      "text/plain": [
       "[{'response': \"The discussion revolves around authority structures and their lack of self-justification, with a call for dismantling illegitimate ones to expand freedom, aligning with libertarian and anarchist principles. There's also an examination of how 'anti-American' is a term used uniquely in the US to label critics, reflecting a totalitarian notion more common in non-free societies. Meanwhile, leftist radicalism is seen as growing but remains a minor concern. Critics across societies face vilification, but the US, despite its flaws, offers substantial freedom. Lastly, debates on wars, notably by Walzer, illustrate polarized views with some left critics seen as unjustly accused, highlighting challenges in intellectual discourse.\",\n",
       "  'score': 0.47449344,\n",
       "  'citation': <http://franz.com/vdb/id/99>,\n",
       "  'content': \"Where there are structures of authority, domination, and hierarchysomebody gives the orders and somebody takes themthey are not self-justifying. They have to justify themselves. They have a burden of proof to meet. If you take a close look, usually you find they can't justify themselves. If they can't, we ought to be dismantling themtrying to expand the domain of freedom and justice by dismantling that form of illegitimate authority. That's another task for an organized, committed, dedicated population: not just to regulate them, but to ask why they're there. This comes straight out of the libertarian element of the Enlightenment and classical liberal thought. It's also the core principle of anarchism, but that's democracy as well. I don't think they're in opposition in any respect. They're just different ways of looking at the same kind of problempopular decision making in the hands of people who are concerned with the decisions and their impact. And, in fact, progress over the\"},\n",
       " {'response': \"The discussion revolves around authority structures and their lack of self-justification, with a call for dismantling illegitimate ones to expand freedom, aligning with libertarian and anarchist principles. There's also an examination of how 'anti-American' is a term used uniquely in the US to label critics, reflecting a totalitarian notion more common in non-free societies. Meanwhile, leftist radicalism is seen as growing but remains a minor concern. Critics across societies face vilification, but the US, despite its flaws, offers substantial freedom. Lastly, debates on wars, notably by Walzer, illustrate polarized views with some left critics seen as unjustly accused, highlighting challenges in intellectual discourse.\",\n",
       "  'score': 0.40351173,\n",
       "  'citation': <http://franz.com/vdb/id/13>,\n",
       "  'content': 'The sources are varied and diffused. They include, not unexpectedly, the Communists, New Leftists and other revolutionaries who would destroy the entire system, both political and economic. These extremists of the left are far more numerous, better financed, and increasingly are more welcomed and encouraged by other elements of society, than ever before in our history. But they remain a small minority, and are not yet the principal cause for concern.'},\n",
       " {'response': \"The discussion revolves around authority structures and their lack of self-justification, with a call for dismantling illegitimate ones to expand freedom, aligning with libertarian and anarchist principles. There's also an examination of how 'anti-American' is a term used uniquely in the US to label critics, reflecting a totalitarian notion more common in non-free societies. Meanwhile, leftist radicalism is seen as growing but remains a minor concern. Critics across societies face vilification, but the US, despite its flaws, offers substantial freedom. Lastly, debates on wars, notably by Walzer, illustrate polarized views with some left critics seen as unjustly accused, highlighting challenges in intellectual discourse.\",\n",
       "  'score': 0.39711443,\n",
       "  'citation': <http://franz.com/vdb/id/585>,\n",
       "  'content': 'This notion of being \"anti-American\" is quite an interesting oneit\\'s actually a totalitarian notionit isn\\'t used in free societies. If someone in Italy criticized Berlusconi or the corruption of the Italian state, they\\'re not called \"anti-Italian.\" In fact, if they were called anti-Italian, people would collapse in laughter in the streets of Rome or Milan. In totalitarian states the notion is used. In the old Soviet Union, dissidents were called \"anti-Soviet\"that was the worst condemnation. In the Brazilian military dictatorship they were called \"anti-Brazilian.\" But these concepts only arise in a culture where the state is identified with the society, the culture, the people, and so on. So if you criticize state powerand by state I mean generally not just government but state corporate powerif you criticize concentrated power, you\\'re against the society, you\\'re against the people. It\\'s quite striking that this is used in the United States, and in fact as far as I know, we are the only'},\n",
       " {'response': \"The discussion revolves around authority structures and their lack of self-justification, with a call for dismantling illegitimate ones to expand freedom, aligning with libertarian and anarchist principles. There's also an examination of how 'anti-American' is a term used uniquely in the US to label critics, reflecting a totalitarian notion more common in non-free societies. Meanwhile, leftist radicalism is seen as growing but remains a minor concern. Critics across societies face vilification, but the US, despite its flaws, offers substantial freedom. Lastly, debates on wars, notably by Walzer, illustrate polarized views with some left critics seen as unjustly accused, highlighting challenges in intellectual discourse.\",\n",
       "  'score': 0.39156547,\n",
       "  'citation': <http://franz.com/vdb/id/9>,\n",
       "  'content': 'Now it\\'s true that in just about every society, critics are maligned or mistreated. In different ways depending on the nature of the society, like maybe in the old Soviet Union in the \\'80s they would be imprisoned, or in El Salvador at the same time dissidents would have their brains blown out by US state-run terrorist forces. In other societies critics are just condemned, they\\'re vilified and so on. I mean, that\\'s normal, to be expected, and in the United States, one of the terms of abuse is \"anti-American.\" There\\'s an array of terms of abuse, like \"Marxist,\" but it doesn\\'t matter really, it\\'s a very free society. With everything that you can criticize it remains in many ways the freest society in the world. There\\'s repression, but among relatively privileged people, which is a big majority of the population, you have a very high degree of freedom. So if you\\'re vilified by some commissars, who cares, you go onyou do your work anyway.'},\n",
       " {'response': \"The discussion revolves around authority structures and their lack of self-justification, with a call for dismantling illegitimate ones to expand freedom, aligning with libertarian and anarchist principles. There's also an examination of how 'anti-American' is a term used uniquely in the US to label critics, reflecting a totalitarian notion more common in non-free societies. Meanwhile, leftist radicalism is seen as growing but remains a minor concern. Critics across societies face vilification, but the US, despite its flaws, offers substantial freedom. Lastly, debates on wars, notably by Walzer, illustrate polarized views with some left critics seen as unjustly accused, highlighting challenges in intellectual discourse.\",\n",
       "  'score': 0.38240463,\n",
       "  'citation': <http://franz.com/vdb/id/418>,\n",
       "  'content': '\"I think\" or \"seems to me entirely justified.\" Campus opponents of what Walzer designates as just US wars are \"pacifists,\" he informs us, but \"pacifism\" is a \"bad argument\" because he thinks violence is sometimes legitimate. We may well agree (I do), but \"I think\" is hardly an overwhelming argument in the real world cases that he discusses. His adversaries \"on the left\" are unidentified, apart from Edward Said \"and (more intelligent and circumspect) Richard Falk,\" who give \"excuses\" for terror; what the \"excuses\" are we are not told. Walzer\\'s \"arguments about war\" are primarily directed against \"many people on the left,\" \"some critics of the war,\" \"a lot of talk,\" \"leftists,\" \"great simplifiers,\" and so on, all unidentifiable; and, routinely, Arabs. It is an interesting comment on the prevailing moral-intellectual culture that unsupported slander of opponents who are unidentified is considered legitimate practice, particularly among those who modestly describe themselves as \"the'}]"
      ]
     },
     "execution_count": 89,
     "metadata": {},
     "output_type": "execute_result"
    }
   ],
   "source": [
    "test = askMyDocuments(conn, API_KEY, \"what does Chomsky think of anarchism\", selector='{ ?id prop:documentType \"Book\" }')\n",
    "test"
   ]
  },
  {
   "cell_type": "markdown",
   "id": "7bc628a3-5642-4fb4-a11d-7d554edbd487",
   "metadata": {},
   "source": [
    "# Automated Concept Extraction Using LLMs and Vector Search\n",
    "Traditional entity extraction often requires complex NLP pipelines or custom extractors. We'll demonstrate a more elegant approach that combines LLM capabilities with vector search to automatically identify and link concepts from your text to a structured taxonomy.\n",
    "\n",
    "## Overview of the Process\n",
    "\n",
    "Our approach uses two key components:\n",
    "\n",
    "* `llm:response` predicate: Leverages LLM capabilities to identify significant terms within text\n",
    "* `nearest_neighbor` search: Maps identified terms to formal concepts in our taxonomy\n",
    "\n",
    "## The Chomsky Taxonomy\n",
    "\n",
    "Our repository includes a comprehensive taxonomy covering:\n",
    "\n",
    "* People: Historical figures, philosophers, politicians\n",
    "* Places: Countries, regions, institutions\n",
    "* Concepts: Political theories, linguistic terms, social movements\n",
    "\n",
    "We'll focus on leaf concepts (those without narrower terms) and create embeddings that capture both:\n",
    "\n",
    "* `skos:prefLabel`: Standard terms\n",
    "* `skos:altLabel`: Synonyms and variants\n",
    "\n",
    "Each embedding will be enriched with:\n",
    "\n",
    "* Concept categorization as a property\n",
    "* links to the original taxonomy concept\n",
    "\n",
    "This structure enables:\n",
    "\n",
    "* Precise concept extraction from text\n",
    "* Hierarchical navigation of extracted concepts\n",
    "* Relationship discovery through taxonomy connections\n",
    "\n",
    "The resulting system provides a powerful way to automatically annotate text with structured conceptual metadata, enabling sophisticated semantic analysis and retrieval. "
   ]
  },
  {
   "cell_type": "code",
   "execution_count": 57,
   "id": "f360ac74-d7d0-4eee-bc09-fa0bf3cf4bb9",
   "metadata": {},
   "outputs": [
    {
     "name": "stderr",
     "output_type": "stream",
     "text": [
      "100%|██████████████████████████████████████████████████████████████████████████████████████████████████████████████████| 1339/1339 [23:24<00:00,  1.05s/it]\n"
     ]
    }
   ],
   "source": [
    "query_string = \"\"\"\n",
    "SELECT ?concept ?label ?broader ?broaderPref WHERE {\n",
    "  ?broader skos:narrower ?concept ;\n",
    "           skos:prefLabel ?broaderPref .\n",
    "  ?concept skos:prefLabel|skos:altLabel .\n",
    "\n",
    "  FILTER NOT EXISTS { ?concept skos:narrower ?narrower . }\n",
    "}\n",
    "\"\"\"\n",
    "result = conn.prepareTupleQuery(QueryLanguage.SPARQL, query_string).evaluate()\n",
    "\n",
    "triples = []\n",
    "with result:\n",
    "    for binding_set in tqdm(result):\n",
    "        concept = binding_set.getValue('concept')\n",
    "        label = binding_set.getValue('label').label\n",
    "        broader = binding_set.getValue('broader')\n",
    "        broaderPref = binding_set.getValue('broaderPref').label\n",
    "        \n",
    "        vector_id = conn.add_objects(\n",
    "            label,\n",
    "            properties = {\n",
    "                \"type\": \"entity_extractor\",\n",
    "                \"broaderPref\": broaderPref\n",
    "            }\n",
    "        )\n",
    "        vector_uri = conn.createURI(vector_id)\n",
    "        \n",
    "        triples.append((concept, c.vectorId, vector_uri))\n",
    "        \n",
    "conn.addTriples(triples)"
   ]
  },
  {
   "cell_type": "markdown",
   "id": "846ee927-049e-4ccc-b330-a44f1b1dbd39",
   "metadata": {},
   "source": [
    "## Two-Stage Concept Extraction Pipeline\n",
    "\n",
    "Let's break down our intelligent concept extraction process that combines LLM entity recognition with vector-based concept mapping.\n",
    "\n",
    "### Process Overview\n",
    "\n",
    "Our SPARQL query orchestrates a sophisticated pipeline:\n",
    "\n",
    "#### Stage 1: LLM Entity Recognition\n",
    "\n",
    "First, we use llm:response to leverage LLM capabilities for identifying key entities:\n",
    "\n",
    "* The LLM analyzes the input text\n",
    "* Extracts mentions of people, places, and concepts\n",
    "* Returns these as a structured list in the ?response variable\n",
    "\n",
    "#### Stage 2: Concept Mapping\n",
    "\n",
    "Then, we take each extracted entity and map it to our taxonomy:\n",
    "\n",
    "* Use `nearest_neighbor` to find the closest matching concept embeddings\n",
    "* Leverage our pre-established vector ID to concept URI mappings\n",
    "* Retrieve the formal preferred labels and concept metadata\n",
    "\n",
    "#### Benefits of This Approach\n",
    "\n",
    "This two-stage process combines:\n",
    "\n",
    "* The flexibility and contextual understanding of LLMs for entity recognition\n",
    "* The precision and structure of our embedded taxonomy for standardization\n",
    "* The power of vector similarity for handling variations and synonyms\n",
    "\n",
    "The result is a robust system that can identify and standardize concepts even when they appear in different forms or contexts within the text."
   ]
  },
  {
   "cell_type": "code",
   "execution_count": 92,
   "id": "ad66780d-25c6-40af-ac24-d257af4457c4",
   "metadata": {},
   "outputs": [],
   "source": [
    "def extract_concepts(conn, text, n=3, min_score=.5, broader=None):\n",
    "    if broader:\n",
    "        selector = f\"?id prop:broaderPref '{broader}' . \"\n",
    "    else:\n",
    "        selector = \"\"\n",
    "    query_string = f\"\"\"\n",
    "        PREFIX llm: <http://franz.com/ns/allegrograph/8.0.0/llm/> \n",
    "        PREFIX prop: <http://franz.com/vdb/prop/>\n",
    "        PREFIX franzOption_openaiApiKey: <franz:{API_KEY}>  \n",
    "\n",
    "        SELECT DISTINCT ?concept ?pref ?score WHERE {{\n",
    "          \n",
    "          {{SELECT ?response WHERE {{\n",
    "              ?response llm:response '''Extract the important people, places, and concepts from the following text: {text}''' .\n",
    "          }} }}\n",
    "          \n",
    "          (?vector_id ?score) llm:nearestNeighbor (?response \"chomsky-embedding\" {str(n)} {str(min_score)} \n",
    "                    keyword:selector \"{{ ?id prop:type 'entity_extractor' . {selector} }}\" ) . \n",
    "          ?concept c:vectorId ?vector_id ;\n",
    "                  skos:prefLabel ?pref . }}\"\"\"\n",
    "    results = []\n",
    "    result = conn.prepareTupleQuery(QueryLanguage.SPARQL, query_string).evaluate()\n",
    "    with result:\n",
    "        for binding_set in result:\n",
    "            results.append(\n",
    "                {\n",
    "                    \"concept\": binding_set.getValue('concept'),\n",
    "                    \"pref\": binding_set.getValue('pref').label,\n",
    "                    \"score\": binding_set.getValue('score').floatValue()\n",
    "                }\n",
    "            )\n",
    "    return results\n",
    "                    "
   ]
  },
  {
   "cell_type": "code",
   "execution_count": 62,
   "id": "5dca19ef-3277-4992-a77d-f46a11e5c9e1",
   "metadata": {},
   "outputs": [
    {
     "name": "stdout",
     "output_type": "stream",
     "text": [
      "{'concept': <https://allegrograph.poolparty.biz/MLUPCM/1624>, 'pref': 'Barack Obama', 'score': 0.9997594}\n",
      "\n",
      "{'concept': <https://allegrograph.poolparty.biz/MLUPCM/234>, 'pref': 'United States', 'score': 1.0000001}\n",
      "\n"
     ]
    }
   ],
   "source": [
    "results = extract_concepts(conn, \"Barack Obama was elected in 2008 in the United States\", min_score=.95)\n",
    "for result in results:\n",
    "    print(result)\n",
    "    print()"
   ]
  },
  {
   "cell_type": "markdown",
   "id": "725ddb15-5f87-4891-bc32-cae5a2c941eb",
   "metadata": {},
   "source": [
    "## Now with a broader label specified\n",
    "\n",
    "Since we also specified the broader concept of each concept in the properties of the embeddings, we can narrow the search through a text. In this case, we only want to extract a \"President of the United States\""
   ]
  },
  {
   "cell_type": "code",
   "execution_count": 69,
   "id": "738426c3-35de-4c1d-a8af-2cd3e89a7467",
   "metadata": {},
   "outputs": [
    {
     "name": "stdout",
     "output_type": "stream",
     "text": [
      "{'concept': <https://allegrograph.poolparty.biz/MLUPCM/1624>, 'pref': 'Barack Obama', 'score': 0.9997617}\n",
      "\n"
     ]
    }
   ],
   "source": [
    "results = extract_concepts(conn, \"Obama is from the United States, Angela Merkel is from Germany\", broader=\"President of the United States\", min_score=.90)\n",
    "for result in results:\n",
    "    print(result)\n",
    "    print()"
   ]
  },
  {
   "cell_type": "markdown",
   "id": "07be40e4-c498-4d7c-89db-175cd79c4e82",
   "metadata": {},
   "source": [
    "Now one large chunk of text as an example!"
   ]
  },
  {
   "cell_type": "code",
   "execution_count": 98,
   "id": "ba0d4826-c868-473b-83a5-d9735ca22045",
   "metadata": {},
   "outputs": [
    {
     "name": "stdout",
     "output_type": "stream",
     "text": [
      "{'concept': <https://allegrograph.poolparty.biz/MLUPCM/1872>, 'pref': 'George H.W. Bush', 'score': 0.936558}\n",
      "\n",
      "{'concept': <https://allegrograph.poolparty.biz/MLUPCM/1871>, 'pref': 'Ronald Reagan', 'score': 0.9999998}\n",
      "\n",
      "{'concept': <https://allegrograph.poolparty.biz/MLUPCM/2020>, 'pref': 'Saddam Hussein', 'score': 1.0000002}\n",
      "\n",
      "{'concept': <https://allegrograph.poolparty.biz/MLUPCM/121>, 'pref': 'Iran', 'score': 1.0}\n",
      "\n",
      "{'concept': <https://allegrograph.poolparty.biz/MLUPCM/135>, 'pref': 'Kuwait', 'score': 0.9999997}\n",
      "\n"
     ]
    }
   ],
   "source": [
    "text = \"\"\"Reagan's successor, George H. W. Bush, went on to provide further aid to Saddam,\n",
    "badly needed after the war with Iran that he had launched. Bush also invited Iraqi nuclear engineers\n",
    "to come to the United States for advanced training in weapons production. In April 1990, he dispatched a\n",
    "high-level Senate delegation, led by future Republican presidential candidate Bob Dole, to convey his \n",
    "warm regards to his friend Saddam and to assure him that he should disregard irresponsible criticism from the\n",
    "\"haughty and pampered press,\" and that such miscreants had been removed from Voice of America.13 The fawning\n",
    "before Saddam continued until he suddenly turned into a new Hitler a few months later when he disobeyed orders,\n",
    "or perhaps misunderstood them, and invaded Kuwait, with illuminating consequences that I must leave aside here.\"\"\"\n",
    "results = extract_concepts(conn, text, min_score=.90)\n",
    "for result in results:\n",
    "    print(result)\n",
    "    print()"
   ]
  },
  {
   "cell_type": "markdown",
   "id": "daa34c6e-da25-4e0f-bc79-316b35de541f",
   "metadata": {},
   "source": [
    "# Some more Vector Store Utility Functions\n",
    "\n",
    "We start by doing a nearest neigbor search to get some vector id's "
   ]
  },
  {
   "cell_type": "code",
   "execution_count": 20,
   "id": "74c32f70-2a16-4a17-88bf-0c065035d9d9",
   "metadata": {},
   "outputs": [
    {
     "name": "stdout",
     "output_type": "stream",
     "text": [
      "http://franz.com/vdb/id/1279\n"
     ]
    }
   ],
   "source": [
    "result = conn.nearest_neighbor(\"Political systems and activism\")\n",
    "vector_id = result[0][0][1:-1]\n",
    "print(vector_id)"
   ]
  },
  {
   "cell_type": "markdown",
   "id": "66305c54-f9bf-48a7-b349-df61a32481db",
   "metadata": {},
   "source": [
    "1. `conn.object_property_value` - return the value of the given vector_id, and their property value"
   ]
  },
  {
   "cell_type": "code",
   "execution_count": 38,
   "id": "9a698d0a-dcdc-4823-97c7-6dd9bd8661e8",
   "metadata": {},
   "outputs": [
    {
     "name": "stdout",
     "output_type": "stream",
     "text": [
      "\"Book\"\n"
     ]
    }
   ],
   "source": [
    "result = conn.object_property_value(\n",
    "    vector_id,\n",
    "    \"documentType\"\n",
    ")\n",
    "print(result)"
   ]
  },
  {
   "cell_type": "markdown",
   "id": "fa067d2c-43ac-4d6e-b312-f0e4565057b7",
   "metadata": {},
   "source": [
    "2. `conn.object_text` - we can also get the text of a given vector ID. Since we connected the paragraph to the vector ID we could also do this with a SPARQL query, but it's built into the vector store automatically as well"
   ]
  },
  {
   "cell_type": "code",
   "execution_count": 31,
   "id": "35035da2-db60-4f7f-98ac-8288be1e4992",
   "metadata": {},
   "outputs": [
    {
     "data": {
      "text/plain": [
       "'Though it is natural for doctrinal systems to seek to induce pessimism, hopelessness, and despair, reality is different. There has been substantial progress in the unending quest for justice and freedom in recent years, leaving a legacy that can be carried forward from a higher plane than before. Opportunities for education and organizing abound. As in the past, rights are not likely to be granted by benevolent authorities, or won by intermittent actionsattending a few demonstrations or pushing a lever in the personalized quadrennial extravaganzas that are depicted as \"democratic politics.\" As always in the past, the tasks require dedicated day-by-day engagement to createin part re-createthe basis for a functioning democratic culture in which the public plays some role in determining policies, not only in the political arena, from which it is largely excluded, but also in the crucial economic arena, from which it is excluded in principle. There are many ways to promote democracy at'"
      ]
     },
     "execution_count": 31,
     "metadata": {},
     "output_type": "execute_result"
    }
   ],
   "source": [
    "text = conn.object_text(vector_id)\n",
    "print(text)"
   ]
  },
  {
   "cell_type": "markdown",
   "id": "829e8b51-12f3-40a6-b12d-3f49486d42e2",
   "metadata": {},
   "source": [
    "3. `conn.object_embedding` - We can get the actual embedding of a vector. It is a list of floating point numbers"
   ]
  },
  {
   "cell_type": "code",
   "execution_count": 33,
   "id": "d8d9bf60-3e6d-4f89-ab43-adbaa46ee97b",
   "metadata": {},
   "outputs": [
    {
     "name": "stdout",
     "output_type": "stream",
     "text": [
      "[0.038543507, 0.039096102, 0.06697452, 0.06520621, 0.06691926, -0.0071906435, 0.04254982, 0.05912767, -0.0085514086, 0.04492598, 0.019755274, -0.01518255, -0.027643567, 0.0029494762, 0.035393715, 0.015375958, -0.011963683, 0.038101432, 0.04044996, 0.03823958, 0.011044995, -0.0113074765, -0.005671007, 0.029011244, -0.006731299, 0.023374772, -0.036498904, 0.05940397, -0.008157685, 0.03158081, 0.03572527, -0.026828492, -0.026068673, 0.02225577, 0.026897568, 0.06885335, -0.019948682, -0.01353858, 0.042909008, -0.0108308636, 0.0234024, -0.072224176, -0.017917897, 0.033210963, 0.022504434, -0.027201492, -0.01679889, -0.025225967, -0.00120103076, 0.021426873, -0.038709283, 0.0002702535, 0.042356414, -0.019561866, -0.044124714, -0.018926382, -0.054596394, -0.03287941, -0.08449179, -0.0037265632, 0.0086135757, -0.0236787, 0.01917505, -0.006320306, 0.005719359, 0.021357799, -0.026331156, -0.001844286, 0.020073016, 0.005995656, 0.033929336, 0.0015360415, 0.060785455, 0.0120603874, -0.020155904, 0.0044691125, 0.083939195, -0.009373394, 0.014947698, 0.023360959, -0.03812906, 0.012937632, -0.046915323, 0.047357398, -0.016163406, -0.015445033, -0.0070801246, 0.020874278, -0.01065127, -0.021772246, -0.0019219947, -0.031663698, -0.015251625, 0.063603693, 0.024148405, 0.008454705, -0.0027163503, 0.032299182, 0.049816445, 0.0046728823, 0.023319514, -0.0054188854, -0.012371223, -0.0123366855, 0.031276882, 0.047854733, 0.031111103, -0.018719158, -0.014920068, -0.006603511, -0.09289123, -0.03235444, -0.05169527, -0.024728629, 0.009698044, -0.04277086, -0.011832442, -0.0016491507, 0.08565224, 0.0370515, -0.027754086, -0.04923622, -0.00581261, 0.03340437, 0.013559303, -0.058740854, 0.006966152, -0.015569368, -0.03232681, -0.0324097, 0.04821392, 0.016453518, 0.0140221, 0.010050323, -0.036858094, 0.006696762, -0.007356422, -0.0045485485, 0.014740475, 0.010133213, 0.061890644, -0.025115445, -0.036471274, 0.0024866779, -0.006282315, 0.006047462, 0.036692312, 0.014312212, -0.02157884, 0.026041043, 0.026897568, 0.006275408, 0.016025257, 0.09819614, -0.04133411, -0.024963483, 0.009014207, 0.033128074, -0.022449176, 0.014809547, -0.030116433, 0.006002564, -0.048490217, 0.019782904, 0.016674557, 0.0018615547, -0.041030183, -0.08156303, -0.04464968, -0.071118987, -0.025806192, 0.0023951542, -0.007446219, 0.034095114, 0.003581507, 0.021095316, -0.0022794546, 0.05161238, -0.011832442, -0.03155318, -0.025778562, 0.0036471274, 0.0101263046, -0.030061173, -0.034371412, 0.0118807934, -0.038792175, 0.019423719, -0.028513905, -0.013559303, -0.019133607, 0.0103197135, 0.02895598, -0.01750345, 0.010996642, -0.018470491, 0.009525358, 0.028265238, 0.033349112, -0.025060186, -0.044981238, -0.038543507, -0.046942952, -0.05415432, -0.005657192, -0.012157092, -0.009325042, -0.0024659555, -0.014464177, -0.023333326, -0.02997828, -0.028292868, -0.0118807934, -0.0064273715, 0.019907239, -0.02543319, -0.028596795, 0.06575882, -0.017158076, 0.05351883, -0.0073840517, 0.017019928, -0.017462005, 0.010243732, -0.03235444, 0.028375757, 0.024162221, 0.020556538, -0.0077777755, -0.022117619, -0.007356422, -0.013662913, 0.012778762, -0.020045388, 0.005660646, -0.064487845, 0.007529108, -0.024963483, 0.019216493, 0.016191036, 0.019921054, -0.02311229, -0.03591868, -0.0011785816, 0.010727252, 0.0491257, 0.007397866, -0.030890065, -0.0014048003, -0.024659555, -0.027160048, 0.03254785, 0.020280239, 0.011535422, -0.007466941, -0.015251625, -0.016978484, 0.0016077062, -0.016840336, -0.013959934, -0.03583579, 0.033210963, -0.014187878, 0.0011276393, 0.006337575, 0.025115445, -0.006848725, -0.012426482, 0.014395103, -0.05824352, 0.014160249, 0.0058782303, -0.036775202, 0.029867762, 0.0068763554, -0.0558121, 0.03837773, 0.058796114, 0.042024854, 0.050949264, -0.0293428, -0.0026317343, 0.03544897, 0.01121768, 0.029149392, 0.037521204, 0.015251625, 0.014070453, 0.007611997, 0.004527826, 0.0370515, -0.023360959, 0.0121363685, -0.0041133794, 0.024272737, -0.009021115, 0.038626394, -0.03249259, -0.03042036, -0.016646928, 0.011072624, -0.045671982, -0.044594422, -0.003191237, 0.0114179954, 0.0064998996, 0.050645334, 0.004334418, 0.061890644, 0.024991111, 0.0083787227, 0.047909993, -1.9885868e-05, -0.00106201865, -0.04263271, -0.019755274, 0.010243732, -0.018166563, -0.012509371, 0.017171893, -0.05719359, -0.002756068, 0.017365299, 0.014560881, 0.03926188, -0.034675342, 0.018429047, 0.0042584357, 0.01464377, -0.03486875, -0.03683046, -0.0011138244, 0.0038750732, 0.098693484, -0.028734943, -0.040864405, 0.07763961, 0.020073016, 0.027795535, -0.0050251615, -0.005498321, -0.00686254, -0.024037889, -0.019382271, 0.0090625596, 0.0081231475, -0.01852575, -0.03130451, 0.025709486, 0.036637053, -0.009041837, -0.010899939, -0.0009109184, 0.05222023, -0.0011440444, -0.013939211, 0.014850993, 0.0015394953, -0.0096289694, 0.011252217, 0.0037127483, -0.049457258, 0.052137345, 0.032907036, -0.0290665, 0.027090973, -0.042522192, 0.05385039, 0.03141503, 0.00656552, -0.014906253, -0.03597394, -0.021703172, -0.00065707004, 0.0009722219, 0.06465362, -0.0088553363, 0.009552987, 0.0108239554, 0.013013615, -0.020874278, -0.024479961, -0.05210971, -0.017061374, -0.0101263046, 0.081341994, -0.0073771447, -0.07984999, -0.0068763554, -0.0010145299, 0.05918293, 0.014339843, 0.00021175615, 0.028734943, -0.01498914, -0.060619676, -0.028900725, 0.09819614, 0.014339843, -0.03047562, -0.013317542, -0.0086619276, 0.028569168, -0.0043102416, 0.03359778, -0.013870136, 0.019244124, -0.020542721, -0.0071146613, 0.001536905, 0.037604094, -0.026013416, 0.030779546, -0.0043102416, -0.0021948387, -0.0035538772, 0.022849806, 0.0014445181, -0.019713828, 0.007570553, -0.0044345754, -0.0108239554, 0.009552987, -0.05191631, 0.058575076, 0.04440101, 0.00196862, 0.0169923, 0.03688572, -0.0029995552, -0.031746587, 0.0085790384, 0.012239981, 0.026331156, -0.006399742, 0.00560884, -0.0097602105, -0.044566792, 0.04569961, -0.03235444, 0.038847435, -0.008040259, -0.027975124, 0.042107746, -0.023388588, -0.0080126286, -0.010989735, -0.04031181, 0.0020342407, 0.0024866779, 0.0039821383, 0.026510748, 0.032685998, -0.024687186, 0.0026351878, -0.016467333, 0.0005051064, -0.047550803, 0.025833818, -0.02300177, 0.00064196, -0.039482918, -0.0156937, 0.043157673, -0.001615477, 0.017144263, -0.043074787, -0.012550816, -0.039676327, 0.041886705, -0.017627785, 0.016384444, -0.016080518, -0.047136357, -0.0108930305, 0.005101144, 0.019561866, 0.025184518, 0.013013615, -0.023540552, -0.0013555847, 0.013676728, -0.030696657, 0.02948095, 0.005646831, -0.05818826, 0.006558613, -0.04586539, -0.011563052, 0.005774619, -0.0074945706, -0.035642383, 0.022766916, -0.016025257, -0.021523578, -0.083165556, -0.033570153, -0.029812506, -0.02575093, -0.0112384036, -0.0006730435, 0.03362541, -0.026151562, -0.0038716194, 0.083441854, -0.0036816648, 0.0098707294, 0.013662913, -0.009698044, 0.011176236, -0.028320497, -0.007266625, -0.022974141, 0.038156688, 0.02181369, 0.02146832, 0.025391743, -0.021938023, 0.0018252906, -0.00027672926, -0.0037714615, -0.00018509777, 0.013041244, 0.018097489, 0.0023347142, -0.020777574, 0.000678224, 0.0032983017, -0.0023468024, -0.0059473044, -0.0068556327, 0.0091040045, 0.031193992, 0.014312212, -0.0027405262, 0.028569168, 0.0114179954, -0.011390366, -0.0017285864, 0.010499306, 0.0093872094, 0.005377441, 0.01461614, 0.0092214304, -0.024051699, 0.025115445, -0.039924994, 0.0050666064, 0.0067520213, -0.026621267, 0.021675542, -0.0092214304, -0.031470287, -0.005916221, 0.03790802, -0.003272399, -0.014864807, 0.0324097, -0.023733959, 0.0020446019, 0.0077915907, -0.005539766, 0.044622052, 0.032105774, -0.00015466186, 0.03158081, 0.009725673, 0.013621469, -0.003483076, -0.0071422917, 0.011922239, -0.028196162, 0.020777574, -0.051032156, -0.014920068, 0.007273533, -0.010444047, 0.036277866, 0.010865401, -0.017365299, -0.005774619, -0.053132015, -0.033183333, 0.016052887, -0.0095598954, 0.058575076, 0.014125712, -0.018608639, -0.022684029, 0.013269189, 0.017323855, 0.014270768, -0.03252022, 0.016025257, -0.02500493, -0.00048611096, -0.0028596795, -0.0048352072, 0.01818038, -0.009138541, -0.0023157187, -0.0056433773, 0.0067554754, -0.022352472, 0.0019772542, 0.0010033055, -0.011569959, 0.018000785, 0.006658771, -0.022449176, -0.00504243, 0.0098845446, 0.041140702, 0.017572525, 0.009028022, 0.014961512, -0.023581997, 0.036222607, 0.02903887, -0.0008552272, -0.02634497, -0.010533843, -0.014602324, -0.0014859626, 0.005152949, -0.030061173, -0.010872308, -0.01342806, 0.01818038, -0.017779747, 0.005684822, 0.00069894636, 0.018373786, 0.03688572, -0.006199426, 0.01742056, -0.0011621765, -0.0058782303, -0.0054810524, -0.03671994, 0.015472662, -0.0099743414, 0.007591275, -0.004037398, -0.0092905045, 0.0010128031, -0.029370427, -0.0026351878, 0.009124726, -0.015445033, 0.016453518, -0.028624424, -0.0012985983, 0.006240871, 0.008813892, 0.005152949, 0.0015438125, -0.0059093136, -0.0124817416, 0.0025143078, -0.0011872159, -0.021855135, -0.0026731786, 0.0025626597, 0.02945332, 0.051999193, 0.01750345, 0.03351489, -0.019244124, 0.022117619, -0.036277866, -0.010934476, 0.024258924, 0.02047365, -0.005049338, -0.015610811, 0.0273949, -0.030199322, -0.0067831045, 0.01626011, 0.018608639, -0.037493575, -0.049208593, 0.004282612, 0.03696861, -0.035697642, 0.02611012, 0.031636065, 0.03263074, -0.0088760585, -0.018415232, 0.023554365, -0.011797905, 0.040892035, 0.018898752, 0.01585948, 0.05586736, 0.022007099, -0.005377441, -0.0072113657, 0.014229323, 0.0014091174, -0.02090191, -0.034896377, -0.0083096486, -0.037769872, 0.007460034, -0.006679493, 0.014878622, 0.0098845446, -0.019506606, -0.02260114, -0.015279254, 0.006461909, -0.016039072, -0.046252206, -0.017130448, -0.0052185696, -0.02308466, -0.005467238, 0.023347142, -0.001757943, -0.013766524, -0.042024854, -0.048434958, 0.0109137535, -0.0105131224, -0.009021115, -0.03915136, 0.0025937432, -0.01639826, 0.0110104576, 0.032105774, -0.00058281505, -0.0102506384, -0.023139918, 0.031221622, 0.059901303, -0.01369745, 0.018263267, 0.011977498, -0.056696254, -0.037106758, -0.045533833, -0.030917695, 0.0006764972, -0.0039096102, 0.031000584, -0.0108308636, 0.02225577, -0.024673371, 0.012716594, -0.00844089, -0.015762775, 0.031221622, -0.0019962497, 0.00016102967, 0.006292677, -0.009580617, -0.0041824538, -0.035338452, 0.01273041, -0.018843493, -0.0150444, 0.012875465, 0.006966152, 0.029398057, 0.011728831, 0.006078546, -0.016329184, 0.005315274, 0.011328199, -0.002768156, 0.02688375, 0.016080518, 0.0380738, 0.017627785, -0.010637455, -0.0029719254, -0.041002554, 0.014699028, 0.01806986, -0.019257939, 0.025488448, -0.012799484, -0.04473257, 0.017558709, 0.018484306, 0.028513905, -0.03484112, -0.0049008277, -0.01073416, -0.02948095, 0.009698044, -0.03274126, 0.05122556, 0.034785858, -0.08764158, -0.019644754, 0.019340828, 0.018359971, 0.019658569, 0.016121963, 0.03274126, 0.015058216, 0.028375757, -0.007218273, 0.045589092, -0.027491605, 0.024355629, -0.00011062695, 0.013338263, 0.02778172, -0.045478573, -0.025364116, -0.027712643, -0.01795934, -0.018373786, -0.038211948, -0.015500292, -0.024341813, -0.012557723, -0.0118807934, -0.021357799, -0.003578053, -0.028458646, 0.0024607751, 0.005056245, -0.006517168, -0.03497927, -0.011549238, -0.01404973, -0.047523174, -0.0019962497, -0.031691328, 0.0021326718, 0.0021499403, 0.023816848, 0.03890269, -0.01097592, -0.020211165, 0.028679687, -0.069792753, -0.0074738485, 0.027090973, 0.0090625596, 0.0090072995, -0.019769089, 0.013573118, -0.041555148, -0.044428644, -0.015320699, -0.009490821, -0.0020411481, -0.041030183, 0.02359581, -0.019934866, -0.007639627, 0.013980655, -0.012129462, 0.0037196556, -0.026524565, 0.022780731, 0.0071146613, -0.024825332, -0.01342806, 0.005325635, -0.0009540899, -0.02016972, -0.011224588, 0.018304712, -0.0024832241, -0.0018805501, -0.0008098971, 0.0072528106, -0.0031428847, -0.005733174, 0.0065862423, -0.010886123, -0.0077501464, 0.014837179, 0.011611404, -0.001370263, -0.00040904984, -0.053601724, -0.0004943135, 0.02260114, 0.021938023, -0.011100253, -0.012530093, -0.024963483, -0.04583776, -0.004379316, 0.0103197135, 0.02016972, -0.008026444, -0.015500292, 0.028845462, -0.0052600145, -0.035697642, -0.03345963, 0.0047419566, 0.023305698, -0.01642589, -0.014381287, 0.007390959, 0.04796525, -0.0062581396, -0.04166567, 0.05139134, -0.0064377326, 0.04918096, 0.05912767, 0.037244907, 0.003135977, 0.04686006, -0.0118255354, 0.024659555, 0.014098081, -0.05371224, 0.023789218, 0.010388787, -0.016591667, -0.027298197, -0.020929539, 0.010236825, -0.01321393, 0.058740854, -0.0052980053, -0.019313198, 0.026773232, -0.00927669, -0.040173662, 0.024452333, 0.015348329, -0.021454504, 0.027823162, -0.01498914, 0.0038681656, 0.026469305, 0.018083674, 0.009166171, 0.0049629945, -0.02699427, 0.022766916, 0.040284178, -0.001808022, 0.034288526, -0.041638038, 0.035145047, 0.012668243, 0.024286553, -0.0011466347, 0.0021533939, 0.0021723893, -0.010022694, 0.028679687, 0.0034001866, 0.000620806, -0.016508779, -0.03042036, 0.0012303875, -0.021053874, 0.01577659, -0.024852964, 0.043461603, 0.0038336283, 0.0276712, -0.025253594, -0.023388588, -0.0049837166, -0.0027232575, 0.01130057, 0.041886705, 0.037244907, -0.018387601, -0.0016543314, -0.01032662, 0.053767496, -0.0097740257, 0.0040995649, 0.0007481619, -0.01566607, 0.021026245, 0.02257351, -0.0025367567, -0.035283196, 0.057635665, 0.032603106, 0.014491805, 0.018581009, 0.0014315665, -0.029950652, -0.0008180997, -0.009083282, 0.0101401195, -0.012758039, -0.062664276, 0.02620682, 0.018318526, 0.019561866, -0.04453916, 0.064432585, 0.013006708, -0.018097489, -0.023139918, 0.034371412, -0.023485291, 0.017876449, -0.005011347, 0.007294255, 0.0041030186, 0.036637053, -0.007998814, -0.0038681656, -0.03680283, -0.00092646015, 0.0046176228, -0.028928354, -0.007563645, -0.0061407125, -0.019216493, 0.0081024253, 0.0020825925, 0.012212352, -0.015472662, -0.0176416, 0.018249452, 0.020432203, 0.006568974, 0.03384645, 0.016702187, -0.023651071, 0.01585948, -0.018622455, 0.01369745, 0.005080421, 0.023540552, 0.01475429, -0.0067727435, 0.015610811, 0.019755274, 0.005090782, 0.021703172, -0.05000985, -0.010678899, 0.004897374, 0.009656599, 0.04716399, -0.022076173, -0.006644956, 0.00730807, 0.026220638, -0.00044337118, -0.015942368, -0.0169923, 0.0048421142, -0.031332138, 0.013048151, -0.021744616, 0.0052669215, -0.018194194, 0.029646727, -0.014436546, -0.008924411, 0.03033747, -0.030033544, -0.045008868, 0.020597982, 0.0057469887, 0.0098914516, -0.014920068, -0.044152346, 0.0067554754, -0.040974927, -0.004406946, -0.026814675, -0.0086135757, 0.010457863, 0.025281224, -0.0012312509, -0.0067002153, -0.017558709, 0.010741067, -0.02594434, -0.04340634, 0.01623248, -0.01637063, 0.0082958335, 3.5049853e-05, 0.013421153, -0.037465945, -0.056475216, -0.031276882, -0.0042411673, -0.010354249, 0.02294651, 0.0115975894, -0.0042411673, 0.031166363, 0.016273925, -0.0036747572, 0.019589496, -0.0007498887, -0.022283396, -0.0104924, -0.0038059986, -0.03890269, 0.005180579, 0.009753303, 0.022614953, 0.023181364, -0.04020129, -0.027090973, -0.006461909, -0.013911581, 0.03365304, -0.0035642383, -0.0122054435, 0.012101833, -0.03790802, 0.0140221, -0.0009204161, 0.043130043, -0.0014488351, 0.010119398, 0.031497917, -0.031691328, 0.018042229, -0.001978981, 0.010450955, -0.0018166563, 0.03232681, -0.010872308, -0.044953611, 0.019700016, -0.03600157, -0.022380102, -0.031636065, 0.025336486, -0.013462599, -0.03257548, -0.015320699, 0.0070248646, -0.02030787, -0.0013806242, 0.050728226, 0.06023286, -0.020376945, -0.014491805, 0.039621067, 0.018056044, 0.0009497727, 0.005567395, -0.0051943934, -0.009083282, -0.012578446, -0.020446017, 0.033349112, -0.020059201, 0.012640612, -0.021122947, 0.007480756, -0.024231295, 0.0009005572, 0.013794155, -0.0009428653, -0.020528908, 0.018995456, 0.020252609, -0.016108146, -0.03561475, -0.03578053, 0.0066311413, -0.016729815, 0.022076173, -0.020805204, 0.0044311216, 0.0010516574, 0.01637063, -0.010354249, -0.0025419375, 0.003445085, 0.003443358, 0.025778562, -0.010692714, -0.0083649075, -0.022642584, -0.038515878, 0.024452333, -0.032271552, 0.01812512, 0.030586138, -0.023664884, 0.013773432, 0.0020411481, 0.0089520407, -0.02430037, 0.0098292845, 0.041002554, -0.0089175034, -0.034067485, -0.009097097, 0.025557524, -0.00393724, -0.029923025, -0.008627391, 0.009525358, 0.02903887, -0.043931308, -0.0100917675, 0.015942368, -0.045119387, -0.018746789, -0.015900923, -0.0009739488, 0.015997627, -0.025985783, -0.022808364, 0.008848429, 0.008696465, -0.0042895192, -0.0057642573, -0.008530687, 0.00039825696, -0.008489242, 0.00784685, -0.0075843674, 0.01911979, 0.00048654267, -0.014312212, -0.02594434, -0.007411682, -0.006372112, -0.0118738875, -0.0071491987, 0.025723302, 0.023347142, 0.031497917, 0.02294651, 0.034675342, -0.009318135, -0.016273925, 0.0002521215, 0.0061925185, -0.019782904, 0.032464957, -0.021675542, 0.024894407, -0.022200505, -0.020846649, 0.008620483, -0.009124726, -0.015099661, -0.030586138, -0.026925197, 0.018871121, -0.010015786, 0.022172877, 0.001378034, 0.0088207996, 0.0013106863, -0.024894407, -0.0026403683, -0.038985583, 0.016121963, -0.02430037, -0.004334418, -0.00083752686, -0.010271361, -0.0067831045, 0.002806147, 0.018208009, 0.0105131224, 0.01906453, 0.023954996, -0.00686254, -0.0076465344, 0.048683625, 0.0034882563, 0.024880596, -0.023333326, -0.013020521, 0.0091938007, 0.00029075998, 0.0030945325, 0.020031571, 0.003312117, -0.008371815, 0.008157685, 0.019147418, -0.009449376, -0.016591667, 0.019478977, -0.030807176, 0.0026231, -0.002301904, 0.008261296, 0.020874278, 0.0014591962, 0.013186301, 0.016039072, 0.003698933, 0.018581009, -0.024645741, -0.025253594, 0.025985783, -0.0041410094, -0.00029939425, -0.047633696, 0.031359768, -0.021551208, 0.0089175034, -0.017033742, -0.028569168, -0.04232878, 0.003469261, 0.009338857, -0.014547065, 0.030061173, -0.013828692, 0.015431216, -0.028196162, -0.017517264, -0.0110242724, -0.013656005, 0.00069203895, -0.01566607, -0.0027370727, 0.035531864, 0.006151074, 0.0253503, 0.028762573, -0.0067623824, -0.02113676, 0.0176416, -0.0083096486, 0.009352672, 0.0107963264, -0.0026697248, -0.016522592, -0.00871028, 0.033791187, 0.0098292845, -0.05222023, -0.012246889, 0.027836975, -0.0012243434, 0.00025794965, -0.030696657, -0.02257351, -0.043212935, -0.021868952, 0.04470494, 0.02073613, 0.018802047, 0.018429047, -0.017613968, -0.017793562, 0.05548054, 0.00017354938, 0.019478977, 0.037383056, 0.026690343, 0.028624424, -0.028707317, -0.012329777, -0.011604496, -0.012654427, 0.0067865586, 0.018650083, -0.03464771, 0.02588908, 0.024880596, 0.025225967, 0.01637063, -0.024203666, 0.032161033, 0.010982827, 0.01739293, 0.014146434, 0.0053601724, 0.033045185, -0.026717973, -0.007763961, -0.014975326, -0.002348529, -0.046390355, -0.0096704143, 0.004486381, 0.013932304, 0.0337083, 0.019492792, 0.036388385, -0.03373593, -0.0019323559, 0.016329184, 0.012246889, -0.0086342984, -0.0036505812, -0.02834813, 0.009780933, 0.030669028, -0.022835991, -0.006016379, -0.05009274, 0.00059576654, 0.0030116433, 0.03252022, 0.043295822, 0.0073357, 0.001982435, -0.0037611002, -0.028320497, 0.0038647118, -0.0037818226, 0.03572527, -0.025820005, 0.003531428, 0.0025056735, -0.012682058, -0.0013676728, -0.013807969, 0.021675542, 0.010036508, 0.017116633, -0.014070453, -0.014519435, 0.005771165, -0.022490618, 0.018290897, -0.0035953218, -0.01145944, -0.05354646, 0.006914346, 0.009394116, -0.015596996, 0.024576667, 0.013911581, -0.024866779, 0.0006410966, 0.036775202, -0.0088760585, 0.01742056, 0.044815463, -0.011590682, -0.016978484, 0.0339846, 0.008185315, 0.014464177, 0.05034141, 0.019009271, 0.0303651, -0.0084477973, -0.018401417, 0.013704358, -0.01130057, 0.026676527, -0.003802545, 0.026013416, 0.03144266, 0.0026990816, 0.018511935, 0.011866979, 0.0058506, -0.029315168, -0.039096102, -0.04127885, 0.02543319, -0.0110519014, -0.009083282, 0.011894609, -0.027643567, -0.021247283, -0.05086638, -0.006910892, -0.034260896, 0.019658569, -0.005170218, 0.010188472, 0.012163999, 0.023844478, -0.01626011, 0.028817832, 0.0028510454, -0.013628376, 0.0082336664, -0.013262282, 0.021316357, -0.0045899928, -0.007915924, -0.021192022, 0.006455001, -0.0012286605, -0.020584166, 0.033929336, 0.028541535, 0.0061199903, -0.013593839, -0.043461603, 0.0110380866, 0.012150185, -0.036222607, 0.042024854, -0.007087032, -0.0061856115, -0.014174065, 0.001382351, -0.004282612, -0.009442468, 0.018249452, -0.0010836043, 0.02157884, 0.033570153, -0.0044242144, 0.022739288, 0.02685612, 0.0067727435, 0.013531671, 0.0018045682, 0.010879216, 0.008530687, -0.01183935, 0.0095598954, 0.032078144, -0.00978784, -0.0035573307, 0.018111303, -0.03578053, 0.025778562, -0.01818038, -0.036305493, -0.013856322, 0.0044311216, -0.028817832, -0.024922037]\n"
     ]
    }
   ],
   "source": [
    "embedding = conn.object_embedding(vector_id)\n",
    "print(embedding)"
   ]
  },
  {
   "cell_type": "code",
   "execution_count": 45,
   "id": "69d6b1d2-0ad0-49be-81fd-72542c426ead",
   "metadata": {},
   "outputs": [
    {
     "data": {
      "text/plain": [
       "285274"
      ]
     },
     "execution_count": 45,
     "metadata": {},
     "output_type": "execute_result"
    }
   ],
   "source": [
    "conn.size()"
   ]
  }
 ],
 "metadata": {
  "kernelspec": {
   "display_name": "Python 3 (ipykernel)",
   "language": "python",
   "name": "python3"
  },
  "language_info": {
   "codemirror_mode": {
    "name": "ipython",
    "version": 3
   },
   "file_extension": ".py",
   "mimetype": "text/x-python",
   "name": "python",
   "nbconvert_exporter": "python",
   "pygments_lexer": "ipython3",
   "version": "3.11.11"
  }
 },
 "nbformat": 4,
 "nbformat_minor": 5
}
