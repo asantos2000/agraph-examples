{
 "cells": [
  {
   "cell_type": "markdown",
   "id": "a2362300-2421-4b16-bc53-6a52fb33180a",
   "metadata": {},
   "source": [
    "If using this notebook in Google Colab, please install the following libraries"
   ]
  },
  {
   "cell_type": "code",
   "execution_count": null,
   "id": "6c22f3dc-96f2-4e01-b405-551c9cbac207",
   "metadata": {},
   "outputs": [],
   "source": [
    "%pip install agraph-python pandas pycurl"
   ]
  },
  {
   "cell_type": "markdown",
   "id": "dd7902ae-70ae-4ce1-ab32-f1e7ef37bd25",
   "metadata": {},
   "source": [
    "# AllegroGraph LLM Embedding Examples"
   ]
  },
  {
   "cell_type": "code",
   "execution_count": 2,
   "id": "a3b1a954-9c8b-47c2-9661-f7596127ea38",
   "metadata": {},
   "outputs": [],
   "source": [
    "from franz.openrdf.connect import ag_connect\n",
    "from franz.openrdf.vocabulary import RDF, RDFS\n",
    "from llm_utils import FindNearestNeighbors, AskMyDocuments\n",
    "from franz.openrdf.model.value import URI\n",
    "import pandas as pd\n",
    "import textwrap\n",
    "import os\n",
    "\n",
    "os.environ['AGRAPH_HOST'] = 'https://ag1zzkvywf0yteww.allegrograph.cloud' #add your AllegroGraph Cloud url here (starting with https, copy till the end of allegrograph.cloud)\n",
    "os.environ['AGRAPH_PORT'] = '443' #Agraph is listening at port 443, you do not need to change this\n",
    "os.environ['AGRAPH_USER'] = 'admin' #your username should be 'admin', you do not need to change this\n",
    "os.environ['AGRAPH_PASSWORD'] = 'hcmTX6v69hOToI7PSz167l' #Add your password here as a string"
   ]
  },
  {
   "cell_type": "markdown",
   "id": "1e10e895-f482-4ec2-a376-fd1cc3431a5a",
   "metadata": {},
   "source": [
    "Before starting any other work it is very important to set your openai API key in your AllegroGraph server. The directions are present in the README, but are added here as well due to their importance.\n",
    "\n",
    "1. Please navigate to your local installation of the new webview\n",
    "2. Go to the repository where your data is stored (`llm-contract`)\n",
    "3. Go to `Repository Control` in the left column under `Repository` and search for `query execution options`. Select it.\n",
    "4. Select `+ New Query Option` and add **openaiApiKey** as the _name_, and your OpenAI api key as the _value_. Set the `Scope` to **Repository**\n",
    "5. Don't forget to save by hitting `Save Query Options`!\n",
    "\n",
    "\n",
    "# Asking Questions of a Contract\n",
    "\n",
    "In this demo we will examine the structure of a contract, and then ask questions of that contract. We will show where the proof of the response is in the contract as well. \n",
    "\n",
    "First we examine the structure of the contract:\n",
    "\n",
    "![contract-compensation](images/contract-compensation.png)\n",
    "\n",
    "The regular steps for using AGVector to analyze your documents are as follows:\n",
    "1. Parse a document(s) and create a tree structure as is shown above. (Note that documents do not have to be parsed, and can simply be passed to a text splitter, but this strategy loses the power of knowing where your responses are coming from)\n",
    "2. We index the text literals with `agtool` after defining a `.def` file which establishes the Vector Database and defines some parameters. An example of this can be seen in [AGVector-example.ipynb](AGVector-example.ipynb)\n",
    "3. Once we have made sure the OpenAI API key has been set (as described above) we are able to start querying the documents!\n",
    "\n",
    "We will start with first connecting to the `contract` repository"
   ]
  },
  {
   "cell_type": "code",
   "execution_count": 6,
   "id": "d43cdbaf-6b8e-410a-b586-280fc3289b11",
   "metadata": {},
   "outputs": [
    {
     "data": {
      "text/plain": [
       "1024"
      ]
     },
     "execution_count": 6,
     "metadata": {},
     "output_type": "execute_result"
    }
   ],
   "source": [
    "conn = ag_connect('contracts')\n",
    "conn.size()"
   ]
  },
  {
   "cell_type": "markdown",
   "id": "2751ffee-8cbe-49c1-b03b-08ae42e6dd03",
   "metadata": {},
   "source": [
    "### Nearest Neighbor SPARQL Query\n",
    "\n",
    "There are currently two magic predicates in AG we can use to examine the indexed documents. These are `llm:nearestNeighbor` and `llm:askMyDocuments`. \n",
    "\n",
    "We start by examining `llm:nearestNeighbor`. The general query structure is as follows:\n",
    "```\n",
    "(?uri ?score ?originalText) llm:nearestNeighbor (?text ?vector-database ?topN ?minScore)\n",
    "```"
   ]
  },
  {
   "cell_type": "code",
   "execution_count": 8,
   "id": "8da652e9-a25c-493e-9260-757d23c6b121",
   "metadata": {},
   "outputs": [
    {
     "data": {
      "text/html": [
       "<div>\n",
       "<style scoped>\n",
       "    .dataframe tbody tr th:only-of-type {\n",
       "        vertical-align: middle;\n",
       "    }\n",
       "\n",
       "    .dataframe tbody tr th {\n",
       "        vertical-align: top;\n",
       "    }\n",
       "\n",
       "    .dataframe thead th {\n",
       "        text-align: right;\n",
       "    }\n",
       "</style>\n",
       "<table border=\"1\" class=\"dataframe\">\n",
       "  <thead>\n",
       "    <tr style=\"text-align: right;\">\n",
       "      <th></th>\n",
       "      <th>originalText</th>\n",
       "      <th>score</th>\n",
       "      <th>uri</th>\n",
       "    </tr>\n",
       "  </thead>\n",
       "  <tbody>\n",
       "    <tr>\n",
       "      <th>0</th>\n",
       "      <td>3. TERM. This Agreement shall take effect on ...</td>\n",
       "      <td>0.860960</td>\n",
       "      <td>&lt;http://franz.com/3.&gt;</td>\n",
       "    </tr>\n",
       "    <tr>\n",
       "      <th>1</th>\n",
       "      <td>15. WORK PRODUCTS. All material, data, inform...</td>\n",
       "      <td>0.853948</td>\n",
       "      <td>&lt;http://franz.com/15.&gt;</td>\n",
       "    </tr>\n",
       "    <tr>\n",
       "      <th>2</th>\n",
       "      <td>2. COMPENSATION. In consideration for CONSULT...</td>\n",
       "      <td>0.852842</td>\n",
       "      <td>&lt;http://franz.com/2.&gt;</td>\n",
       "    </tr>\n",
       "    <tr>\n",
       "      <th>3</th>\n",
       "      <td>A. AGREEMENT: The two parties to this Agreeme...</td>\n",
       "      <td>0.852728</td>\n",
       "      <td>&lt;http://franz.com/24._A.&gt;</td>\n",
       "    </tr>\n",
       "    <tr>\n",
       "      <th>4</th>\n",
       "      <td>A. The CONSULTANT shall perform the work cont...</td>\n",
       "      <td>0.850686</td>\n",
       "      <td>&lt;http://franz.com/20._A.&gt;</td>\n",
       "    </tr>\n",
       "  </tbody>\n",
       "</table>\n",
       "</div>"
      ],
      "text/plain": [
       "                                        originalText     score  \\\n",
       "0   3. TERM. This Agreement shall take effect on ...  0.860960   \n",
       "1   15. WORK PRODUCTS. All material, data, inform...  0.853948   \n",
       "2   2. COMPENSATION. In consideration for CONSULT...  0.852842   \n",
       "3   A. AGREEMENT: The two parties to this Agreeme...  0.852728   \n",
       "4   A. The CONSULTANT shall perform the work cont...  0.850686   \n",
       "\n",
       "                         uri  \n",
       "0      <http://franz.com/3.>  \n",
       "1     <http://franz.com/15.>  \n",
       "2      <http://franz.com/2.>  \n",
       "3  <http://franz.com/24._A.>  \n",
       "4  <http://franz.com/20._A.>  "
      ]
     },
     "execution_count": 8,
     "metadata": {},
     "output_type": "execute_result"
    }
   ],
   "source": [
    "query_string = \"\"\"\n",
    "        PREFIX llm: <http://franz.com/ns/allegrograph/8.0.0/llm/> \n",
    "        select * where { \n",
    "            (?uri ?score ?originalText) llm:nearestNeighbor (\"Consultant agrees to work\" \"contract\" 10 0.8)  }\"\"\"\n",
    "with conn.executeTupleQuery(query_string) as result:\n",
    "    df = result.toPandas()\n",
    "df.head()"
   ]
  },
  {
   "cell_type": "markdown",
   "id": "12661fdd-ef78-4c04-8e21-3d1a8fceb0b4",
   "metadata": {},
   "source": [
    "### Wrapping nearestNeighbor in a function. \n",
    "\n",
    "We wrote a sample class that allows users to find nearest neighbors and also perform some additional tasks with the response object. The parameters are:\n",
    "- `conn` - The connection object\n",
    "- `phrase` - the phrase for which you are looking to find the nearest neighbors\n",
    "- `vector_db` - the vector database\n",
    "- `number` - (optional) set to 10 if not declared, sets the maximum number of neighbors you wished returned\n",
    "- `confidence` - (optional) set to .5 if note declared, sets the minimum matching score for all returned vectors"
   ]
  },
  {
   "cell_type": "code",
   "execution_count": 10,
   "id": "4ef955b4-9bc6-4954-84ad-33c8a69bb9f6",
   "metadata": {},
   "outputs": [
    {
     "name": "stdout",
     "output_type": "stream",
     "text": [
      " 3. TERM. This Agreement shall take effect on (DATE); contingent upon prior approval by the\n",
      "COMMISSION governing board, and the CONSULTANT shall commence work after notification to proceed by\n",
      "the COMMISSIONS Contract Manager. The Agreement shall end on (DATE), unless earlier terminated or\n",
      "extended by contract amendment. The CONSULTANT is advised that this Agreement is not binding and\n",
      "enforceable until it is fully executed and approved by the COMMISSION's board.\n"
     ]
    }
   ],
   "source": [
    "nn = FindNearestNeighbors(conn, 'Consultant agrees to work', 'contract', number=10, confidence=.8)"
   ]
  },
  {
   "cell_type": "markdown",
   "id": "2e7f7a81-ede3-41f2-98d0-0d55f013a9ee",
   "metadata": {},
   "source": [
    "We can examine the \"proof\" using the `proof()` method. (Proof in this case are the nearest neighbors)"
   ]
  },
  {
   "cell_type": "code",
   "execution_count": 11,
   "id": "55282dd6-fdb4-4183-b246-2afaaaa96610",
   "metadata": {},
   "outputs": [
    {
     "name": "stdout",
     "output_type": "stream",
     "text": [
      "0 <http://franz.com/3.> 0.8609599\n",
      " 3. TERM. This Agreement shall take effect on (DATE); contingent upon prior approval by the\n",
      "COMMISSION governing board, and the CONSULTANT shall commence work after notification to proceed by\n",
      "the COMMISSIONS Contract Manager. The Agreement shall end on (DATE), unless earlier terminated or\n",
      "extended by contract amendment. The CONSULTANT is advised that this Agreement is not binding and\n",
      "enforceable until it is fully executed and approved by the COMMISSION's board.\n",
      "\n",
      "1 <http://franz.com/15.> 0.85394764\n",
      " 15. WORK PRODUCTS. All material, data, information, and written, graphic or other work produced\n",
      "under this Agreement is subject to the unqualified and unconditional right of the COMMISSION to use,\n",
      "reproduce, publish, display, and make derivative use of all such work, or any part of it, free of\n",
      "charge and in any manner and for any purpose; and to authorize others to do so. If any of the work\n",
      "is subject to copyright, trademark, service mark, or patent, CONSULTANT now grants to the COMMISSION\n",
      "a perpetual, royalty-free, nonexclusive and irrevocable license to use, reproduce, publish, use in\n",
      "the creation of derivative works, and display and perform the work, or any part of it, and to grant\n",
      "to any third party a comparable and coextensive sublicense.  CONSULTANT shall include in any\n",
      "subcontract with a third party for work under this Agreement terms that preserve the rights,\n",
      "interests, and obligations created by this Section, and that identify the COMMISSION as a third-\n",
      "party beneficiary of those provisions. The CONSULTANT shall not utilize the work produced under this\n",
      "Agreement for any profit-making venture, or sell or grant rights to a third party for that purpose.\n",
      "\n",
      "2 <http://franz.com/2.> 0.8528418\n",
      " 2. COMPENSATION. In consideration for CONSULTANT accomplishing said result, COMMISSION agrees to\n",
      "pay CONSULTANT as follows:\n",
      "\n",
      "3 <http://franz.com/24._A.> 0.8527282\n",
      " A. AGREEMENT: The two parties to this Agreement, who are the before named CONSULTANT and the before\n",
      "named COMMISSION, hereby agree that this Agreement constitutes the entire Agreement which is made\n",
      "and concluded in duplicate between the two parties. Both of these parties for and in consideration\n",
      "of the payments to made, conditions mentioned, and work to be performed; each agree to diligently\n",
      "perform in accordance with the terms and conditions of this Agreement as evidenced by the signatures\n",
      "below.\n",
      "\n",
      "4 <http://franz.com/20._A.> 0.8506862\n",
      " A. The CONSULTANT shall perform the work contemplated with resources available within its own\n",
      "organization; and no portion of the work pertinent to this Agreement shall be subcontracted without\n",
      "prior written authorization by the COMMISSIONS Contract Manager, except that, which is expressly\n",
      "identified in the approved Fee Schedule.  Page 9\n",
      "\n",
      "5 <http://franz.com/1._A.> 0.8491745\n",
      " A. CONSULTANT agrees to exercise special skill to accomplish the following results in a manner\n",
      "reasonably satisfactory to COMMISSION: ______________________________, as specified in Exhibit A:\n",
      "Scope of Services, which by this reference is incorporated herein.\n",
      "\n",
      "6 <http://franz.com/1._D._2)> 0.8462784\n",
      " 2) The CONSULTANTs Project Manager shall meet with the COMMISSIONs Contract Manager, as needed, to\n",
      "discuss progress on the contract.\n",
      "\n",
      "7 <http://franz.com/1._B.> 0.8454348\n",
      " B. CONSULTANT shall provide the personnel listed below to perform the above-specified services,\n",
      "which persons are hereby designated as key personnel under this Agreement.  Name Firm Function\n",
      "Principal in Charge  Project Manager\n",
      "\n",
      "8 <http://franz.com/15._A.> 0.83970296\n",
      " A. Upon completion of all work under this contract, ownership and title to all custom letters,\n",
      "reports, documents, plans, specifications, and estimates and other products produced as part of this\n",
      "Agreement (herein \\\"deliverables\\\") will automatically be vested in the COMMISSION; and no further\n",
      "agreement will be necessary to transfer ownership to the COMMISSION. The CONSULTANT shall furnish\n",
      "the COMMISSION all necessary copies of data needed to complete the review and approval process.\n",
      "Copies may be made for CONSULTANT's records but shall not be furnished to others without the\n",
      "COMMISSION's prior written authorization. Such deliverables shall be deemed works made for hire and\n",
      "all rights in copyright therein shall be retained by COMMISSION. All information derived from these\n",
      "deliverables is deemed confidential and may not be disclosed to any other party without the express\n",
      "prior written consent of COMMISSION. No information obtained during audit work performed under this\n",
      "Agreement may be used by CONSULTANT for any purpose (internal or external), nor may the information\n",
      "be discussed with others without the prior written consent of COMMISSION.\n",
      "\n",
      "9 <http://franz.com/7.> 0.839392\n",
      " 7. FEDERAL, STATE AND LOCAL LAWS. CONSULTANT warrants that in the performance of this Agreement, it\n",
      "shall exercise usual and customary professional care in its efforts to comply with all applicable\n",
      "federal, state and local laws, statutes and ordinances and all lawful orders, rules and regulations\n",
      "promulgated thereunder. In the event of a conflict between the laws and lawful regulations of any\n",
      "government entities having jurisdiction over the project, the CONSULTANT shall notify COMMISSION of\n",
      "the nature and impact of such conflict. The COMMISSION agrees to cooperate and work with the\n",
      "CONSULTANT in an effort to resolve any conflict.\n",
      "\n"
     ]
    }
   ],
   "source": [
    "nn.proof()"
   ]
  },
  {
   "cell_type": "markdown",
   "id": "e51bc008-f853-42b3-b98d-2ee506a6e201",
   "metadata": {},
   "source": [
    "Now if we want we can store this response in the graph with the `add_neighbors_to_graph()` method"
   ]
  },
  {
   "cell_type": "code",
   "execution_count": 12,
   "id": "f06c61a3-3183-401e-b597-b83619314210",
   "metadata": {},
   "outputs": [],
   "source": [
    "nn.add_neighbors_to_graph()"
   ]
  },
  {
   "cell_type": "markdown",
   "id": "8dd68673-c912-4363-8cd3-db761cee4663",
   "metadata": {},
   "source": [
    "We can see now that a new _Nearest Neighbors_ object has been created that connects to all neighbors with the confidence score\n",
    "![contract-neighbors](images/contract-neighbors.png)"
   ]
  },
  {
   "cell_type": "markdown",
   "id": "06169ab1-ac05-47d4-8ef3-ad9344db8802",
   "metadata": {},
   "source": [
    "### askMyDocuments SPARQL Query\n",
    "\n",
    "This magic predicates will force chatGPT to read the topN nearest neighbors found by the function llm:nearestNeighbor and then give an answer using only the output of that function. The syntax of this magic predicate follows here, see also documentation <here>:\n",
    "```\n",
    "(?response ?citation ?score) llm:askMyDocuments (?query ?vectorDatabase ?topN ?minScore)\n",
    "```"
   ]
  },
  {
   "cell_type": "code",
   "execution_count": 13,
   "id": "f1ef8e18-9fe2-4f18-89bf-5407e4af5cab",
   "metadata": {},
   "outputs": [
    {
     "data": {
      "text/html": [
       "<div>\n",
       "<style scoped>\n",
       "    .dataframe tbody tr th:only-of-type {\n",
       "        vertical-align: middle;\n",
       "    }\n",
       "\n",
       "    .dataframe tbody tr th {\n",
       "        vertical-align: top;\n",
       "    }\n",
       "\n",
       "    .dataframe thead th {\n",
       "        text-align: right;\n",
       "    }\n",
       "</style>\n",
       "<table border=\"1\" class=\"dataframe\">\n",
       "  <thead>\n",
       "    <tr style=\"text-align: right;\">\n",
       "      <th></th>\n",
       "      <th>citation</th>\n",
       "      <th>content</th>\n",
       "      <th>response</th>\n",
       "      <th>score</th>\n",
       "    </tr>\n",
       "  </thead>\n",
       "  <tbody>\n",
       "    <tr>\n",
       "      <th>0</th>\n",
       "      <td>&lt;http://franz.com/2.&gt;</td>\n",
       "      <td>2. COMPENSATION. In consideration for CONSULT...</td>\n",
       "      <td>The contract does not explicitly prohibit payi...</td>\n",
       "      <td>0.827397</td>\n",
       "    </tr>\n",
       "    <tr>\n",
       "      <th>1</th>\n",
       "      <td>&lt;http://franz.com/22.&gt;</td>\n",
       "      <td>22. REBATES, KICKBACKS OR OTHER UNLAWFUL CONS...</td>\n",
       "      <td>The contract does not explicitly prohibit payi...</td>\n",
       "      <td>0.820068</td>\n",
       "    </tr>\n",
       "    <tr>\n",
       "      <th>2</th>\n",
       "      <td>&lt;http://franz.com/2._E.&gt;</td>\n",
       "      <td>E. Progress payments will be made no less tha...</td>\n",
       "      <td>The contract does not explicitly prohibit payi...</td>\n",
       "      <td>0.798163</td>\n",
       "    </tr>\n",
       "    <tr>\n",
       "      <th>3</th>\n",
       "      <td>&lt;http://franz.com/11.&gt;</td>\n",
       "      <td>11. INDEPENDENT CONSULTANT STATUS. CONSULTANT...</td>\n",
       "      <td>The contract does not explicitly prohibit payi...</td>\n",
       "      <td>0.791048</td>\n",
       "    </tr>\n",
       "  </tbody>\n",
       "</table>\n",
       "</div>"
      ],
      "text/plain": [
       "                   citation  \\\n",
       "0     <http://franz.com/2.>   \n",
       "1    <http://franz.com/22.>   \n",
       "2  <http://franz.com/2._E.>   \n",
       "3    <http://franz.com/11.>   \n",
       "\n",
       "                                             content  \\\n",
       "0   2. COMPENSATION. In consideration for CONSULT...   \n",
       "1   22. REBATES, KICKBACKS OR OTHER UNLAWFUL CONS...   \n",
       "2   E. Progress payments will be made no less tha...   \n",
       "3   11. INDEPENDENT CONSULTANT STATUS. CONSULTANT...   \n",
       "\n",
       "                                            response     score  \n",
       "0  The contract does not explicitly prohibit payi...  0.827397  \n",
       "1  The contract does not explicitly prohibit payi...  0.820068  \n",
       "2  The contract does not explicitly prohibit payi...  0.798163  \n",
       "3  The contract does not explicitly prohibit payi...  0.791048  "
      ]
     },
     "execution_count": 13,
     "metadata": {},
     "output_type": "execute_result"
    }
   ],
   "source": [
    "query_string = \"\"\"\n",
    "    PREFIX llm: <http://franz.com/ns/allegrograph/8.0.0/llm/>\n",
    "    select * where {\n",
    "        (?response ?score ?citation ?content) llm:askMyDocuments (\"Can we pay the consultant a bonus?\" \"contract\" 10 .5) }\"\"\"\n",
    "with conn.executeTupleQuery(query_string) as result:\n",
    "    df = result.toPandas()\n",
    "df.head()"
   ]
  },
  {
   "cell_type": "markdown",
   "id": "48bddd62-053c-4273-ad52-c0297cbd848d",
   "metadata": {},
   "source": [
    "### Wrapping `askMyDocuments` in a function. \n",
    "\n",
    "We have created another class as an example that shows some possible functionality. Again, the code for this can be found in `llm_utils.py`. The creation of a `AskMyDocuments` class always prints the response for ease of use in this notebook. The arguments are as follows:\n",
    "- `conn` - the connection object\n",
    "- `question` - the question to your documents\n",
    "- `vector_db` - the vector database where indexed text is stored\n",
    "- `number` - the maximum number of responses\n",
    "- `confidence` - the minimum matching score"
   ]
  },
  {
   "cell_type": "code",
   "execution_count": 14,
   "id": "34735bc1-be53-4250-8282-81fe146bac1c",
   "metadata": {},
   "outputs": [
    {
     "name": "stdout",
     "output_type": "stream",
     "text": [
      "Based on the contract agreements provided, there isn't a specific prohibition against paying the\n",
      "consultant a bonus. However, the payment terms are explicitly defined and primarily tied to\n",
      "satisfactory services provided and actual allowable incurred costs. Any additional compensation like\n",
      "a bonus may need to be addressed in a separate agreement or amendment, ensuring it does not conflict\n",
      "with the terms about unlawful consideration or kickbacks. It's also crucial to remember the\n",
      "independent contractor status of the consultant, meaning they are paid per job and not eligible for\n",
      "employee benefits. Therefore, it is advisable to consult with legal counsel before proceeding.\n"
     ]
    }
   ],
   "source": [
    "response = AskMyDocuments(conn, 'Can we pay the consultant a bonus?', 'contract')"
   ]
  },
  {
   "cell_type": "markdown",
   "id": "7589ab85-2819-4abe-b694-3c23e70bd252",
   "metadata": {},
   "source": [
    "Again we examine the `proof()` method of the response object"
   ]
  },
  {
   "cell_type": "code",
   "execution_count": 15,
   "id": "a2b07897-1adb-4d95-a48f-41c4da18b0d8",
   "metadata": {},
   "outputs": [
    {
     "name": "stdout",
     "output_type": "stream",
     "text": [
      "0 0.827397 <http://franz.com/2.>\n",
      " 2. COMPENSATION. In consideration for CONSULTANT accomplishing said result, COMMISSION agrees to\n",
      "pay CONSULTANT as follows:\n",
      "\n",
      "1 0.8200683 <http://franz.com/22.>\n",
      " 22. REBATES, KICKBACKS OR OTHER UNLAWFUL CONSIDERATION. The CONSULTANT warrants that this Agreement\n",
      "was not obtained or secured through rebates kickbacks or other unlawful consideration, either\n",
      "promised or paid to any COMMISSION employee. For breach or violation of this warranty, COMMISSION\n",
      "shall have the right in its discretion to terminate the Agreement without liability; to pay only for\n",
      "the value of the work actually performed; or to deduct from the contract price; or otherwise recover\n",
      "the full amount of such rebate, kickback or other unlawful consideration.\n",
      "\n",
      "2 0.79816335 <http://franz.com/2._E.>\n",
      " E. Progress payments will be made no less than monthly in arrears based on satisfactory services\n",
      "provided and actual allowable incurred costs. A pro rata portion of the CONSULTANTs fixed fee, if\n",
      "applicable, will be included in the monthly progress payments. If CONSULTANT fails to submit the\n",
      "required  Page 2 deliverable items according to the schedule set forth in the Scope of Services, the\n",
      "COMMISSION may delay payment and/or terminate this Agreement in accordance with the provisions of\n",
      "Section 4 of this Agreement.\n",
      "\n",
      "3 0.79104793 <http://franz.com/11.>\n",
      " 11. INDEPENDENT CONSULTANT STATUS. CONSULTANT and COMMISSION have reviewed and considered the\n",
      "principal test and secondary factors herein and agree that CONSULTANT is an independent CONSULTANT\n",
      "and not an employee of COMMISSION. CONSULTANT is responsible for all insurance (workers\n",
      "compensation, unemployment, etc.) and all payroll related taxes. CONSULTANT is not entitled to any\n",
      "employee benefits. COMMISSION agrees that CONSULTANT shall have the right to control the manner and\n",
      "means of accomplishing the result contracted for herein.  PRINCIPAL TEST: The CONSULTANT rather than\n",
      "COMMISSION has the right to control the manner and means of accomplishing the result contracted for.\n",
      "SECONDARY FACTORS: (a) The extent of control which, by agreement, COMMISSION may exercise over the\n",
      "details of the work is slight rather than substantial; (b) CONSULTANT is engaged in a distinct\n",
      "occupation or business; (c) In the locality, the work to be done by CONSULTANT is usually done by a\n",
      "specialist without supervision, rather than under the direction of an employer; (d) The skill\n",
      "required in the particular occupation is substantial rather than slight; (e) The CONSULTANT rather\n",
      "than the COMMISSION supplies the instrumentalities, tools and work place; (f) The length of time for\n",
      "which CONSULTANT is engaged is of limited duration rather than indefinite; (g) The method of payment\n",
      "of CONSULTANT is by the job rather than by the time; (h) The work is part of a special or permissive\n",
      "activity, program, or project, rather than part of the regular business of COMMISSION; (i)\n",
      "CONSULTANT and COMMISSION believe they are creating an independent CONSULTANT relationship rather\n",
      "than an employer-employee relationship; and (j) The COMMISSION conducts public business. It is\n",
      "recognized that it is not necessary that all secondary factors support creation of an independent\n",
      "CONSULTANT relationship, but rather that overall there are significant secondary factors which\n",
      "indicate that CONSULTANT is an independent CONSULTANT. By their signatures to this Agreement, each\n",
      "of the undersigned certifies that it is his or her considered judgment that the CONSULTANT engaged\n",
      "under this Agreement is in fact an independent CONSULTANT.\n",
      "\n"
     ]
    }
   ],
   "source": [
    "response.proof()"
   ]
  },
  {
   "cell_type": "markdown",
   "id": "ecc9ce79-647f-4fdc-890c-2d33834721b1",
   "metadata": {},
   "source": [
    "We add the response and it's proof to the graph with the `add_evidence_to_graph` method"
   ]
  },
  {
   "cell_type": "code",
   "execution_count": 16,
   "id": "84e563e3-1746-4fd9-8afc-5103a354bbc8",
   "metadata": {},
   "outputs": [],
   "source": [
    "response.add_evidence_to_graph()"
   ]
  },
  {
   "cell_type": "markdown",
   "id": "81973df4-19e4-464c-905a-66a499ee86d8",
   "metadata": {},
   "source": [
    "![ask my contract](images/ask_my_contract.png)"
   ]
  },
  {
   "cell_type": "markdown",
   "id": "8614aa85-be3e-460c-8b25-5fd090fb95af",
   "metadata": {},
   "source": [
    "Now, just a few more examples"
   ]
  },
  {
   "cell_type": "code",
   "execution_count": 17,
   "id": "12f2661c-eeb7-4d8c-a2e2-d967b07e1045",
   "metadata": {},
   "outputs": [
    {
     "name": "stdout",
     "output_type": "stream",
     "text": [
      "With each invoice, the consultant should submit the following: 1) Written progress reports that are\n",
      "detailed enough for the Contract Manager to assess performance and schedule, communicate interim\n",
      "findings, and address any difficulties or special problems encountered. 2) Itemized invoices should\n",
      "be submitted no later than 45 calendar days after the work performed. These invoices should include\n",
      "labor details (staff name, hours charged, hourly billing rate, current and cumulative charges),\n",
      "itemized expenses incurred during the billing period, total invoice/payment requested, total amount\n",
      "previously paid under the agreement, report of expenditures by the consultant and subconsultants for\n",
      "each task and subtask or milestone and estimated percentage completion, and other information as\n",
      "requested by the commission. 3) If applicable, the consultant should fulfill any requirements\n",
      "pursuant to its insurance policies including paying any deductibles and self-insured retentions\n",
      "(SIR) required to be paid under any insurance policy that may provide defense or indemnity coverage\n",
      "to the commission or any additional insured. 4) Any deliverables or documentation as outlined in the\n",
      "agreement.\n"
     ]
    }
   ],
   "source": [
    "response = AskMyDocuments(conn, \"What should the consultant submit with each invoice?\", \"contract\")"
   ]
  },
  {
   "cell_type": "code",
   "execution_count": 18,
   "id": "8634c46b-7bda-4f47-8b4f-29e1f4d7dd68",
   "metadata": {},
   "outputs": [
    {
     "name": "stdout",
     "output_type": "stream",
     "text": [
      "In the event a third party sues the contractor and attempts to collect money from the city, the\n",
      "contractor is contractually obligated to indemnify, defend, and hold harmless the Commission,\n",
      "including its officers, agents, employees and volunteers, from such actions as per the terms of the\n",
      "agreement (http://franz.com/5). Additionally, the contractor is required to perform duties pursuant\n",
      "to its insurance policies, potentially including payment of deductibles and self-insured retentions\n",
      "related to defense or indemnity coverage (http://franz.com/6._B._7). However, depending on the\n",
      "specifics of the case and the nature of the alleged unlawful consideration, the Commission may have\n",
      "the right to terminate the agreement without liability (http://franz.com/22). If the contractor is\n",
      "in breach of terms or violates provisions of the agreement, the Commission could also potentially\n",
      "terminate the agreement for the contractor's default (http://franz.com/4._B). The Commission and the\n",
      "contractor are obligated to comply with all applicable laws and regulations, and to cooperate in\n",
      "resolving any conflicts (http://franz.com/7).\n"
     ]
    }
   ],
   "source": [
    "response = AskMyDocuments(conn, \"A third party sued the contractor and tried to collect money from the city.\", \"contract\")"
   ]
  },
  {
   "cell_type": "code",
   "execution_count": null,
   "id": "dad7e352-242b-46e9-8c58-57c13fac4e3c",
   "metadata": {},
   "outputs": [],
   "source": []
  }
 ],
 "metadata": {
  "kernelspec": {
   "display_name": "Python [conda env:llm]",
   "language": "python",
   "name": "conda-env-llm-py"
  },
  "language_info": {
   "codemirror_mode": {
    "name": "ipython",
    "version": 3
   },
   "file_extension": ".py",
   "mimetype": "text/x-python",
   "name": "python",
   "nbconvert_exporter": "python",
   "pygments_lexer": "ipython3",
   "version": "3.11.6"
  }
 },
 "nbformat": 4,
 "nbformat_minor": 5
}
