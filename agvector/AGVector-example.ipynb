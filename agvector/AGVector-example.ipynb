{
 "cells": [
  {
   "cell_type": "markdown",
   "id": "63039c6f-3e2b-4168-b3e6-8a72f42dbad2",
   "metadata": {},
   "source": [
    "# AllegroGraph LLM Embedding Examples"
   ]
  },
  {
   "cell_type": "code",
   "execution_count": 1,
   "id": "7bf9cea2-f15c-4414-a308-294b3bd27929",
   "metadata": {},
   "outputs": [],
   "source": [
    "from franz.openrdf.connect import ag_connect\n",
    "from franz.openrdf.vocabulary import RDF, RDFS\n",
    "from llm_utils import BufferTriples, addArbitraryTextString, read_text, FindNearestNeighbors, AskMyDocuments\n",
    "from franz.openrdf.model.value import URI\n",
    "from langchain.text_splitter import RecursiveCharacterTextSplitter\n",
    "from langchain.schema.document import Document\n",
    "import shortuuid\n",
    "import pandas as pd\n",
    "import urllib\n",
    "import textwrap\n",
    "import os\n",
    "\n",
    "#set your environment variables here\n",
    "os.environ['AGRAPH_USER'] = 'your username'\n",
    "os.environ['AGRAPH_PASSWORD'] = 'your password'\n",
    "os.environ['AGRAPH_HOST'] = 'your hostname' #Note that if you are on an AllegroGraph cloud server, your agraph_host might look something like the following: https://ag1zzkvywf0yteww.allegrograph.cloud\n",
    "os.environ['AGRAPH_PORT'] = 'your port' #If you you are on an AllegroGraph cloud server, your port should be '443'"
   ]
  },
  {
   "cell_type": "markdown",
   "id": "8a31c834-c259-44c1-bc26-84a89235c67c",
   "metadata": {},
   "source": [
    "Before starting any other work it is very important to set your openai API key in your AG server. The directions are present in the README, but are added here as well due to their importance.\n",
    "\n",
    "1. Please navigate to your local installation of the new webview\n",
    "2. Go to the repository where your data is stored (`llm-philosophy` if you're using the repo created from this demo)\n",
    "3. Go to `Repository Control` in the left column under `Repository` and search for `query execution options`. Select it.\n",
    "4. Select `+ New Query Option` and add **openaiApiKey** as the _name_, and your OpenAI api key as the _value_. Set the `Scope` to **Repository** (You will have to do this for both examples)\n",
    "5. Don't forget to save by hitting `Save Query Options`!\n",
    "\n",
    "# Import Philosophy Books into AllegroGraph\n",
    "\n",
    "In this example we read in a few philosophy books from [Project Gutenberg](https://www.gutenberg.org/) and then show the power of two new AllegroGraph Magic Predicates, `llm:nearestNeighbor` and `llm:askMyDocuments`. First we select a few books from the Gutenberg Library and gather some data from the website manually and add it to the following dictionary. The keys of the dictionary are what we want the URI of the book to be in the graph. The author and title speak for themselves, and then the contents are a link to a text version of book ([example here](https://www.gutenberg.org/cache/epub/7370/pg7370.txt)):"
   ]
  },
  {
   "cell_type": "code",
   "execution_count": 3,
   "id": "4c348f40-ce10-4be6-9605-1661e52684d6",
   "metadata": {},
   "outputs": [],
   "source": [
    "documents = {\n",
    "    \"http://franz.com/llm/SecondTreatiseOfGovernment\":{\n",
    "        \"author\": \"John Locke\",\n",
    "        \"title\": \"Second Treatise of Government\",\n",
    "        \"contents\": \"https://www.gutenberg.org/cache/epub/7370/pg7370.txt\",\n",
    "    },\n",
    "    \"http://franz.com/llm/TheRepublic\":{\n",
    "        \"author\": \"Plato\",\n",
    "        \"title\": \"The Republic\",\n",
    "        \"contents\": \"https://www.gutenberg.org/cache/epub/1497/pg1497.txt\",\n",
    "    },\n",
    "    \"http://franz.com/llm/CritiqueOfPureReason\":{\n",
    "        \"author\": \"Immanuel Kant\",\n",
    "        \"title\": \"The Critique of Pure Reason\",\n",
    "        \"contents\": \"https://www.gutenberg.org/cache/epub/4280/pg4280.txt\"\n",
    "    },\n",
    "    \"http://franz.com/llm/TreatiseOfHumanNature\":{\n",
    "        \"author\": \"David Hume\",\n",
    "        \"title\": \"A Treatise of Human Nature\",\n",
    "        \"contents\": \"https://www.gutenberg.org/cache/epub/4705/pg4705.txt\"\n",
    "    }\n",
    "}"
   ]
  },
  {
   "cell_type": "markdown",
   "id": "d7c3cd39-c909-4a89-86e6-f5a6b29045c0",
   "metadata": {},
   "source": [
    "Then we connect to a new AllegroGraph repository and declare some local namespaces we will use to add the documents to the graph as triples. Please add the necessary parameters to connect to your AllegroGraph server."
   ]
  },
  {
   "cell_type": "code",
   "execution_count": 2,
   "id": "1ab79e36-bd3b-4492-a912-d3a18a03ae67",
   "metadata": {},
   "outputs": [],
   "source": [
    "conn = ag_connect('llm-philosophy')\n",
    "conn.setNamespace('', 'http://franz.com/llm/')\n",
    "f = conn.namespace('http://franz.com/llm/')"
   ]
  },
  {
   "cell_type": "markdown",
   "id": "f81ecece-5bfc-4f54-affe-078cc7dc9c63",
   "metadata": {},
   "source": [
    "We then loop through the documents and grab the contents using the `urllib` library. For each document we split using [Langchain's Recursive Text Splitter](https://python.langchain.com/docs/modules/data_connection/document_transformers/text_splitters/recursive_text_splitter) and add the chunks of text to the graph. You can examine the splitting of the text in the _addArbitraryTextString_ code in the `llm_utils.py` file in this same directory."
   ]
  },
  {
   "cell_type": "code",
   "execution_count": 5,
   "id": "10618ada-5d6b-4a28-97f0-9a6ed3b273f9",
   "metadata": {},
   "outputs": [],
   "source": [
    "buffer = BufferTriples(conn)\n",
    "for document in documents:\n",
    "    id_uri = conn.createURI(document)\n",
    "    buffer.add((id_uri, RDF.TYPE, f.Document, id_uri))\n",
    "    buffer.add((id_uri, f.title, documents[document]['title'], id_uri))\n",
    "    buffer.add((id_uri, RDFS.LABEL, documents[document]['title'], id_uri))\n",
    "    text = read_text(documents[document]['contents'])\n",
    "    buffer = addArbitraryTextString(conn, f, buffer, text, id_uri)\n",
    "buffer.flush_triples()"
   ]
  },
  {
   "cell_type": "markdown",
   "id": "4fca77fa-8cc4-4d8b-a4cf-50d29abbed4f",
   "metadata": {},
   "source": [
    "Note that the following image may not be the same for you depending on the splitter used."
   ]
  },
  {
   "cell_type": "markdown",
   "id": "48ac58c0-8e66-4ba2-98da-3d854b9dc5e8",
   "metadata": {},
   "source": [
    "![philosophy-books](images/philosophy-books.png)"
   ]
  },
  {
   "cell_type": "markdown",
   "id": "b7b24100-9488-48eb-90ad-a94509191765",
   "metadata": {},
   "source": [
    "## Indexing the text fragments with openAI\n",
    "\n",
    "In order to ask question of your own documents you first need to index all the text fragment using agtool and openAI embeddings. The documentation on how to do this and how it works can be found [here](https://internal.franz.com/people/dm/docs/llmembed.html). There are currently two ways to do this embedding, via the AllegroGraph Webview, or via our command line `agtool`.\n",
    "\n",
    "### Embedding via AllegroGraph Webview\n",
    "\n",
    "To embed via WebView navigate to `Repository Control` in the left column under `Repository`. Then select `Create LLM Embedding`. In this page you can:\n",
    "* Create or open a vector store\n",
    "* Choose you embedder and model, and add your api key\n",
    "* Decide which predicates/types to include or exlude from the embedding. In this example we will embed all text that is the object of the triple with predicate `<http://franz.com/llm/text>`\n",
    "\n",
    "![webview-embedding](images/webview-llm-embed-philosophy.png)\n",
    "\n",
    "### Embedding via agtool\n",
    "\n",
    "For agtool to work it needs some metadata that we put in a `.def` file as described in the link above. In this tutorial we define `philosophy.def` and assume we are using `OpenAI` for embedding. Note that this method is currently not available if you are on an AllegroGraph Cloud server.\n",
    "```text\n",
    "gpt\n",
    " api-key \"your-openai-api-key-here\"\n",
    " vector-database-name 10035/philosophy-vec\n",
    " embedder openai\n",
    " include-predicates <http://franz.com/llm/text>\n",
    "```\n",
    "The explanations of thses parameters can be found in the documentation linked above.\n",
    "\n",
    "We run the following command to index the documents (the command will change depending on your location of documents/server etc.) This command assumes you created an alias for agtool, and that your server runs on localhost:10035. \n",
    "\n",
    "```shell\n",
    "agtool llm index localhost:10035/llm-philosophy philosophy.def \n",
    "```\n",
    "\n",
    "Once the embedding is done we can starting querying the graph!\n",
    "\n",
    "## Nearest Neighbor SPARQL Query\n",
    "\n",
    "The general syntax for the query clause of `llm:nearestNeighbors` is as follows:\n",
    "```\n",
    "(?uri ?score ?originalText) llm:nearestNeighbor (?text ?vector-database ?topN ?minScore)\n",
    "```\n",
    "\n",
    "Please make sure you have set your OpenAI API key in Webview before attempting the following queries.\n",
    "\n",
    "We will start with a sample SPARQL query for nearest neighbors."
   ]
  },
  {
   "cell_type": "code",
   "execution_count": 3,
   "id": "f7b0784b-4402-4739-9d72-f92d3f50a29a",
   "metadata": {},
   "outputs": [
    {
     "data": {
      "text/html": [
       "<div>\n",
       "<style scoped>\n",
       "    .dataframe tbody tr th:only-of-type {\n",
       "        vertical-align: middle;\n",
       "    }\n",
       "\n",
       "    .dataframe tbody tr th {\n",
       "        vertical-align: top;\n",
       "    }\n",
       "\n",
       "    .dataframe thead th {\n",
       "        text-align: right;\n",
       "    }\n",
       "</style>\n",
       "<table border=\"1\" class=\"dataframe\">\n",
       "  <thead>\n",
       "    <tr style=\"text-align: right;\">\n",
       "      <th></th>\n",
       "      <th>originalText</th>\n",
       "      <th>score</th>\n",
       "      <th>uri</th>\n",
       "    </tr>\n",
       "  </thead>\n",
       "  <tbody>\n",
       "    <tr>\n",
       "      <th>0</th>\n",
       "      <td>private education of parents, contribute to th...</td>\n",
       "      <td>0.813789</td>\n",
       "      <td>&lt;http://franz.com/vdb/id/227&gt;</td>\n",
       "    </tr>\n",
       "    <tr>\n",
       "      <th>1</th>\n",
       "      <td>government, and do either promote, or not, wha...</td>\n",
       "      <td>0.813346</td>\n",
       "      <td>&lt;http://franz.com/vdb/id/4150&gt;</td>\n",
       "    </tr>\n",
       "    <tr>\n",
       "      <th>2</th>\n",
       "      <td>to a kind of natural authority, that the chief...</td>\n",
       "      <td>0.811307</td>\n",
       "      <td>&lt;http://franz.com/vdb/id/4288&gt;</td>\n",
       "    </tr>\n",
       "    <tr>\n",
       "      <th>3</th>\n",
       "      <td>And the government is the ruling power in each...</td>\n",
       "      <td>0.809082</td>\n",
       "      <td>&lt;http://franz.com/vdb/id/3415&gt;</td>\n",
       "    </tr>\n",
       "    <tr>\n",
       "      <th>4</th>\n",
       "      <td>in the execution is connected, though not imme...</td>\n",
       "      <td>0.808754</td>\n",
       "      <td>&lt;http://franz.com/vdb/id/238&gt;</td>\n",
       "    </tr>\n",
       "  </tbody>\n",
       "</table>\n",
       "</div>"
      ],
      "text/plain": [
       "                                        originalText     score  \\\n",
       "0  private education of parents, contribute to th...  0.813789   \n",
       "1  government, and do either promote, or not, wha...  0.813346   \n",
       "2  to a kind of natural authority, that the chief...  0.811307   \n",
       "3  And the government is the ruling power in each...  0.809082   \n",
       "4  in the execution is connected, though not imme...  0.808754   \n",
       "\n",
       "                              uri  \n",
       "0   <http://franz.com/vdb/id/227>  \n",
       "1  <http://franz.com/vdb/id/4150>  \n",
       "2  <http://franz.com/vdb/id/4288>  \n",
       "3  <http://franz.com/vdb/id/3415>  \n",
       "4   <http://franz.com/vdb/id/238>  "
      ]
     },
     "execution_count": 3,
     "metadata": {},
     "output_type": "execute_result"
    }
   ],
   "source": [
    "query_string = \"\"\"\n",
    "        PREFIX llm: <http://franz.com/ns/allegrograph/8.0.0/llm/> \n",
    "        select * where { \n",
    "            (?uri ?score ?originalText) llm:nearestNeighbor (\"government\" \"philosophy-vec\" 10 0.1)  }\"\"\"\n",
    "with conn.executeTupleQuery(query_string) as result:\n",
    "    df = result.toPandas()\n",
    "df.head()"
   ]
  },
  {
   "cell_type": "markdown",
   "id": "1502b825-764a-49ed-8579-e417fa8292e3",
   "metadata": {},
   "source": [
    "### Wrapping nearestNeighbor in a function. \n",
    "We wrote a sample class that allows users to find nearest neighbors and also perform some additional tasks with the response object. The parameters are:\n",
    "- `conn` - The connection object\n",
    "- `phrase` - the phrase for which you are looking to find the nearest neighbors\n",
    "- `vector_db` - the vector database\n",
    "- `number` - (optional) set to 10 if not declared, sets the maximum number of neighbors you wished returned\n",
    "- `confidence` - (optional) set to .5 if note declared, sets the minimum matching score for all returned vectors\n"
   ]
  },
  {
   "cell_type": "code",
   "execution_count": 4,
   "id": "0e414e46-c5c3-4ce9-b1dc-2975e3e66f52",
   "metadata": {},
   "outputs": [
    {
     "name": "stdout",
     "output_type": "stream",
     "text": [
      "private education of parents, contribute to the giving us a sense of  honour and duty in the strict\n",
      "regulation of our actions with regard to  the properties of others.          SECT. VII OF THE ORIGIN\n",
      "OF GOVERNMENT      Nothing is more certain, than that men are, in a great measure, governed  by\n",
      "interest, and that even when they extend their concern beyond  themselves, it is not to any great\n",
      "distance; nor is it usual for  them, in common life, to look farther than their nearest friends and\n",
      "acquaintance. It is no less certain, that it is impossible for men to  consult, their interest in so\n",
      "effectual a manner, as by an universal and  inflexible observance of the rules of justice, by which\n",
      "alone they can  preserve society, and keep themselves from falling into that wretched  and savage\n",
      "condition, which is commonly represented as the state of  nature. And as this interest, which all\n",
      "men have in the upholding of  society, and the observation of the rules of justice, is great, so is\n"
     ]
    }
   ],
   "source": [
    "nn = FindNearestNeighbors(conn, 'government', 'philosophy-vec')"
   ]
  },
  {
   "cell_type": "markdown",
   "id": "57865f9a-36e9-4267-a136-8d373bf562f9",
   "metadata": {},
   "source": [
    "The following method simply prints the URI of the nearest vector, the matching score, and the text of the matching vector. "
   ]
  },
  {
   "cell_type": "code",
   "execution_count": 5,
   "id": "519b1f2a-9c2c-447b-934e-f81e92ead0f4",
   "metadata": {},
   "outputs": [
    {
     "name": "stdout",
     "output_type": "stream",
     "text": [
      "0 <http://franz.com/vdb/id/227> 0.8137894\n",
      "private education of parents, contribute to the giving us a sense of  honour and duty in the strict\n",
      "regulation of our actions with regard to  the properties of others.          SECT. VII OF THE ORIGIN\n",
      "OF GOVERNMENT      Nothing is more certain, than that men are, in a great measure, governed  by\n",
      "interest, and that even when they extend their concern beyond  themselves, it is not to any great\n",
      "distance; nor is it usual for  them, in common life, to look farther than their nearest friends and\n",
      "acquaintance. It is no less certain, that it is impossible for men to  consult, their interest in so\n",
      "effectual a manner, as by an universal and  inflexible observance of the rules of justice, by which\n",
      "alone they can  preserve society, and keep themselves from falling into that wretched  and savage\n",
      "condition, which is commonly represented as the state of  nature. And as this interest, which all\n",
      "men have in the upholding of  society, and the observation of the rules of justice, is great, so is\n",
      "\n",
      "1 <http://franz.com/vdb/id/4150> 0.8133457\n",
      "government, and do either promote, or not, what lies in them, hinder  such designs, they are guilty,\n",
      "and partake in this, which is certainly  the greatest crime which men can partake of one towards\n",
      "another.    Sec. 219.There is one way more whereby such a government may be  dissolved, and that is:\n",
      "When he who has the supreme executive power,  neglects and abandons that charge, so that the laws\n",
      "already made can no  longer be put in execution. This is demonstratively to reduce all to  anarchy,\n",
      "and so effectually to dissolve the government: for laws not  being made for themselves, but to be,\n",
      "by their execution, the bonds of  the society, to keep every part of the body politic in its due\n",
      "place and  function; when that totally ceases, the government visibly ceases, and  the people become\n",
      "a confused multitude, without order or connexion.  Where there is no longer the administration of\n",
      "justice, for the securing  of men’s rights, nor any remaining power within the community to direct\n",
      "\n",
      "2 <http://franz.com/vdb/id/4288> 0.8113072\n",
      "to a kind of natural authority, that the chief rule, with arbitration of  their differences, by a\n",
      "tacit consent devolved into his hands, without  any other caution, but the assurance they had of his\n",
      "uprightness and  wisdom; yet when time, giving authority, and (as some men would persuade  us)\n",
      "sacredness of customs, which the negligent, and unforeseeing  innocence of the first ages began, had\n",
      "brought in successors of another  stamp, the people finding their properties not secure under the\n",
      "government, as then it was, (whereas government has no other end but the  preservation of* property)\n",
      "could never be safe nor at rest, nor think  themselves in civil society, till the legislature was\n",
      "placed in  collective bodies of men, call them senate, parliament, or what you  please. By which\n",
      "means every single person became subject, equally with  other the meanest men, to those laws, which\n",
      "he himself, as part of the  legislative, had established; nor could any one, by his own authority;\n",
      "\n",
      "3 <http://franz.com/vdb/id/3415> 0.80908185\n",
      "And the government is the ruling power in each state?    Certainly.    And the different forms of\n",
      "government make laws democratical,  aristocratical, tyrannical, with a view to their several\n",
      "interests; and  these laws, which are made by them for their own interests, are the  justice which\n",
      "they deliver to their subjects, and him who transgresses  them they punish as a breaker of the law,\n",
      "and unjust. And that is what  I mean when I say that in all states there is the same principle of\n",
      "justice, which is the interest of the government; and as the government  must be supposed to have\n",
      "power, the only reasonable conclusion is, that  everywhere there is one principle of justice, which\n",
      "is the interest of  the stronger.    Now I understand you, I said; and whether you are right or not\n",
      "I will  try to discover. But let me remark, that in defining justice you have  yourself used the\n",
      "word ‘interest’ which you forbade me to use. It is\n",
      "\n",
      "4 <http://franz.com/vdb/id/238> 0.80875367\n",
      "in the execution is connected, though not immediately, with the failure  of the whole, they prevent\n",
      "that failure, because they find no interest  in it, either immediate or remote. Thus bridges are\n",
      "built; harbours  opened; ramparts raised; canals formed; fleets equiped; and armies  disciplined\n",
      "every where, by the care of government, which, though  composed of men subject to all human\n",
      "infirmities, becomes, by one of the  finest and most subtle inventions imaginable, a composition,\n",
      "which is,  in some measure, exempted from all these infirmities.          SECT. VIII OF THE SOURCE\n",
      "OF ALLEGIANCE      Though government be an invention very advantageous, and even in some\n",
      "circumstances absolutely necessary to mankind; it is not necessary in  all circumstances, nor is it\n",
      "impossible for men to preserve society  for some time, without having recourse to such an invention.\n",
      "Men, it is  true, are always much inclined to prefer present interest to distant\n",
      "\n",
      "5 <http://franz.com/vdb/id/173> 0.80871636\n",
      "imagine, that such particular persons have a right to command, as we on  our part are bound to obey.\n",
      "These notions of right and obligation are  derived from nothing but the advantage we reap from\n",
      "government, which  gives us a repugnance to practise resistance ourselves, and makes us  displeased\n",
      "with any instance of it in others. But here it is remarkable,  that in this new state of affairs,\n",
      "the original sanction of government,  which is interest, is not admitted to determine the persons,\n",
      "whom we are  to obey, as the original sanction did at first, when affairs were on  the footing of a\n",
      "promise. A promise fixes and determines the persons,  without any uncertainty: But it is evident,\n",
      "that if men were to regulate  their conduct in this particular, by the view of a peculiar interest,\n",
      "either public or private, they would involve themselves in endless  confusion, and would render all\n",
      "government, in a great measure,  ineffectual. The private interest of every one is different; and\n",
      "though\n",
      "\n",
      "6 <http://franz.com/vdb/id/2994> 0.8077429\n",
      "owners; and they enslaved their friends and maintainers, whom they had  formerly protected in the\n",
      "condition of freemen, and made of them  subjects and servants; and they themselves were engaged in\n",
      "war and in  keeping a watch against them.    I believe that you have rightly conceived the origin of\n",
      "the change.    And the new government which thus arises will be of a form intermediate  between\n",
      "oligarchy and aristocracy?    Very true.    Such will be the change, and after the change has been\n",
      "made, how will  they proceed? Clearly, the new State, being in a mean between oligarchy  and the\n",
      "perfect State, will partly follow one and partly the other, and  will also have some peculiarities.\n",
      "True, he said.    In the honour given to rulers, in the abstinence of the warrior class  from\n",
      "agriculture, handicrafts, and trade in general, in the institution  of common meals, and in the\n",
      "attention paid to gymnastics and military  training—in all these respects this State will resemble\n",
      "the former.\n",
      "\n",
      "7 <http://franz.com/vdb/id/2996> 0.80599517\n",
      "money which they prize; they will spend that which is another man’s on  the gratification of their\n",
      "desires, stealing their pleasures and  running away like children from the law, their father: they\n",
      "have been  schooled not by gentle influences but by force, for they have neglected  her who is the\n",
      "true Muse, the companion of reason and philosophy, and  have honoured gymnastic more than music.\n",
      "Undoubtedly, he said, the form of government which you describe is a  mixture of good and evil.\n",
      "Why, there is a mixture, I said; but one thing, and one thing only, is  predominantly seen,—the\n",
      "spirit of contention and ambition; and these  are due to the prevalence of the passionate or\n",
      "spirited element.    Assuredly, he said.    Such is the origin and such the character of this State,\n",
      "which has been  described in outline only; the more perfect execution was not required,  for a\n",
      "sketch is enough to show the type of the most perfectly just and\n",
      "\n",
      "8 <http://franz.com/vdb/id/244> 0.805058\n",
      "a moral obligation, it is to be considered as the original sanction of  government, and as the\n",
      "source of the first obligation to obedience. This  reasoning appears so natural, that it has become\n",
      "the foundation of our  fashionable system of politics, and is in a manner the creed of a party\n",
      "amongst us, who pride themselves, with reason, on the soundness of their  philosophy, and their\n",
      "liberty of thought. All men, say they, are born  free and equal: Government and superiority can only\n",
      "be established by  consent: The consent of men, in establishing government, imposes on them  a new\n",
      "obligation, unknown to the laws of nature. Men, therefore, are  bound to obey their magistrates,\n",
      "only because they promise it; and if  they had not given their word, either expressly or tacitly, to\n",
      "preserve  allegiance, it would never have become a part of their moral duty. This  conclusion,\n",
      "however, when carried so far as to comprehend government in\n",
      "\n",
      "9 <http://franz.com/vdb/id/154> 0.804677\n",
      "world, government would still be necessary in all large and civilized  societies; and if promises\n",
      "had only their own proper obligation, without  the separate sanction of government, they would have\n",
      "but little efficacy  in such societies. This separates the boundaries of our public and  private\n",
      "duties, and shews that the latter are more dependant on the  former, than the former on the latter.\n",
      "Education, and the artifice of  politicians, concur to bestow a farther morality on loyalty, and to\n",
      "brand all rebellion with a greater degree of guilt and infamy. Nor is  it a wonder, that politicians\n",
      "should be very industrious in inculcating  such notions, where their interest is so particularly\n",
      "concerned.    Lest those arguments should not appear entirely conclusive (as I think  they are) I\n",
      "shall have recourse to authority, and shall prove, from the  universal consent of mankind, that the\n",
      "obligation of submission to  government is not derived from any promise of the subjects. Nor need\n",
      "\n"
     ]
    }
   ],
   "source": [
    "nn.proof()"
   ]
  },
  {
   "cell_type": "markdown",
   "id": "c7cb0e94-03df-4845-9048-abfca28fbbd2",
   "metadata": {},
   "source": [
    "The following method of `add_neighbors_to_graph` creates a connection between each of the \"neighbors\". It does this with the following steps:\n",
    "- creates a node for the request which stores the phrase, the minimum matching score, and when the query was run\n",
    "- We create a blank node which stores the matching score and the index.\n",
    "- Then we connect the blank nodes to the respective text chunk."
   ]
  },
  {
   "cell_type": "code",
   "execution_count": 6,
   "id": "362d1ad6-a1a5-4cd8-8436-59c9bdc0298f",
   "metadata": {},
   "outputs": [],
   "source": [
    "nn.add_neighbors_to_graph()"
   ]
  },
  {
   "cell_type": "markdown",
   "id": "5deeb5d5-5e0f-4686-b7c6-f5b2757b5eaf",
   "metadata": {},
   "source": [
    "The following is an image generated from an old example and will look slightly different"
   ]
  },
  {
   "cell_type": "markdown",
   "id": "22e18b98-5141-47fb-b590-c30b718abd2b",
   "metadata": {},
   "source": [
    "![nearest neighbors](images/nearestneighbors.png)"
   ]
  },
  {
   "cell_type": "code",
   "execution_count": 7,
   "id": "8f769284-6030-499c-93d5-6c8c17ef29fb",
   "metadata": {},
   "outputs": [
    {
     "name": "stdout",
     "output_type": "stream",
     "text": [
      "which will bear the examination of the latest posterity. For my part,  my only hope is, that I may\n",
      "contribute a little to the advancement  of knowledge, by giving in some particulars a different turn\n",
      "to the  speculations of philosophers, and pointing out to them more distinctly  those subjects,\n",
      "where alone they can expect assurance and conviction.  Human Nature is the only science of man; and\n",
      "yet has been hitherto the  most neglected. It will be sufficient for me, if I can bring it a little\n",
      "more into fashion; and the hope of this serves to compose my temper  from that spleen, and\n",
      "invigorate it from that indolence, which  sometimes prevail upon me. If the reader finds himself in\n",
      "the same easy  disposition, let him follow me in my future speculations. If not, let  him follow his\n",
      "inclination, and wait the returns of application and good  humour. The conduct of a man, who studies\n",
      "philosophy in this careless  manner, is more truly sceptical than that of one, who feeling in\n",
      "himself\n"
     ]
    }
   ],
   "source": [
    "nn = FindNearestNeighbors(conn, 'What is Human Nature', 'philosophy-vec', number=10, confidence=.2)"
   ]
  },
  {
   "cell_type": "code",
   "execution_count": 8,
   "id": "072b28b8-8511-41d5-aa25-2fb57f8c0dcf",
   "metadata": {},
   "outputs": [
    {
     "name": "stdout",
     "output_type": "stream",
     "text": [
      "0 <http://franz.com/vdb/id/759> 0.8552525\n",
      "which will bear the examination of the latest posterity. For my part,  my only hope is, that I may\n",
      "contribute a little to the advancement  of knowledge, by giving in some particulars a different turn\n",
      "to the  speculations of philosophers, and pointing out to them more distinctly  those subjects,\n",
      "where alone they can expect assurance and conviction.  Human Nature is the only science of man; and\n",
      "yet has been hitherto the  most neglected. It will be sufficient for me, if I can bring it a little\n",
      "more into fashion; and the hope of this serves to compose my temper  from that spleen, and\n",
      "invigorate it from that indolence, which  sometimes prevail upon me. If the reader finds himself in\n",
      "the same easy  disposition, let him follow me in my future speculations. If not, let  him follow his\n",
      "inclination, and wait the returns of application and good  humour. The conduct of a man, who studies\n",
      "philosophy in this careless  manner, is more truly sceptical than that of one, who feeling in\n",
      "himself\n",
      "\n",
      "1 <http://franz.com/vdb/id/1441> 0.84865904\n",
      "The Project Gutenberg eBook of A Treatise of Human Nature        This ebook is for the use of anyone\n",
      "anywhere in the United States and  most other parts of the world at no cost and with almost no\n",
      "restrictions  whatsoever. You may copy it, give it away or re-use it under the terms  of the Project\n",
      "Gutenberg License included with this ebook or online  at www.gutenberg.org. If you are not located\n",
      "in the United States,  you will have to check the laws of the country where you are located  before\n",
      "using this eBook.    Title: A Treatise of Human Nature    Author: David Hume    Release date:\n",
      "December 1, 2003 [eBook #4705]                  Most recently updated: November 24, 2022\n",
      "Language: English    Credits: Col Choat and David Widger      *** START OF THE PROJECT GUTENBERG\n",
      "EBOOK A TREATISE OF HUMAN NATURE ***          A TREATISE OF HUMAN NATURE    By David Hume\n",
      "CONTENTS        VOLUME I      INTRODUCTION BY THE AUTHOR.      BOOK I  OF THE UNDERSTANDING\n",
      "\n",
      "2 <http://franz.com/vdb/id/3579> 0.8308528\n",
      "dissimilar natures (Statesman), have mankind gradually passed from the  brutality and licentiousness\n",
      "of primitive marriage to marriage  Christian and civilized.    Few persons would deny that we bring\n",
      "into the world an inheritance of  mental and physical qualities derived first from our parents, or\n",
      "through them from some remoter ancestor, secondly from our race,  thirdly from the general condition\n",
      "of mankind into which we are born.  Nothing is commoner than the remark, that ‘So and so is like his\n",
      "father  or his uncle’; and an aged person may not unfrequently note a  resemblance in a youth to a\n",
      "long-forgotten ancestor, observing that  ‘Nature sometimes skips a generation.’ It may be true also,\n",
      "that if we  knew more about our ancestors, these similarities would be even more  striking to us.\n",
      "Admitting the facts which are thus described in a  popular way, we may however remark that there is\n",
      "no method of  difference by which they can be defined or estimated, and that they\n",
      "\n",
      "3 <http://franz.com/vdb/id/3837> 0.8303035\n",
      "natures may be crushed or spoiled by surrounding influences—may become  misanthrope and philanthrope\n",
      "by turns; or in a few instances, like the  founders of the monastic orders, or the Reformers, owing\n",
      "to some  peculiarity in themselves or in their age, may break away entirely from  the world and from\n",
      "the church, sometimes into great good, sometimes  into great evil, sometimes into both. And the same\n",
      "holds in the lesser  sphere of a convent, a school, a family.    Plato would have us consider how\n",
      "easily the best natures are  overpowered by public opinion, and what efforts the rest of mankind\n",
      "will make to get possession of them. The world, the church, their own  profession, any political or\n",
      "party organization, are always carrying  them off their legs and teaching them to apply high and\n",
      "holy names to  their own prejudices and interests. The ‘monster’ corporation to which  they belong\n",
      "judges right and truth to be the pleasure of the community.\n",
      "\n",
      "4 <http://franz.com/vdb/id/1087> 0.82827437\n",
      "conversation of the former in any instance be visibly very agreeable,  and of the latter very\n",
      "judicious, we have entertained such a prejudice  against them, that they must be dunces or fops in\n",
      "spite of sense and  reason. Human nature is very subject to errors of this kind; and perhaps  this\n",
      "nation as much as any other.    Should it be demanded why men form general rules, and allow them to\n",
      "influence their judgment, even contrary to present observation and  experience, I should reply, that\n",
      "in my opinion it proceeds from those  very principles, on which all judgments concerning causes and\n",
      "effects  depend. Our judgments concerning cause and effect are derived from  habit and experience;\n",
      "and when we have been accustomed to see one object  united to another, our imagination passes from\n",
      "the first to the second,  by a natural transition, which precedes reflection, and which cannot be\n",
      "prevented by it. Now it is the nature of custom not only to operate with\n",
      "\n",
      "5 <http://franz.com/vdb/id/125> 0.8272581\n",
      "sympathy; and consequently it is that principle, which takes us so far  out of ourselves, as to give\n",
      "us the same pleasure or uneasiness in the  characters of others, as if they had a tendency to our\n",
      "own advantage or  loss.    The only difference betwixt the natural virtues and justice lies in\n",
      "this, that the good, which results from the former, arises from every  single act, and is the object\n",
      "of some natural passion: Whereas a single  act of justice, considered in itself, may often be\n",
      "contrary to the  public good; and it is only the concurrence of mankind, in a general  scheme or\n",
      "system of action, which is advantageous. When I relieve  persons in distress, my natural humanity is\n",
      "my motive; and so far as  my succour extends, so far have I promoted the happiness of my  fellow-\n",
      "creatures. But if we examine all the questions, that come before  any tribunal of justice, we shall\n",
      "find, that, considering each case  apart, it would as often be an instance of humanity to decide\n",
      "contrary\n",
      "\n",
      "6 <http://franz.com/vdb/id/3576> 0.82588875\n",
      "the family throws in the way of lofty aims and aspirations. But we are  conscious that there are\n",
      "evils and dangers in the background greater  still, which are not appreciated, because they are\n",
      "either concealed or  suppressed. What a condition of man would that be, in which human  passions\n",
      "were controlled by no authority, divine or human, in which  there was no shame or decency, no higher\n",
      "affection overcoming or  sanctifying the natural instincts, but simply a rule of health! Is it  for\n",
      "this that we are asked to throw away the civilization which is the  growth of ages?    For strength\n",
      "and health are not the only qualities to be desired; there  are the more important considerations of\n",
      "mind and character and soul.  We know how human nature may be degraded; we do not know how by\n",
      "artificial means any improvement in the breed can be effected. The  problem is a complex one, for if\n",
      "we go back only four steps (and these  at least enter into the composition of a child), there are\n",
      "commonly\n",
      "\n",
      "7 <http://franz.com/vdb/id/4243> 0.82545936\n",
      "subjects.* The obligations of the law of nature cease not in society,  but only in many cases are\n",
      "drawn closer, and have by human laws known  penalties annexed to them, to inforce their observation.\n",
      "Thus the law of  nature stands as an eternal rule to all men, legislators as well as  others. The\n",
      "rules that they make for other men’s actions, must, as well  as their own and other men’s actions,\n",
      "be conformable to the law of  nature, i.e. to the will of God, of which that is a declaration, and\n",
      "the  fundamental law of nature being the preservation of mankind, no human  sanction can be good, or\n",
      "valid against it.    (*Two foundations there are which bear up public societies; the one a  natural\n",
      "inclination, whereby all men desire sociable life and  fellowship; the other an order, expresly or\n",
      "secretly agreed upon,  touching the manner of their union in living together: the latter is  that\n",
      "which we call the law of a common-weal, the very soul of a politic\n",
      "\n",
      "8 <http://franz.com/vdb/id/75> 0.8252011\n",
      "When experience has once given us a competent knowledge of human  affairs, and has taught us the\n",
      "proportion they bear to human passion, we  perceive, that the generosity of men is very limited, and\n",
      "that it seldom  extends beyond their friends and family, or, at most, beyond their  native country.\n",
      "Being thus acquainted with the nature of man, we expect  not any impossibilities from him; but\n",
      "confine our view to that narrow  circle, in which any person moves, in order to form a judgment of\n",
      "his  moral character. When the natural tendency of his passions leads him  to be serviceable and\n",
      "useful within his sphere, we approve of his  character, and love his person, by a sympathy with the\n",
      "sentiments of  those, who have a more particular connexion with him. We are quickly  obliged to\n",
      "forget our own interest in our judgments of this kind, by  reason of the perpetual contradictions,\n",
      "we meet with in society and  conversation, from persons that are not placed in the same situation,\n",
      "\n",
      "9 <http://franz.com/vdb/id/325> 0.8250734\n",
      "improved, as the society enlarges: If all this appear evident, as it  certainly must, we may\n",
      "conclude, that it is utterly impossible for men  to remain any considerable time in that savage\n",
      "condition, which precedes  society; but that his very first state and situation may justly be\n",
      "esteemed social. This, however, hinders not, but that philosophers may,  if they please, extend\n",
      "their reasoning to the supposed state of nature;  provided they allow it to be a mere philosophical\n",
      "fiction, which never  had, and never could have any reality. Human nature being composed  of two\n",
      "principal parts, which are requisite in all its actions, the  affections and understanding; it is\n",
      "certain, that the blind motions of  the former, without the direction of the latter, incapacitate\n",
      "men for  society: And it may be allowed us to consider separately the effects,  that result from the\n",
      "separate operations of these two component parts of  the mind. The same liberty may be permitted to\n",
      "moral, which is allowed\n",
      "\n"
     ]
    }
   ],
   "source": [
    "nn.proof()"
   ]
  },
  {
   "cell_type": "code",
   "execution_count": 9,
   "id": "eceb5a00-804e-47fe-b65b-b705baff8c23",
   "metadata": {},
   "outputs": [
    {
     "name": "stdout",
     "output_type": "stream",
     "text": [
      "his error. In the state of which he would be the founder, there is no  marrying or giving in\n",
      "marriage: but because of the infirmity of  mankind, he condescends to allow the law of nature to\n",
      "prevail.    (c) But Plato has an equal, or, in his own estimation, even greater  paradox in reserve,\n",
      "which is summed up in the famous text, ‘Until kings  are philosophers or philosophers are kings,\n",
      "cities will never cease  from ill.’ And by philosophers he explains himself to mean those who  are\n",
      "capable of apprehending ideas, especially the idea of good. To the  attainment of this higher\n",
      "knowledge the second education is directed.  Through a process of training which has already made\n",
      "them good citizens  they are now to be made good legislators. We find with some surprise  (not\n",
      "unlike the feeling which Aristotle in a well-known passage  describes the hearers of Plato’s\n",
      "lectures as experiencing, when they  went to a discourse on the idea of good, expecting to be\n",
      "instructed in\n"
     ]
    }
   ],
   "source": [
    "nn = FindNearestNeighbors(conn, 'Philosopher King', 'philosophy-vec', confidence=.8)"
   ]
  },
  {
   "cell_type": "markdown",
   "id": "0910230f-e9d9-49be-ac5f-30c22ca05a93",
   "metadata": {},
   "source": [
    "### askMyDocuments SPARQL Query\n",
    "\n",
    "This magic predicates will force chatGPT to read the topN nearest neighbors found by the function llm:nearestNeighbor and then give an answer using only the output of that function. The syntax of this magic predicate follows here, see also documentation <here>:\n",
    "```\n",
    "(?response ?score ?citation ?content) llm:askMyDocuments (?query ?vectorDatabase ?topN ?minScore)\n",
    "```"
   ]
  },
  {
   "cell_type": "code",
   "execution_count": 15,
   "id": "d6d0d363-e314-408e-ac2d-9f66d7fa61fb",
   "metadata": {},
   "outputs": [
    {
     "data": {
      "text/html": [
       "<div>\n",
       "<style scoped>\n",
       "    .dataframe tbody tr th:only-of-type {\n",
       "        vertical-align: middle;\n",
       "    }\n",
       "\n",
       "    .dataframe tbody tr th {\n",
       "        vertical-align: top;\n",
       "    }\n",
       "\n",
       "    .dataframe thead th {\n",
       "        text-align: right;\n",
       "    }\n",
       "</style>\n",
       "<table border=\"1\" class=\"dataframe\">\n",
       "  <thead>\n",
       "    <tr style=\"text-align: right;\">\n",
       "      <th></th>\n",
       "      <th>response</th>\n",
       "      <th>score</th>\n",
       "      <th>citation</th>\n",
       "      <th>content</th>\n",
       "    </tr>\n",
       "  </thead>\n",
       "  <tbody>\n",
       "    <tr>\n",
       "      <th>0</th>\n",
       "      <td>One view on government advocates for resistanc...</td>\n",
       "      <td>0.82441</td>\n",
       "      <td>&lt;http://franz.com/llm/TreatiseOfHumanNature_1252&gt;</td>\n",
       "      <td>necessity of self-preservation, and the same m...</td>\n",
       "    </tr>\n",
       "    <tr>\n",
       "      <th>1</th>\n",
       "      <td>One view on government advocates for resistanc...</td>\n",
       "      <td>0.82202</td>\n",
       "      <td>&lt;http://franz.com/llm/TheRepublic_1125&gt;</td>\n",
       "      <td>When I take a country walk, he said, I often e...</td>\n",
       "    </tr>\n",
       "  </tbody>\n",
       "</table>\n",
       "</div>"
      ],
      "text/plain": [
       "                                            response    score  \\\n",
       "0  One view on government advocates for resistanc...  0.82441   \n",
       "1  One view on government advocates for resistanc...  0.82202   \n",
       "\n",
       "                                            citation  \\\n",
       "0  <http://franz.com/llm/TreatiseOfHumanNature_1252>   \n",
       "1            <http://franz.com/llm/TheRepublic_1125>   \n",
       "\n",
       "                                             content  \n",
       "0  necessity of self-preservation, and the same m...  \n",
       "1  When I take a country walk, he said, I often e...  "
      ]
     },
     "execution_count": 15,
     "metadata": {},
     "output_type": "execute_result"
    }
   ],
   "source": [
    "query_string = \"\"\"\n",
    "    PREFIX llm: <http://franz.com/ns/allegrograph/8.0.0/llm/>\n",
    "    select ?response ?score ?citation ?content where {\n",
    "        (?response ?score ?citation ?content) llm:askMyDocuments (\"cite two opposing views on government\" \"philosophy-vec\" 10 .5) }\"\"\"\n",
    "with conn.executeTupleQuery(query_string) as result:\n",
    "    df = result.toPandas()\n",
    "df.head()"
   ]
  },
  {
   "cell_type": "markdown",
   "id": "fc430eea-150a-4c1c-b0db-8e2fa87396fc",
   "metadata": {},
   "source": [
    "We have created another class as an example that shows some possible functionality. Again, the code for this can be found in `llm_utils.py`. The creation of a `AskMyDocuments` class always prints the response for ease of use in this notebook. The arguments are as follows:\n",
    "- `conn` - the connection object\n",
    "- `question` - the question to your documents\n",
    "- `vector_db` - the vector database where indexed text is stored\n",
    "- `number` - the maximum number of responses\n",
    "- `confidence` - the minimum matching score"
   ]
  },
  {
   "cell_type": "code",
   "execution_count": 16,
   "id": "dd50c157-8f7d-4176-b878-2ab260fffc4e",
   "metadata": {},
   "outputs": [
    {
     "name": "stdout",
     "output_type": "stream",
     "text": [
      "One view on government advocates for resistance against tyranny and oppression, emphasizing the\n",
      "right to defend against encroachment on constitutional bounds. Another view highlights the dangers\n",
      "of democracy leading to anarchy and the importance of a strong, stable government.\n"
     ]
    }
   ],
   "source": [
    "response = AskMyDocuments(conn, 'cite two opposing views on government', 'philosophy-vec', number=20, confidence=0)"
   ]
  },
  {
   "cell_type": "markdown",
   "id": "459e8585-60b7-4442-ad31-51f1e12641da",
   "metadata": {},
   "source": [
    "The `df` method simple gives the user access to the complete response of the SPARQL query."
   ]
  },
  {
   "cell_type": "code",
   "execution_count": 17,
   "id": "027b4497-be18-4fca-be2e-688ce2aec43f",
   "metadata": {},
   "outputs": [
    {
     "data": {
      "text/html": [
       "<div>\n",
       "<style scoped>\n",
       "    .dataframe tbody tr th:only-of-type {\n",
       "        vertical-align: middle;\n",
       "    }\n",
       "\n",
       "    .dataframe tbody tr th {\n",
       "        vertical-align: top;\n",
       "    }\n",
       "\n",
       "    .dataframe thead th {\n",
       "        text-align: right;\n",
       "    }\n",
       "</style>\n",
       "<table border=\"1\" class=\"dataframe\">\n",
       "  <thead>\n",
       "    <tr style=\"text-align: right;\">\n",
       "      <th></th>\n",
       "      <th>citation</th>\n",
       "      <th>content</th>\n",
       "      <th>response</th>\n",
       "      <th>score</th>\n",
       "    </tr>\n",
       "  </thead>\n",
       "  <tbody>\n",
       "    <tr>\n",
       "      <th>0</th>\n",
       "      <td>&lt;http://franz.com/llm/TreatiseOfHumanNature_1252&gt;</td>\n",
       "      <td>necessity of self-preservation, and the same m...</td>\n",
       "      <td>One view on government advocates for resistanc...</td>\n",
       "      <td>0.824410</td>\n",
       "    </tr>\n",
       "    <tr>\n",
       "      <th>1</th>\n",
       "      <td>&lt;http://franz.com/llm/TheRepublic_301&gt;</td>\n",
       "      <td>citizens. Now there are occasions on which the...</td>\n",
       "      <td>One view on government advocates for resistanc...</td>\n",
       "      <td>0.816725</td>\n",
       "    </tr>\n",
       "  </tbody>\n",
       "</table>\n",
       "</div>"
      ],
      "text/plain": [
       "                                            citation  \\\n",
       "0  <http://franz.com/llm/TreatiseOfHumanNature_1252>   \n",
       "1             <http://franz.com/llm/TheRepublic_301>   \n",
       "\n",
       "                                             content  \\\n",
       "0  necessity of self-preservation, and the same m...   \n",
       "1  citizens. Now there are occasions on which the...   \n",
       "\n",
       "                                            response     score  \n",
       "0  One view on government advocates for resistanc...  0.824410  \n",
       "1  One view on government advocates for resistanc...  0.816725  "
      ]
     },
     "execution_count": 17,
     "metadata": {},
     "output_type": "execute_result"
    }
   ],
   "source": [
    "response.df"
   ]
  },
  {
   "cell_type": "markdown",
   "id": "73ae45df-d923-490c-b721-50855f9f5b4a",
   "metadata": {},
   "source": [
    "Similar to the `llm:nearestNeigbor` example we also created a similar function that links all evidence chunks of the response to a newly created response object that stores the metadata of the `AskMyDocuments` class."
   ]
  },
  {
   "cell_type": "code",
   "execution_count": 18,
   "id": "ff790a47-5fa3-4341-bf58-d11ec503b9bb",
   "metadata": {},
   "outputs": [],
   "source": [
    "response.add_evidence_to_graph()"
   ]
  },
  {
   "cell_type": "markdown",
   "id": "fb1f77a5-45cb-484d-a1bb-7a55cbed412e",
   "metadata": {},
   "source": [
    "![ask my documents](images/ask_my_documents.png)"
   ]
  },
  {
   "cell_type": "code",
   "execution_count": 20,
   "id": "252005d1-c5a2-41e8-aed7-73abb314c539",
   "metadata": {},
   "outputs": [
    {
     "name": "stdout",
     "output_type": "stream",
     "text": [
      "The purpose of humanity is to strive for moral excellence and to contribute to the progress of\n",
      "civilization through intelligence and enlightenment.\n"
     ]
    }
   ],
   "source": [
    "response = AskMyDocuments(conn, 'What is the purpose of humanity', 'philosophy-vec')"
   ]
  },
  {
   "cell_type": "code",
   "execution_count": 21,
   "id": "f5eb0c25-f9e5-4608-9987-161d06d43fd8",
   "metadata": {},
   "outputs": [
    {
     "name": "stdout",
     "output_type": "stream",
     "text": [
      "Humans are naturally in a state of perfect freedom, equality, and reciprocity, governed by the law\n",
      "of nature and reason, until they choose to join a political society.\n"
     ]
    }
   ],
   "source": [
    "response = AskMyDocuments(conn, \"What state are humans naturally in\", 'philosophy-vec')"
   ]
  },
  {
   "cell_type": "markdown",
   "id": "5ce826d7-389f-4cb8-8a33-3de41912baaf",
   "metadata": {},
   "source": [
    "# Asking Questions of a Contract\n",
    "\n",
    "In this example we will ask questions of a contract and show the section(s) of the contract where the answers can be found. [Here](https://sccrtc.org/wp-content/uploads/2010/09/SampleContract-Shuttle.pdf) is a link the contract in question.\n",
    "\n",
    "We start by creating a new repository and adding the previously parsed contract triples (please add your parameters above to connect to the repository)"
   ]
  },
  {
   "cell_type": "code",
   "execution_count": 22,
   "id": "9db69c7e-e5ca-4401-b0e8-d80ebe3085c3",
   "metadata": {},
   "outputs": [
    {
     "data": {
      "text/plain": [
       "342"
      ]
     },
     "execution_count": 22,
     "metadata": {},
     "output_type": "execute_result"
    }
   ],
   "source": [
    "conn = ag_connect('contracts')\n",
    "conn.addFile('contract.nt')\n",
    "conn.size()"
   ]
  },
  {
   "cell_type": "markdown",
   "id": "2d63f694-6066-4b3d-8ba3-6885e51de6ec",
   "metadata": {},
   "source": [
    "![contract gruff image](images/contract-compensation.png)"
   ]
  },
  {
   "cell_type": "markdown",
   "id": "642a3fd4-ba61-4e84-b2c7-06f1ea84b157",
   "metadata": {},
   "source": [
    "Now we have to index the text again. Remember that there are two methods two do this: Webview and `agtool` also possible to embed via Webview.\n",
    "\n",
    "### Embedding via Webview\n",
    "\n",
    "To embed via WebView navigate to `Repository Control` in the left column under `Repository`. Then select `Create LLM Embedding`. In this page you can:\n",
    "* Create or open a vector store\n",
    "* Choose you embedder and model, and add your api key\n",
    "* Decide which predicates/types to include or exlude from the embedding. In this example we will embed all text that is the object of the triple with predicate `<http://franz.com/llm/text>`\n",
    "\n",
    "![webview-embedding](images/webview-llm-embed-contract.png)\n",
    "\n",
    "### Embedding via agtool\n",
    "\n",
    "Remember that this method will not work if you are on an AllegroGraph cloud server.\n",
    "\n",
    "We define `contract.def` as follows:\n",
    "```\n",
    "gpt\n",
    " api-key \"your-openai-api-key-here\"\n",
    " vector-database-name localhost:10035/contract-vec\n",
    " embedder openai\n",
    " limit 1000000\n",
    " include-predicates <http://franz.com/hasContent>\n",
    "```\n",
    "\n",
    "And then again we run the `agtool llm index` command:\n",
    "\n",
    "```shell\n",
    "agtool llm index localhost:10035/contracts contract.def \n",
    "```\n",
    "\n",
    "Once all text has been indexed we can start asking the document questions!"
   ]
  },
  {
   "cell_type": "code",
   "execution_count": 25,
   "id": "b633563f-5d30-477c-860c-c80eabe2c7dd",
   "metadata": {},
   "outputs": [
    {
     "name": "stdout",
     "output_type": "stream",
     "text": [
      "Yes, the consultant can receive a bonus based on satisfactory services provided and actual allowable\n",
      "incurred costs. Progress payments will be made monthly with a pro rata portion of the fixed fee\n",
      "included. The consultant must submit progress reports with each invoice to track performance and\n",
      "ensure expectations are met.\n"
     ]
    }
   ],
   "source": [
    "response = AskMyDocuments(conn, 'Can we pay the consultant a bonus?', 'contract-vec')"
   ]
  },
  {
   "cell_type": "code",
   "execution_count": 26,
   "id": "fa34b648-1c47-4031-a49d-8cd3cc66f3ed",
   "metadata": {},
   "outputs": [
    {
     "name": "stdout",
     "output_type": "stream",
     "text": [
      "0 0.7976736 <http://franz.com/2._E.>\n",
      " E. Progress payments will be made no less than monthly in arrears based on satisfactory services\n",
      "provided and actual allowable incurred costs. A pro rata portion of the CONSULTANTs fixed fee, if\n",
      "applicable, will be included in the monthly progress payments. If CONSULTANT fails to submit the\n",
      "required  Page 2 deliverable items according to the schedule set forth in the Scope of Services, the\n",
      "COMMISSION may delay payment and/or terminate this Agreement in accordance with the provisions of\n",
      "Section 4 of this Agreement.\n",
      "\n",
      "1 0.7959859 <http://franz.com/1._D._1)>\n",
      " 1) The CONSULTANT shall submit written progress reports with each invoice. The report should be\n",
      "sufficiently detailed for the Contract Manager to determine if the CONSULTANT is performing to\n",
      "expectations or is on schedule; to provide communication of interim findings; and to sufficiently\n",
      "address any difficulties or special problems encountered, so remedies can be developed.\n",
      "\n"
     ]
    }
   ],
   "source": [
    "response.proof()"
   ]
  },
  {
   "cell_type": "code",
   "execution_count": 27,
   "id": "d6863740-d817-4107-906c-494fe3f65e68",
   "metadata": {},
   "outputs": [],
   "source": [
    "response.add_evidence_to_graph()"
   ]
  },
  {
   "cell_type": "markdown",
   "id": "4f4c2db0-4ba4-4e5c-ae94-56080f9adcbb",
   "metadata": {},
   "source": [
    "![ask my contract](images/ask_my_contract.png)"
   ]
  },
  {
   "cell_type": "code",
   "execution_count": 29,
   "id": "1f159b26-be80-4b02-8c4e-e4044c3b46c4",
   "metadata": {},
   "outputs": [
    {
     "name": "stdout",
     "output_type": "stream",
     "text": [
      "The consultant should submit written progress reports with each invoice, detailing performance,\n",
      "communication of findings, addressing difficulties, and special problems encountered.\n"
     ]
    }
   ],
   "source": [
    "response = AskMyDocuments(conn, \"What should the consultant submit with each invoice?\", \"contract-vec\")"
   ]
  },
  {
   "cell_type": "code",
   "execution_count": 30,
   "id": "2334e3ed-441c-438f-ad57-21df38910526",
   "metadata": {},
   "outputs": [
    {
     "name": "stdout",
     "output_type": "stream",
     "text": [
      "The contractor is liable to indemnify, defend, and hold harmless the city from any legal actions\n",
      "brought by third parties seeking to collect money from the city.\n"
     ]
    }
   ],
   "source": [
    "response = AskMyDocuments(conn, \"A third party sued the contractor and tried to collect money from the city.\", \"contract-vec\")"
   ]
  },
  {
   "cell_type": "code",
   "execution_count": 31,
   "id": "66160423-1913-4f11-afdd-6c3e5ce3ec3a",
   "metadata": {},
   "outputs": [
    {
     "name": "stdout",
     "output_type": "stream",
     "text": [
      "0 0.77626973 <http://franz.com/5.>\n",
      " 5. INDEMNIFICATION FOR DAMAGES, TAXES AND CONTRIBUTIONS. CONSULTANT shall exonerate, indemnify,\n",
      "defend, and hold harmless the COMMISSION (which for the purpose of this Agreement shall include,\n",
      "without limitation, its officers, agents, employees and volunteers) from and against:\n",
      "\n",
      "1 0.7704964 <http://franz.com/4._B.>\n",
      " B. COMMISSION may terminate this Agreement for CONSULTANT's default if a federal or state\n",
      "proceeding for the relief of debtors is undertaken by or against CONSULTANT, or CONSULTANT's  Page 3\n",
      "principal, or if CONSULTANT or CONSULTANT's principal makes an assignment for the benefit of\n",
      "creditors, or if CONSULTANT breaches any term(s) or violates any provision(s) of this Agreement and\n",
      "does not cure such breach or violation within ten (10) days after written notice thereof by\n",
      "COMMISSION. CONSULTANT shall be liable for any and all reasonable costs incurred by COMMISSION as a\n",
      "result of such default, including but not limited to reprocurement costs of the same or similar\n",
      "services defaulted by CONSULTANT under this Agreement.\n",
      "\n"
     ]
    }
   ],
   "source": [
    "response.proof()"
   ]
  }
 ],
 "metadata": {
  "kernelspec": {
   "display_name": "Python [conda env:agvector] *",
   "language": "python",
   "name": "conda-env-agvector-py"
  },
  "language_info": {
   "codemirror_mode": {
    "name": "ipython",
    "version": 3
   },
   "file_extension": ".py",
   "mimetype": "text/x-python",
   "name": "python",
   "nbconvert_exporter": "python",
   "pygments_lexer": "ipython3",
   "version": "3.10.14"
  }
 },
 "nbformat": 4,
 "nbformat_minor": 5
}
