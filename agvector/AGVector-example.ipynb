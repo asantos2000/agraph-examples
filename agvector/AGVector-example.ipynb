{
 "cells": [
  {
   "cell_type": "markdown",
   "id": "64af106b-8847-4b97-a04a-07e2403c3d1c",
   "metadata": {},
   "source": [
    "If running in Google Colab please run the following cell"
   ]
  },
  {
   "cell_type": "code",
   "execution_count": null,
   "id": "13876022-879f-4165-8c4e-25e768c06ae7",
   "metadata": {},
   "outputs": [],
   "source": [
    "%pip install agraph-python langchain pandas shortuuid"
   ]
  },
  {
   "cell_type": "markdown",
   "id": "63039c6f-3e2b-4168-b3e6-8a72f42dbad2",
   "metadata": {},
   "source": [
    "# AllegroGraph LLM Embedding Examples"
   ]
  },
  {
   "cell_type": "code",
   "execution_count": 1,
   "id": "7bf9cea2-f15c-4414-a308-294b3bd27929",
   "metadata": {},
   "outputs": [],
   "source": [
    "from franz.openrdf.connect import ag_connect\n",
    "from franz.openrdf.vocabulary import RDF, RDFS\n",
    "from llm_utils import BufferTriples, addArbitraryTextString, read_text, FindNearestNeighbors, AskMyDocuments\n",
    "from franz.openrdf.model.value import URI\n",
    "from langchain.text_splitter import RecursiveCharacterTextSplitter\n",
    "from langchain.schema.document import Document\n",
    "import shortuuid\n",
    "import pandas as pd\n",
    "import urllib\n",
    "import textwrap\n",
    "import os\n",
    "\n",
    "#set your environment variables here\n",
    "os.environ['AGRAPH_USER'] = 'your username'\n",
    "os.environ['AGRAPH_PASSWORD'] = 'your password'\n",
    "os.environ['AGRAPH_HOST'] = 'your host'\n",
    "os.environ['AGRAPH_PORT'] = 'your port'"
   ]
  },
  {
   "cell_type": "markdown",
   "id": "8a31c834-c259-44c1-bc26-84a89235c67c",
   "metadata": {},
   "source": [
    "Before starting any other work it is very important to set your openai API key in your AG server. The directions are present in the README, but are added here as well due to their importance.\n",
    "\n",
    "1. Please navigate to your local installation of the new webview\n",
    "2. Go to the repository where your data is stored (`llm-philosophy` if you're using the repo created from this demo)\n",
    "3. Go to `Repository Control` in the left column under `Repository` and search for `query execution options`. Select it.\n",
    "4. Select `+ New Query Option` and add **openaiApiKey** as the _name_, and your OpenAI api key as the _value_. Set the `Scope` to **Repository**\n",
    "5. Don't forget to save by hitting `Save Query Options`!\n",
    "\n",
    "## Import Philosophy Books into Allegrograph\n",
    "\n",
    "In this example we read in a few philosophy books from [Project Gutenberg](https://www.gutenberg.org/) and then show the power of two new AllegroGraph Magic Predicates, `llm:nearestNeighbor` and `llm:askMyDocuments`. First we select a few books from the Gutenberg Library and gather some data from the website manually and add it to the following dictionary. The keys of the dictionary are what we want the URI of the book to be in the graph. The author and title speak for themselves, and then the contents are a link to a text version of book ([example here](https://www.gutenberg.org/cache/epub/7370/pg7370.txt)):"
   ]
  },
  {
   "cell_type": "code",
   "execution_count": 2,
   "id": "4c348f40-ce10-4be6-9605-1661e52684d6",
   "metadata": {},
   "outputs": [],
   "source": [
    "documents = {\n",
    "    \"http://franz.com/llm/SecondTreatiseOfGovernment\":{\n",
    "        \"author\": \"John Locke\",\n",
    "        \"title\": \"Second Treatise of Government\",\n",
    "        \"contents\": \"https://www.gutenberg.org/cache/epub/7370/pg7370.txt\",\n",
    "    },\n",
    "    \"http://franz.com/llm/TheRepublic\":{\n",
    "        \"author\": \"Plato\",\n",
    "        \"title\": \"The Republic\",\n",
    "        \"contents\": \"https://www.gutenberg.org/cache/epub/1497/pg1497.txt\",\n",
    "    },\n",
    "    \"http://franz.com/llm/CritiqueOfPureReason\":{\n",
    "        \"author\": \"Immanuel Kant\",\n",
    "        \"title\": \"The Critique of Pure Reason\",\n",
    "        \"contents\": \"https://www.gutenberg.org/cache/epub/4280/pg4280.txt\"\n",
    "    },\n",
    "    \"http://franz.com/llm/TreatiseOfHumanNature\":{\n",
    "        \"author\": \"David Hume\",\n",
    "        \"title\": \"A Treatise of Human Nature\",\n",
    "        \"contents\": \"https://www.gutenberg.org/cache/epub/4705/pg4705.txt\"\n",
    "    }\n",
    "}"
   ]
  },
  {
   "cell_type": "markdown",
   "id": "d7c3cd39-c909-4a89-86e6-f5a6b29045c0",
   "metadata": {},
   "source": [
    "Then we connect to a new AllegroGraph repository and declare some local namespaces we will use to add the documents to the graph as triples. Please add the necessary parameters to connect to your AllegroGraph server."
   ]
  },
  {
   "cell_type": "code",
   "execution_count": 3,
   "id": "1ab79e36-bd3b-4492-a912-d3a18a03ae67",
   "metadata": {},
   "outputs": [],
   "source": [
    "conn = ag_connect('llm-philosophy')\n",
    "conn.setNamespace('', 'http://franz.com/llm/')\n",
    "f = conn.namespace('http://franz.com/llm/')"
   ]
  },
  {
   "cell_type": "markdown",
   "id": "f81ecece-5bfc-4f54-affe-078cc7dc9c63",
   "metadata": {},
   "source": [
    "We then loop through the documents and grab the contents using the `urllib` library. For each document we split using [Langchain's Recursive Text Splitter](https://python.langchain.com/docs/modules/data_connection/document_transformers/text_splitters/recursive_text_splitter) and add the chunks of text to the graph. You can examine the splitting of the text in the _addArbitraryTextString_ code in the `llm_utils.py` file in this same directory."
   ]
  },
  {
   "cell_type": "code",
   "execution_count": null,
   "id": "10618ada-5d6b-4a28-97f0-9a6ed3b273f9",
   "metadata": {},
   "outputs": [],
   "source": [
    "buffer = BufferTriples(conn)\n",
    "for document in documents:\n",
    "    id_uri = conn.createURI(document)\n",
    "    buffer.add((id_uri, RDF.TYPE, f.Document, id_uri))\n",
    "    buffer.add((id_uri, f.title, documents[document]['title'], id_uri))\n",
    "    buffer.add((id_uri, RDFS.LABEL, documents[document]['title'], id_uri))\n",
    "    text = read_text(documents[document]['contents'])\n",
    "    buffer = addArbitraryTextString(conn, f, buffer, text, id_uri)\n",
    "buffer.flush_triples()"
   ]
  },
  {
   "cell_type": "markdown",
   "id": "4fca77fa-8cc4-4d8b-a4cf-50d29abbed4f",
   "metadata": {},
   "source": [
    "Note that the following image may not be the same for you depending on the splitter used."
   ]
  },
  {
   "cell_type": "markdown",
   "id": "48ac58c0-8e66-4ba2-98da-3d854b9dc5e8",
   "metadata": {},
   "source": [
    "![philosophy-books](images/philosophy-books.png)"
   ]
  },
  {
   "cell_type": "markdown",
   "id": "b7b24100-9488-48eb-90ad-a94509191765",
   "metadata": {},
   "source": [
    "## Indexing the text fragments with openAI\n",
    "\n",
    "In order to ask question of your own documents you first need to index all the text fragment using agtool and openAI embeddings. The documentation on how to do this and how it works can be found [here](https://internal.franz.com/people/dm/docs/llmembed.html). \n",
    "\n",
    "For agtool to work it needs some metadata that we put in a .def file as described in the link above. In this tutorial we define `philosophy.def`\n",
    "```text\n",
    "gpt\n",
    " openai-api-key \"your-openai-api-key-here\"\n",
    " vector-database-name \"philosophy\"\n",
    " limit 10000\n",
    " vector-database-dim 1536\n",
    " include-predicates <http://franz.com/llm/text>\n",
    "```\n",
    "The explanations of thses parameters can be found in the documentation linked above.\n",
    "\n",
    "We run the following command to index the documents (the command will change depending on your location of documents/server etc.) This command assumes you created an alias for agtool, and that your server runs on localhost:10035. \n",
    "\n",
    "```shell\n",
    "agtool llm index localhost:10035/llm-philosophy philosophy.def \n",
    "```\n",
    "\n",
    "Once the embedding is done we can starting querying the graph!\n",
    "\n",
    "### Nearest Neighbor SPARQL Query\n",
    "\n",
    "The general syntax for the query clause of `llm:nearestNeighbors` is as follows:\n",
    "```\n",
    "(?uri ?score ?originalText) llm:nearestNeighbor (?text ?vector-database ?topN ?minScore)\n",
    "```\n",
    "\n",
    "Please make sure you have set your OpenAI API key in Webview before attempting the following queries.\n",
    "\n",
    "We will start with a sample SPARQL query for nearest neighbors."
   ]
  },
  {
   "cell_type": "code",
   "execution_count": 4,
   "id": "f7b0784b-4402-4739-9d72-f92d3f50a29a",
   "metadata": {},
   "outputs": [
    {
     "data": {
      "text/html": [
       "<div>\n",
       "<style scoped>\n",
       "    .dataframe tbody tr th:only-of-type {\n",
       "        vertical-align: middle;\n",
       "    }\n",
       "\n",
       "    .dataframe tbody tr th {\n",
       "        vertical-align: top;\n",
       "    }\n",
       "\n",
       "    .dataframe thead th {\n",
       "        text-align: right;\n",
       "    }\n",
       "</style>\n",
       "<table border=\"1\" class=\"dataframe\">\n",
       "  <thead>\n",
       "    <tr style=\"text-align: right;\">\n",
       "      <th></th>\n",
       "      <th>originalText</th>\n",
       "      <th>score</th>\n",
       "      <th>uri</th>\n",
       "    </tr>\n",
       "  </thead>\n",
       "  <tbody>\n",
       "    <tr>\n",
       "      <th>0</th>\n",
       "      <td>private education of parents, contribute to th...</td>\n",
       "      <td>0.820638</td>\n",
       "      <td>&lt;http://franz.com/llm/TreatiseOfHumanNature_1186&gt;</td>\n",
       "    </tr>\n",
       "    <tr>\n",
       "      <th>1</th>\n",
       "      <td>to a kind of natural authority, that the chief...</td>\n",
       "      <td>0.818856</td>\n",
       "      <td>&lt;http://franz.com/llm/SecondTreatiseOfGovernme...</td>\n",
       "    </tr>\n",
       "    <tr>\n",
       "      <th>2</th>\n",
       "      <td>government, and do either promote, or not, wha...</td>\n",
       "      <td>0.817867</td>\n",
       "      <td>&lt;http://franz.com/llm/SecondTreatiseOfGovernme...</td>\n",
       "    </tr>\n",
       "    <tr>\n",
       "      <th>3</th>\n",
       "      <td>world, government would still be necessary in ...</td>\n",
       "      <td>0.814602</td>\n",
       "      <td>&lt;http://franz.com/llm/TreatiseOfHumanNature_1213&gt;</td>\n",
       "    </tr>\n",
       "    <tr>\n",
       "      <th>4</th>\n",
       "      <td>money which they prize; they will spend that w...</td>\n",
       "      <td>0.814055</td>\n",
       "      <td>&lt;http://franz.com/llm/TheRepublic_1087&gt;</td>\n",
       "    </tr>\n",
       "  </tbody>\n",
       "</table>\n",
       "</div>"
      ],
      "text/plain": [
       "                                        originalText     score  \\\n",
       "0  private education of parents, contribute to th...  0.820638   \n",
       "1  to a kind of natural authority, that the chief...  0.818856   \n",
       "2  government, and do either promote, or not, wha...  0.817867   \n",
       "3  world, government would still be necessary in ...  0.814602   \n",
       "4  money which they prize; they will spend that w...  0.814055   \n",
       "\n",
       "                                                 uri  \n",
       "0  <http://franz.com/llm/TreatiseOfHumanNature_1186>  \n",
       "1  <http://franz.com/llm/SecondTreatiseOfGovernme...  \n",
       "2  <http://franz.com/llm/SecondTreatiseOfGovernme...  \n",
       "3  <http://franz.com/llm/TreatiseOfHumanNature_1213>  \n",
       "4            <http://franz.com/llm/TheRepublic_1087>  "
      ]
     },
     "execution_count": 4,
     "metadata": {},
     "output_type": "execute_result"
    }
   ],
   "source": [
    "query_string = \"\"\"\n",
    "        PREFIX llm: <http://franz.com/ns/allegrograph/8.0.0/llm/> \n",
    "        select * where { \n",
    "            (?uri ?score ?originalText) llm:nearestNeighbor (\"government\" \"philosophy\" 10 0.1)  }\"\"\"\n",
    "with conn.executeTupleQuery(query_string) as result:\n",
    "    df = result.toPandas()\n",
    "df.head()"
   ]
  },
  {
   "cell_type": "markdown",
   "id": "1502b825-764a-49ed-8579-e417fa8292e3",
   "metadata": {},
   "source": [
    "### Wrapping nearestNeighbor in a function. \n",
    "We wrote a sample class that allows users to find nearest neighbors and also perform some additional tasks with the response object. The parameters are:\n",
    "- `conn` - The connection object\n",
    "- `phrase` - the phrase for which you are looking to find the nearest neighbors\n",
    "- `vector_db` - the vector database\n",
    "- `number` - (optional) set to 10 if not declared, sets the maximum number of neighbors you wished returned\n",
    "- `confidence` - (optional) set to .5 if note declared, sets the minimum matching score for all returned vectors\n"
   ]
  },
  {
   "cell_type": "code",
   "execution_count": 5,
   "id": "0e414e46-c5c3-4ce9-b1dc-2975e3e66f52",
   "metadata": {},
   "outputs": [
    {
     "name": "stdout",
     "output_type": "stream",
     "text": [
      "private education of parents, contribute to the giving us a sense of honour and duty in the strict\n",
      "regulation of our actions with regard to the properties of others.     SECT. VII OF THE ORIGIN OF\n",
      "GOVERNMENT   Nothing is more certain, than that men are, in a great measure, governed by interest,\n",
      "and that even when they extend their concern beyond themselves, it is not to any great distance; nor\n",
      "is it usual for them, in common life, to look farther than their nearest friends and acquaintance.\n",
      "It is no less certain, that it is impossible for men to consult, their interest in so effectual a\n",
      "manner, as by an universal and inflexible observance of the rules of justice, by which alone they\n",
      "can preserve society, and keep themselves from falling into that wretched and savage condition,\n",
      "which is commonly represented as the state of nature. And as this interest, which all men have in\n",
      "the upholding of society, and the observation of the rules of justice, is great, so is\n"
     ]
    }
   ],
   "source": [
    "nn = FindNearestNeighbors(conn, 'government', 'philosophy')"
   ]
  },
  {
   "cell_type": "markdown",
   "id": "57865f9a-36e9-4267-a136-8d373bf562f9",
   "metadata": {},
   "source": [
    "The following method simply prints the URI of the nearest vector, the matching score, and the text of the matching vector. "
   ]
  },
  {
   "cell_type": "code",
   "execution_count": 6,
   "id": "519b1f2a-9c2c-447b-934e-f81e92ead0f4",
   "metadata": {},
   "outputs": [
    {
     "name": "stdout",
     "output_type": "stream",
     "text": [
      "0 <http://franz.com/llm/TreatiseOfHumanNature_1186> 0.8206376\n",
      "private education of parents, contribute to the giving us a sense of honour and duty in the strict\n",
      "regulation of our actions with regard to the properties of others.     SECT. VII OF THE ORIGIN OF\n",
      "GOVERNMENT   Nothing is more certain, than that men are, in a great measure, governed by interest,\n",
      "and that even when they extend their concern beyond themselves, it is not to any great distance; nor\n",
      "is it usual for them, in common life, to look farther than their nearest friends and acquaintance.\n",
      "It is no less certain, that it is impossible for men to consult, their interest in so effectual a\n",
      "manner, as by an universal and inflexible observance of the rules of justice, by which alone they\n",
      "can preserve society, and keep themselves from falling into that wretched and savage condition,\n",
      "which is commonly represented as the state of nature. And as this interest, which all men have in\n",
      "the upholding of society, and the observation of the rules of justice, is great, so is\n",
      "\n",
      "1 <http://franz.com/llm/SecondTreatiseOfGovernment_129> 0.81885636\n",
      "to a kind of natural authority, that the chief rule, with arbitration of their differences, by a\n",
      "tacit consent devolved into his hands, without any other caution, but the assurance they had of his\n",
      "uprightness and wisdom; yet when time, giving authority, and (as some men would persuade us)\n",
      "sacredness of customs, which the negligent, and unforeseeing innocence of the first ages began, had\n",
      "brought in successors of another stamp, the people finding their properties not secure under the\n",
      "government, as then it was, (whereas government has no other end but the preservation of* property)\n",
      "could never be safe nor at rest, nor think themselves in civil society, till the legislature was\n",
      "placed in collective bodies of men, call them senate, parliament, or what you please. By which means\n",
      "every single person became subject, equally with other the meanest men, to those laws, which he\n",
      "himself, as part of the legislative, had established; nor could any one, by his own authority;\n",
      "\n",
      "2 <http://franz.com/llm/SecondTreatiseOfGovernment_291> 0.81786656\n",
      "government, and do either promote, or not, what lies in them, hinder such designs, they are guilty,\n",
      "and partake in this, which is certainly the greatest crime which men can partake of one towards\n",
      "another.  Sec. 219.There is one way more whereby such a government may be dissolved, and that is:\n",
      "When he who has the supreme executive power, neglects and abandons that charge, so that the laws\n",
      "already made can no longer be put in execution. This is demonstratively to reduce all to anarchy,\n",
      "and so effectually to dissolve the government: for laws not being made for themselves, but to be, by\n",
      "their execution, the bonds of the society, to keep every part of the body politic in its due place\n",
      "and function; when that totally ceases, the government visibly ceases, and the people become a\n",
      "confused multitude, without order or connexion. Where there is no longer the administration of\n",
      "justice, for the securing of men’s rights, nor any remaining power within the community to direct\n",
      "\n",
      "3 <http://franz.com/llm/TreatiseOfHumanNature_1213> 0.81460184\n",
      "world, government would still be necessary in all large and civilized societies; and if promises had\n",
      "only their own proper obligation, without the separate sanction of government, they would have but\n",
      "little efficacy in such societies. This separates the boundaries of our public and private duties,\n",
      "and shews that the latter are more dependant on the former, than the former on the latter.\n",
      "Education, and the artifice of politicians, concur to bestow a farther morality on loyalty, and to\n",
      "brand all rebellion with a greater degree of guilt and infamy. Nor is it a wonder, that politicians\n",
      "should be very industrious in inculcating such notions, where their interest is so particularly\n",
      "concerned.  Lest those arguments should not appear entirely conclusive (as I think they are) I shall\n",
      "have recourse to authority, and shall prove, from the universal consent of mankind, that the\n",
      "obligation of submission to government is not derived from any promise of the subjects. Nor need\n",
      "\n",
      "4 <http://franz.com/llm/TheRepublic_1087> 0.8140549\n",
      "money which they prize; they will spend that which is another man’s on the gratification of their\n",
      "desires, stealing their pleasures and running away like children from the law, their father: they\n",
      "have been schooled not by gentle influences but by force, for they have neglected her who is the\n",
      "true Muse, the companion of reason and philosophy, and have honoured gymnastic more than music.\n",
      "Undoubtedly, he said, the form of government which you describe is a mixture of good and evil.  Why,\n",
      "there is a mixture, I said; but one thing, and one thing only, is predominantly seen,—the spirit of\n",
      "contention and ambition; and these are due to the prevalence of the passionate or spirited element.\n",
      "Assuredly, he said.  Such is the origin and such the character of this State, which has been\n",
      "described in outline only; the more perfect execution was not required, for a sketch is enough to\n",
      "show the type of the most perfectly just and\n",
      "\n",
      "5 <http://franz.com/llm/TheRepublic_606> 0.813984\n",
      "And the government is the ruling power in each state?  Certainly.  And the different forms of\n",
      "government make laws democratical, aristocratical, tyrannical, with a view to their several\n",
      "interests; and these laws, which are made by them for their own interests, are the justice which\n",
      "they deliver to their subjects, and him who transgresses them they punish as a breaker of the law,\n",
      "and unjust. And that is what I mean when I say that in all states there is the same principle of\n",
      "justice, which is the interest of the government; and as the government must be supposed to have\n",
      "power, the only reasonable conclusion is, that everywhere there is one principle of justice, which\n",
      "is the interest of the stronger.  Now I understand you, I said; and whether you are right or not I\n",
      "will try to discover. But let me remark, that in defining justice you have yourself used the word\n",
      "‘interest’ which you forbade me to use. It is\n",
      "\n",
      "6 <http://franz.com/llm/TreatiseOfHumanNature_1203> 0.811185\n",
      "a moral obligation, it is to be considered as the original sanction of government, and as the source\n",
      "of the first obligation to obedience. This reasoning appears so natural, that it has become the\n",
      "foundation of our fashionable system of politics, and is in a manner the creed of a party amongst\n",
      "us, who pride themselves, with reason, on the soundness of their philosophy, and their liberty of\n",
      "thought. All men, say they, are born free and equal: Government and superiority can only be\n",
      "established by consent: The consent of men, in establishing government, imposes on them a new\n",
      "obligation, unknown to the laws of nature. Men, therefore, are bound to obey their magistrates, only\n",
      "because they promise it; and if they had not given their word, either expressly or tacitly, to\n",
      "preserve allegiance, it would never have become a part of their moral duty. This conclusion,\n",
      "however, when carried so far as to comprehend government in\n",
      "\n",
      "7 <http://franz.com/llm/TreatiseOfHumanNature_1232> 0.81101984\n",
      "imagine, that such particular persons have a right to command, as we on our part are bound to obey.\n",
      "These notions of right and obligation are derived from nothing but the advantage we reap from\n",
      "government, which gives us a repugnance to practise resistance ourselves, and makes us displeased\n",
      "with any instance of it in others. But here it is remarkable, that in this new state of affairs, the\n",
      "original sanction of government, which is interest, is not admitted to determine the persons, whom\n",
      "we are to obey, as the original sanction did at first, when affairs were on the footing of a\n",
      "promise. A promise fixes and determines the persons, without any uncertainty: But it is evident,\n",
      "that if men were to regulate their conduct in this particular, by the view of a peculiar interest,\n",
      "either public or private, they would involve themselves in endless confusion, and would render all\n",
      "government, in a great measure, ineffectual. The private interest of every one is different; and\n",
      "though\n",
      "\n",
      "8 <http://franz.com/llm/TreatiseOfHumanNature_1197> 0.81031203\n",
      "in the execution is connected, though not immediately, with the failure of the whole, they prevent\n",
      "that failure, because they find no interest in it, either immediate or remote. Thus bridges are\n",
      "built; harbours opened; ramparts raised; canals formed; fleets equiped; and armies disciplined every\n",
      "where, by the care of government, which, though composed of men subject to all human infirmities,\n",
      "becomes, by one of the finest and most subtle inventions imaginable, a composition, which is, in\n",
      "some measure, exempted from all these infirmities.     SECT. VIII OF THE SOURCE OF ALLEGIANCE\n",
      "Though government be an invention very advantageous, and even in some circumstances absolutely\n",
      "necessary to mankind; it is not necessary in all circumstances, nor is it impossible for men to\n",
      "preserve society for some time, without having recourse to such an invention. Men, it is true, are\n",
      "always much inclined to prefer present interest to distant\n",
      "\n",
      "9 <http://franz.com/llm/SecondTreatiseOfGovernment_155> 0.80980116\n",
      "necessary to examine more carefully the original and rights of government; and to find out ways to\n",
      "restrain the exorbitances, and prevent the abuses of that power, which they having intrusted in\n",
      "another’s hands only for their own good, they found was made use of to hurt them.  (*At first, when\n",
      "some certain kind of regiment was once approved, it may be nothing was then farther thought upon for\n",
      "the manner of governing, but all permitted unto their wisdom and discretion which were to rule, till\n",
      "by experience they found this for all parts very inconvenient, so as the thing which they had\n",
      "devised for a remedy, did indeed but increase the sore which it should have cured. They saw, that to\n",
      "live by one man’s will, became the cause of all men’s misery. This constrained them to come unto\n",
      "laws wherein all men might see their duty before hand, and know the penalties of transgressing them.\n",
      "Hooker’s Eccl. Pol. l. i. sect. 10.)\n",
      "\n"
     ]
    }
   ],
   "source": [
    "nn.proof()"
   ]
  },
  {
   "cell_type": "markdown",
   "id": "c7cb0e94-03df-4845-9048-abfca28fbbd2",
   "metadata": {},
   "source": [
    "The following method of `add_neighbors_to_graph` creates a connection between each of the \"neighbors\". It does this with the following steps:\n",
    "- creates a node for the request which stores the phrase, the minimum matching score, and when the query was run\n",
    "- We create a blank node which stores the matching score and the index.\n",
    "- Then we connect the blank nodes to the respective text chunk."
   ]
  },
  {
   "cell_type": "code",
   "execution_count": 7,
   "id": "362d1ad6-a1a5-4cd8-8436-59c9bdc0298f",
   "metadata": {},
   "outputs": [],
   "source": [
    "nn.add_neighbors_to_graph()"
   ]
  },
  {
   "cell_type": "markdown",
   "id": "5deeb5d5-5e0f-4686-b7c6-f5b2757b5eaf",
   "metadata": {},
   "source": [
    "The following is an image generated from an old example and will look slightly different"
   ]
  },
  {
   "cell_type": "markdown",
   "id": "22e18b98-5141-47fb-b590-c30b718abd2b",
   "metadata": {},
   "source": [
    "![nearest neighbors](images/nearestneighbors.png)"
   ]
  },
  {
   "cell_type": "code",
   "execution_count": 6,
   "id": "8f769284-6030-499c-93d5-6c8c17ef29fb",
   "metadata": {},
   "outputs": [
    {
     "name": "stdout",
     "output_type": "stream",
     "text": [
      "which will bear the examination of the latest posterity. For my part, my only hope is, that I may\n",
      "contribute a little to the advancement of knowledge, by giving in some particulars a different turn\n",
      "to the speculations of philosophers, and pointing out to them more distinctly those subjects, where\n",
      "alone they can expect assurance and conviction. Human Nature is the only science of man; and yet has\n",
      "been hitherto the most neglected. It will be sufficient for me, if I can bring it a little more into\n",
      "fashion; and the hope of this serves to compose my temper from that spleen, and invigorate it from\n",
      "that indolence, which sometimes prevail upon me. If the reader finds himself in the same easy\n",
      "disposition, let him follow me in my future speculations. If not, let him follow his inclination,\n",
      "and wait the returns of application and good humour. The conduct of a man, who studies philosophy in\n",
      "this careless manner, is more truly sceptical than that of one, who feeling in himself\n"
     ]
    }
   ],
   "source": [
    "nn = FindNearestNeighbors(conn, 'What is Human Nature', 'philosophy', number=10, confidence=.2)"
   ]
  },
  {
   "cell_type": "code",
   "execution_count": 7,
   "id": "072b28b8-8511-41d5-aa25-2fb57f8c0dcf",
   "metadata": {},
   "outputs": [
    {
     "name": "stdout",
     "output_type": "stream",
     "text": [
      "0 <http://franz.com/llm/TreatiseOfHumanNature_618> 0.8471893\n",
      "which will bear the examination of the latest posterity. For my part, my only hope is, that I may\n",
      "contribute a little to the advancement of knowledge, by giving in some particulars a different turn\n",
      "to the speculations of philosophers, and pointing out to them more distinctly those subjects, where\n",
      "alone they can expect assurance and conviction. Human Nature is the only science of man; and yet has\n",
      "been hitherto the most neglected. It will be sufficient for me, if I can bring it a little more into\n",
      "fashion; and the hope of this serves to compose my temper from that spleen, and invigorate it from\n",
      "that indolence, which sometimes prevail upon me. If the reader finds himself in the same easy\n",
      "disposition, let him follow me in my future speculations. If not, let him follow his inclination,\n",
      "and wait the returns of application and good humour. The conduct of a man, who studies philosophy in\n",
      "this careless manner, is more truly sceptical than that of one, who feeling in himself\n",
      "\n",
      "1 <http://franz.com/llm/TreatiseOfHumanNature_0> 0.8459326\n",
      "﻿The Project Gutenberg eBook of A Treatise of Human Nature      This ebook is for the use of anyone\n",
      "anywhere in the United States and most other parts of the world at no cost and with almost no\n",
      "restrictions whatsoever. You may copy it, give it away or re-use it under the terms of the Project\n",
      "Gutenberg License included with this ebook or online at www.gutenberg.org. If you are not located in\n",
      "the United States, you will have to check the laws of the country where you are located before using\n",
      "this eBook.  Title: A Treatise of Human Nature   Author: David Hume  Release date: December 1, 2003\n",
      "[eBook #4705]                 Most recently updated: November 24, 2022  Language: English    ***\n",
      "START OF THE PROJECT GUTENBERG EBOOK A TREATISE OF HUMAN NATURE ***    A TREATISE OF HUMAN NATURE\n",
      "By David Hume    CONTENTS     VOLUME I    INTRODUCTION BY THE AUTHOR.    BOOK I  OF THE\n",
      "UNDERSTANDING    PART I     OF IDEAS, THEIR ORIGIN, COMPOSITION, CONNEXION,\n",
      "\n",
      "2 <http://franz.com/llm/TreatiseOfHumanNature_1226> 0.8374417\n",
      "immediate in the execution of justice among their subjects; besides this, I say, we may often\n",
      "expect, from the irregularity of human nature, that they will neglect even this immediate interest,\n",
      "and be transported by their passions into all the excesses of cruelty and ambition.. Our general\n",
      "knowledge of human nature, our observation of the past history of mankind, our experience of present\n",
      "times; all these causes must induce us to open the door to exceptions, and must make us conclude,\n",
      "that we may resist the more violent effects of supreme power, without any crime or injustice.\n",
      "Accordingly we may observe, that this is both the general practice and principle of mankind, and\n",
      "that no nation, that could find any remedy, ever yet suffered the cruel ravages of a tyrant, or were\n",
      "blamed for their resistance. Those who took up arms against Dionysius or Nero, or Philip the second,\n",
      "have the favour of every reader in the perusal of\n",
      "\n",
      "3 <http://franz.com/llm/TreatiseOfHumanNature_346> 0.8361014\n",
      "conversation of the former in any instance be visibly very agreeable, and of the latter very\n",
      "judicious, we have entertained such a prejudice against them, that they must be dunces or fops in\n",
      "spite of sense and reason. Human nature is very subject to errors of this kind; and perhaps this\n",
      "nation as much as any other.  Should it be demanded why men form general rules, and allow them to\n",
      "influence their judgment, even contrary to present observation and experience, I should reply, that\n",
      "in my opinion it proceeds from those very principles, on which all judgments concerning causes and\n",
      "effects depend. Our judgments concerning cause and effect are derived from habit and experience; and\n",
      "when we have been accustomed to see one object united to another, our imagination passes from the\n",
      "first to the second, by a natural transition, which precedes reflection, and which cannot be\n",
      "prevented by it. Now it is the nature of custom not only to operate with\n",
      "\n",
      "4 <http://franz.com/llm/TreatiseOfHumanNature_1084> 0.83545744\n",
      "improved, as the society enlarges: If all this appear evident, as it certainly must, we may\n",
      "conclude, that it is utterly impossible for men to remain any considerable time in that savage\n",
      "condition, which precedes society; but that his very first state and situation may justly be\n",
      "esteemed social. This, however, hinders not, but that philosophers may, if they please, extend their\n",
      "reasoning to the supposed state of nature; provided they allow it to be a mere philosophical\n",
      "fiction, which never had, and never could have any reality. Human nature being composed of two\n",
      "principal parts, which are requisite in all its actions, the affections and understanding; it is\n",
      "certain, that the blind motions of the former, without the direction of the latter, incapacitate men\n",
      "for society: And it may be allowed us to consider separately the effects, that result from the\n",
      "separate operations of these two component parts of the mind. The same liberty may be permitted to\n",
      "moral, which is allowed\n",
      "\n",
      "5 <http://franz.com/llm/TreatiseOfHumanNature_1284> 0.83359486\n",
      "sympathy; and consequently it is that principle, which takes us so far out of ourselves, as to give\n",
      "us the same pleasure or uneasiness in the characters of others, as if they had a tendency to our own\n",
      "advantage or loss.  The only difference betwixt the natural virtues and justice lies in this, that\n",
      "the good, which results from the former, arises from every single act, and is the object of some\n",
      "natural passion: Whereas a single act of justice, considered in itself, may often be contrary to the\n",
      "public good; and it is only the concurrence of mankind, in a general scheme or system of action,\n",
      "which is advantageous. When I relieve persons in distress, my natural humanity is my motive; and so\n",
      "far as my succour extends, so far have I promoted the happiness of my fellow-creatures. But if we\n",
      "examine all the questions, that come before any tribunal of justice, we shall find, that,\n",
      "considering each case apart, it would as often be an instance of humanity to decide contrary\n",
      "\n",
      "6 <http://franz.com/llm/TreatiseOfHumanNature_999> 0.83234984\n",
      "quality of human nature, which is conspicuous on many occasions, and is common both to the mind and\n",
      "body, that too sudden and violent a change is unpleasant to us, and that however any objects may in\n",
      "themselves be indifferent, yet their alteration gives uneasiness. As it is the nature of doubt to\n",
      "cause a variation in the thought, and transport us suddenly from one idea to another, it must of\n",
      "consequence be the occasion of pain. This pain chiefly takes place, where interest, relation, or the\n",
      "greatness and novelty of any event interests us in it. It is not every matter of fact, of which we\n",
      "have a curiosity to be informed; neither are they such only as we have an interest to know. It is\n",
      "sufficient if the idea strikes on us with such force, and concerns us so nearly, as to give us an\n",
      "uneasiness in its instability and inconstancy. A stranger, when he arrives first at any town, may be\n",
      "entirely indifferent about\n",
      "\n",
      "7 <http://franz.com/llm/TheRepublic_228> 0.8318107\n",
      "natures may be crushed or spoiled by surrounding influences—may become misanthrope and philanthrope\n",
      "by turns; or in a few instances, like the founders of the monastic orders, or the Reformers, owing\n",
      "to some peculiarity in themselves or in their age, may break away entirely from the world and from\n",
      "the church, sometimes into great good, sometimes into great evil, sometimes into both. And the same\n",
      "holds in the lesser sphere of a convent, a school, a family.  Plato would have us consider how\n",
      "easily the best natures are overpowered by public opinion, and what efforts the rest of mankind will\n",
      "make to get possession of them. The world, the church, their own profession, any political or party\n",
      "organization, are always carrying them off their legs and teaching them to apply high and holy names\n",
      "to their own prejudices and interests. The ‘monster’ corporation to which they belong judges right\n",
      "and truth to be the pleasure of the community.\n",
      "\n",
      "8 <http://franz.com/llm/TheRepublic_470> 0.83128744\n",
      "dissimilar natures (Statesman), have mankind gradually passed from the brutality and licentiousness\n",
      "of primitive marriage to marriage Christian and civilized.  Few persons would deny that we bring\n",
      "into the world an inheritance of mental and physical qualities derived first from our parents, or\n",
      "through them from some remoter ancestor, secondly from our race, thirdly from the general condition\n",
      "of mankind into which we are born. Nothing is commoner than the remark, that ‘So and so is like his\n",
      "father or his uncle’; and an aged person may not unfrequently note a resemblance in a youth to a\n",
      "long-forgotten ancestor, observing that ‘Nature sometimes skips a generation.’ It may be true also,\n",
      "that if we knew more about our ancestors, these similarities would be even more striking to us.\n",
      "Admitting the facts which are thus described in a popular way, we may however remark that there is\n",
      "no method of difference by which they can be defined or estimated, and that they\n",
      "\n",
      "9 <http://franz.com/llm/TheRepublic_467> 0.83028615\n",
      "the family throws in the way of lofty aims and aspirations. But we are conscious that there are\n",
      "evils and dangers in the background greater still, which are not appreciated, because they are\n",
      "either concealed or suppressed. What a condition of man would that be, in which human passions were\n",
      "controlled by no authority, divine or human, in which there was no shame or decency, no higher\n",
      "affection overcoming or sanctifying the natural instincts, but simply a rule of health! Is it for\n",
      "this that we are asked to throw away the civilization which is the growth of ages?  For strength and\n",
      "health are not the only qualities to be desired; there are the more important considerations of mind\n",
      "and character and soul. We know how human nature may be degraded; we do not know how by artificial\n",
      "means any improvement in the breed can be effected. The problem is a complex one, for if we go back\n",
      "only four steps (and these at least enter into the composition of a child), there are commonly\n",
      "\n"
     ]
    }
   ],
   "source": [
    "nn.proof()"
   ]
  },
  {
   "cell_type": "code",
   "execution_count": 8,
   "id": "eceb5a00-804e-47fe-b65b-b705baff8c23",
   "metadata": {},
   "outputs": [
    {
     "name": "stdout",
     "output_type": "stream",
     "text": [
      "State, and until a like necessity be laid on the State to obey them; or until kings, or if not\n",
      "kings, the sons of kings or princes, are divinely inspired with a true love of true philosophy. That\n",
      "either or both of these alternatives are impossible, I see no reason to affirm: if they were so, we\n",
      "might indeed be justly ridiculed as dreamers and visionaries. Am I not right?  Quite right.  If\n",
      "then, in the countless ages of the past, or at the present hour in some foreign clime which is far\n",
      "away and beyond our ken, the perfected philosopher is or has been or hereafter shall be compelled by\n",
      "a superior power to have the charge of the State, we are ready to assert to the death, that this our\n",
      "constitution has been, and is—yea, and will be whenever the Muse of Philosophy is queen. There is no\n",
      "impossibility in all this; that there is a difficulty, we acknowledge ourselves.  My opinion agrees\n",
      "with yours, he said.\n"
     ]
    }
   ],
   "source": [
    "nn = FindNearestNeighbors(conn, 'Philosopher King', 'philosophy', confidence=.8)"
   ]
  },
  {
   "cell_type": "markdown",
   "id": "0910230f-e9d9-49be-ac5f-30c22ca05a93",
   "metadata": {},
   "source": [
    "### askMyDocuments SPARQL Query\n",
    "\n",
    "This magic predicates will force chatGPT to read the topN nearest neighbors found by the function llm:nearestNeighbor and then give an answer using only the output of that function. The syntax of this magic predicate follows here, see also documentation <here>:\n",
    "```\n",
    "(?response ?citation ?score) llm:askMyDocuments (?query ?vectorDatabase ?topN ?minScore)\n",
    "```"
   ]
  },
  {
   "cell_type": "code",
   "execution_count": 8,
   "id": "d6d0d363-e314-408e-ac2d-9f66d7fa61fb",
   "metadata": {},
   "outputs": [
    {
     "data": {
      "text/html": [
       "<div>\n",
       "<style scoped>\n",
       "    .dataframe tbody tr th:only-of-type {\n",
       "        vertical-align: middle;\n",
       "    }\n",
       "\n",
       "    .dataframe tbody tr th {\n",
       "        vertical-align: top;\n",
       "    }\n",
       "\n",
       "    .dataframe thead th {\n",
       "        text-align: right;\n",
       "    }\n",
       "</style>\n",
       "<table border=\"1\" class=\"dataframe\">\n",
       "  <thead>\n",
       "    <tr style=\"text-align: right;\">\n",
       "      <th></th>\n",
       "      <th>citation</th>\n",
       "      <th>content</th>\n",
       "      <th>response</th>\n",
       "      <th>score</th>\n",
       "    </tr>\n",
       "  </thead>\n",
       "  <tbody>\n",
       "    <tr>\n",
       "      <th>0</th>\n",
       "      <td>&lt;http://franz.com/llm/TheRepublic_483&gt;</td>\n",
       "      <td>regarded from another point of view, is a mili...</td>\n",
       "      <td>One perspective views the government as a nece...</td>\n",
       "      <td>0.824885</td>\n",
       "    </tr>\n",
       "    <tr>\n",
       "      <th>1</th>\n",
       "      <td>&lt;http://franz.com/llm/TreatiseOfHumanNature_1227&gt;</td>\n",
       "      <td>their history: and nothing but the most violen...</td>\n",
       "      <td>One perspective views the government as a nece...</td>\n",
       "      <td>0.824368</td>\n",
       "    </tr>\n",
       "  </tbody>\n",
       "</table>\n",
       "</div>"
      ],
      "text/plain": [
       "                                            citation  \\\n",
       "0             <http://franz.com/llm/TheRepublic_483>   \n",
       "1  <http://franz.com/llm/TreatiseOfHumanNature_1227>   \n",
       "\n",
       "                                             content  \\\n",
       "0  regarded from another point of view, is a mili...   \n",
       "1  their history: and nothing but the most violen...   \n",
       "\n",
       "                                            response     score  \n",
       "0  One perspective views the government as a nece...  0.824885  \n",
       "1  One perspective views the government as a nece...  0.824368  "
      ]
     },
     "execution_count": 8,
     "metadata": {},
     "output_type": "execute_result"
    }
   ],
   "source": [
    "query_string = \"\"\"\n",
    "    PREFIX llm: <http://franz.com/ns/allegrograph/8.0.0/llm/>\n",
    "    select * where {\n",
    "        (?response ?score ?citation ?content) llm:askMyDocuments (\"cite two opposing views on government\" \"philosophy\" 10 .5) }\"\"\"\n",
    "with conn.executeTupleQuery(query_string) as result:\n",
    "    df = result.toPandas()\n",
    "df.head()"
   ]
  },
  {
   "cell_type": "markdown",
   "id": "fc430eea-150a-4c1c-b0db-8e2fa87396fc",
   "metadata": {},
   "source": [
    "We have created another class as an example that shows some possible functionality. Again, the code for this can be found in `llm_utils.py`. The creation of a `AskMyDocuments` class always prints the response for ease of use in this notebook. The arguments are as follows:\n",
    "- `conn` - the connection object\n",
    "- `question` - the question to your documents\n",
    "- `vector_db` - the vector database where indexed text is stored\n",
    "- `number` - the maximum number of responses\n",
    "- `confidence` - the minimum matching score"
   ]
  },
  {
   "cell_type": "code",
   "execution_count": 8,
   "id": "dd50c157-8f7d-4176-b878-2ab260fffc4e",
   "metadata": {},
   "outputs": [
    {
     "name": "stdout",
     "output_type": "stream",
     "text": [
      "RESPONSE: One view of government, as discussed in 'The Republic' (http://franz.com/llm/TheRepublic_483), is that it is all-encompassing and absorbs all other desires and affections of the citizens. It is seen as an institution that provides stability and order, focusing primarily on war and philosophy. In times of peace, citizens' duties to the State, which are also their duties to one another, take up their whole life and time. \n",
      "\n",
      "An opposing view from 'Treatise Of Human Nature' (http://franz.com/llm/TreatiseOfHumanNature_1227) argues that government is a human invention for the interest of society, and when the tyranny of the governor removes this interest, it also removes the natural obligation to obedience. This view suggests that resistance is not only justified but also morally obligatory in instances of tyranny and oppression. \n",
      "\n",
      "In summary, one view sees government as a necessary and omnipresent force for order and stability, while the other sees it as a human construct that can be challenged and resisted if it does not serve the interests of society.\n"
     ]
    }
   ],
   "source": [
    "response = AskMyDocuments(conn, 'cite two opposing views on government', 'philosophy', number=20, confidence=0)"
   ]
  },
  {
   "cell_type": "markdown",
   "id": "459e8585-60b7-4442-ad31-51f1e12641da",
   "metadata": {},
   "source": [
    "The `df` method simple gives the user access to the complete response of the SPARQL query."
   ]
  },
  {
   "cell_type": "code",
   "execution_count": 5,
   "id": "027b4497-be18-4fca-be2e-688ce2aec43f",
   "metadata": {},
   "outputs": [
    {
     "data": {
      "text/html": [
       "<div>\n",
       "<style scoped>\n",
       "    .dataframe tbody tr th:only-of-type {\n",
       "        vertical-align: middle;\n",
       "    }\n",
       "\n",
       "    .dataframe tbody tr th {\n",
       "        vertical-align: top;\n",
       "    }\n",
       "\n",
       "    .dataframe thead th {\n",
       "        text-align: right;\n",
       "    }\n",
       "</style>\n",
       "<table border=\"1\" class=\"dataframe\">\n",
       "  <thead>\n",
       "    <tr style=\"text-align: right;\">\n",
       "      <th></th>\n",
       "      <th>citation</th>\n",
       "      <th>content</th>\n",
       "      <th>response</th>\n",
       "      <th>score</th>\n",
       "    </tr>\n",
       "  </thead>\n",
       "  <tbody>\n",
       "    <tr>\n",
       "      <th>0</th>\n",
       "      <td>&lt;http://franz.com/llm/TheRepublic_483&gt;</td>\n",
       "      <td>regarded from another point of view, is a mili...</td>\n",
       "      <td>One perspective on government, as derived from...</td>\n",
       "      <td>0.824915</td>\n",
       "    </tr>\n",
       "    <tr>\n",
       "      <th>1</th>\n",
       "      <td>&lt;http://franz.com/llm/TreatiseOfHumanNature_1227&gt;</td>\n",
       "      <td>their history: and nothing but the most violen...</td>\n",
       "      <td>One perspective on government, as derived from...</td>\n",
       "      <td>0.824385</td>\n",
       "    </tr>\n",
       "    <tr>\n",
       "      <th>2</th>\n",
       "      <td>&lt;http://franz.com/llm/SecondTreatiseOfGovernme...</td>\n",
       "      <td>government, and do either promote, or not, wha...</td>\n",
       "      <td>One perspective on government, as derived from...</td>\n",
       "      <td>0.823392</td>\n",
       "    </tr>\n",
       "  </tbody>\n",
       "</table>\n",
       "</div>"
      ],
      "text/plain": [
       "                                            citation  \\\n",
       "0             <http://franz.com/llm/TheRepublic_483>   \n",
       "1  <http://franz.com/llm/TreatiseOfHumanNature_1227>   \n",
       "2  <http://franz.com/llm/SecondTreatiseOfGovernme...   \n",
       "\n",
       "                                             content  \\\n",
       "0  regarded from another point of view, is a mili...   \n",
       "1  their history: and nothing but the most violen...   \n",
       "2  government, and do either promote, or not, wha...   \n",
       "\n",
       "                                            response     score  \n",
       "0  One perspective on government, as derived from...  0.824915  \n",
       "1  One perspective on government, as derived from...  0.824385  \n",
       "2  One perspective on government, as derived from...  0.823392  "
      ]
     },
     "execution_count": 5,
     "metadata": {},
     "output_type": "execute_result"
    }
   ],
   "source": [
    "response.df"
   ]
  },
  {
   "cell_type": "markdown",
   "id": "73ae45df-d923-490c-b721-50855f9f5b4a",
   "metadata": {},
   "source": [
    "Similar to the `llm:nearestNeigbor` example we also created a similar function that links all evidence chunks of the response to a newly created response object that stores the metadata of the `AskMyDocuments` class."
   ]
  },
  {
   "cell_type": "code",
   "execution_count": 7,
   "id": "ff790a47-5fa3-4341-bf58-d11ec503b9bb",
   "metadata": {},
   "outputs": [],
   "source": [
    "response.add_evidence_to_graph()"
   ]
  },
  {
   "cell_type": "markdown",
   "id": "fb1f77a5-45cb-484d-a1bb-7a55cbed412e",
   "metadata": {},
   "source": [
    "![ask my documents](images/ask_my_documents.png)"
   ]
  },
  {
   "cell_type": "code",
   "execution_count": 10,
   "id": "252005d1-c5a2-41e8-aed7-73abb314c539",
   "metadata": {},
   "outputs": [
    {
     "name": "stdout",
     "output_type": "stream",
     "text": [
      "RESPONSE: The purpose of humanity, as gleaned from these texts, seems to encompass several intertwined facets. One key purpose is the continued enlightenment and growth of the human mind, striving for a more perfect realization of our present life and the potential future of the human race. This involves a persistent pursuit of the common interest, facilitated by education and the breaking away from traditional constraints. Furthermore, humanity is also tasked with the moral obligation of ensuring the happiness and well-being of all individuals, with the highest and noblest motivations rooted in virtue and goodness. This moral obligation extends beyond mere earthly utility, as humanity is gifted with a consciousness of probity and a moral law that transcends immediate advantageous consequences. Finally, there's an inherent responsibility towards self-regulation and moderation in our appetites and health, maintaining a delicate balance between our intellectual and sensory experiences.\n"
     ]
    }
   ],
   "source": [
    "response = AskMyDocuments(conn, 'What is the purpose of humanity', 'philosophy')"
   ]
  },
  {
   "cell_type": "code",
   "execution_count": 9,
   "id": "f5eb0c25-f9e5-4608-9987-161d06d43fd8",
   "metadata": {},
   "outputs": [
    {
     "name": "stdout",
     "output_type": "stream",
     "text": [
      "RESPONSE: Humans are naturally in a state of perfect freedom and equality, able to order their actions and dispose of their possessions as they see fit within the bounds of natural law, without requiring permission from or dependence on any other person. This is the 'state of nature'. However, this condition does not seem to last for a significant period, as humans tend to form societies and enter into a 'state of society' where there are agreed rules and governance. This transition is driven by the drawbacks of the state of nature, including the lack of a common superior or authority to judge between individuals, making the enforcement of rights and justice problematic.\n"
     ]
    }
   ],
   "source": [
    "response = AskMyDocuments(conn, \"What state are humans naturally in\", 'philosophy')"
   ]
  },
  {
   "cell_type": "markdown",
   "id": "5ce826d7-389f-4cb8-8a33-3de41912baaf",
   "metadata": {},
   "source": [
    "## Asking Questions of a Contract\n",
    "\n",
    "In this example we will ask questions of a contract and show the section(s) of the contract where the answers can be found. [Here](https://sccrtc.org/wp-content/uploads/2010/09/SampleContract-Shuttle.pdf) is a link the contract in question.\n",
    "\n",
    "We start by creating a new repository and adding the previously parsed contract triples (please add your parameters to connect to the server)"
   ]
  },
  {
   "cell_type": "code",
   "execution_count": 13,
   "id": "9db69c7e-e5ca-4401-b0e8-d80ebe3085c3",
   "metadata": {},
   "outputs": [
    {
     "data": {
      "text/plain": [
       "1024"
      ]
     },
     "execution_count": 13,
     "metadata": {},
     "output_type": "execute_result"
    }
   ],
   "source": [
    "conn = ag_connect('llm-contracts')\n",
    "conn.addFile('contract.nt')\n",
    "conn.size()"
   ]
  },
  {
   "cell_type": "markdown",
   "id": "2d63f694-6066-4b3d-8ba3-6885e51de6ec",
   "metadata": {},
   "source": [
    "![contract gruff image](images/contract-compensation.png)"
   ]
  },
  {
   "cell_type": "markdown",
   "id": "642a3fd4-ba61-4e84-b2c7-06f1ea84b157",
   "metadata": {},
   "source": [
    "Now we have to index the text again. We define `contract.def` as follows:\n",
    "```\n",
    "gpt\n",
    " openai-api-key \"your-openai-api-key-here\"\n",
    " vector-database-name \"contract\"\n",
    " vector-database-dim 1536\n",
    " limit 1000000\n",
    " splitter list\n",
    " include-predicates <http://franz.com/hasContent>\n",
    "```\n",
    "\n",
    "And then again we run the `agtool llm index` command as follows:\n",
    "\n",
    "```shell\n",
    "./agtool llm index localhost:10035/llm-contracts ../../demos/llm/contract.def \n",
    "```\n",
    "\n",
    "Once all text has been indexed we can start asking the document questions!"
   ]
  },
  {
   "cell_type": "code",
   "execution_count": 14,
   "id": "b633563f-5d30-477c-860c-c80eabe2c7dd",
   "metadata": {},
   "outputs": [
    {
     "name": "stdout",
     "output_type": "stream",
     "text": [
      "RESPONSE: Based on the provided content, there is no explicit prohibition or allowance for paying the consultant a bonus in the agreement. The compensation is stated to be for the consultant accomplishing a certain result (2), and progress payments are made based on satisfactory services provided and actual allowable incurred costs (2._E). However, the consultant is deemed an independent consultant and not an employee (11), and the agreement does not mention any employee benefits or bonuses. Any additional compensation would likely need to be detailed and agreed upon in a separate arrangement or amendment to the existing agreement, ensuring that it does not fall under rebates, kickbacks or other unlawful consideration (22).\n"
     ]
    }
   ],
   "source": [
    "response = AskMyDocuments(conn, 'Can we pay the consultant a bonus?', 'contract')"
   ]
  },
  {
   "cell_type": "code",
   "execution_count": 4,
   "id": "fa34b648-1c47-4031-a49d-8cd3cc66f3ed",
   "metadata": {},
   "outputs": [
    {
     "name": "stdout",
     "output_type": "stream",
     "text": [
      "0 0.8274215 <http://franz.com/2.>  2. COMPENSATION. In consideration for CONSULTANT accomplishing said result, COMMISSION agrees to pay CONSULTANT as follows: \n",
      "\n",
      "1 0.7981638 <http://franz.com/2._E.>  E. Progress payments will be made no less than monthly in arrears based on satisfactory services provided and actual allowable incurred costs. A pro rata portion of the CONSULTANTs fixed fee, if applicable, will be included in the monthly progress payments. If CONSULTANT fails to submit the required  Page 2 deliverable items according to the schedule set forth in the Scope of Services, the COMMISSION may delay payment and/or terminate this Agreement in accordance with the provisions of Section 4 of this Agreement. \n",
      "\n",
      "2 0.8200693 <http://franz.com/22.>  22. REBATES, KICKBACKS OR OTHER UNLAWFUL CONSIDERATION. The CONSULTANT warrants that this Agreement was not obtained or secured through rebates kickbacks or other unlawful consideration, either promised or paid to any COMMISSION employee. For breach or violation of this warranty, COMMISSION shall have the right in its discretion to terminate the Agreement without liability; to pay only for the value of the work actually performed; or to deduct from the contract price; or otherwise recover the full amount of such rebate, kickback or other unlawful consideration. \n",
      "\n",
      "3 0.7910823 <http://franz.com/11.>  11. INDEPENDENT CONSULTANT STATUS. CONSULTANT and COMMISSION have reviewed and considered the principal test and secondary factors herein and agree that CONSULTANT is an independent CONSULTANT and not an employee of COMMISSION. CONSULTANT is responsible for all insurance (workers compensation, unemployment, etc.) and all payroll related taxes. CONSULTANT is not entitled to any employee benefits. COMMISSION agrees that CONSULTANT shall have the right to control the manner and means of accomplishing the result contracted for herein.  PRINCIPAL TEST: The CONSULTANT rather than COMMISSION has the right to control the manner and means of accomplishing the result contracted for. SECONDARY FACTORS: (a) The extent of control which, by agreement, COMMISSION may exercise over the details of the work is slight rather than substantial; (b) CONSULTANT is engaged in a distinct occupation or business; (c) In the locality, the work to be done by CONSULTANT is usually done by a specialist without supervision, rather than under the direction of an employer; (d) The skill required in the particular occupation is substantial rather than slight; (e) The CONSULTANT rather than the COMMISSION supplies the instrumentalities, tools and work place; (f) The length of time for which CONSULTANT is engaged is of limited duration rather than indefinite; (g) The method of payment of CONSULTANT is by the job rather than by the time; (h) The work is part of a special or permissive activity, program, or project, rather than part of the regular business of COMMISSION; (i) CONSULTANT and COMMISSION believe they are creating an independent CONSULTANT relationship rather than an employer-employee relationship; and (j) The COMMISSION conducts public business. It is recognized that it is not necessary that all secondary factors support creation of an independent CONSULTANT relationship, but rather that overall there are significant secondary factors which indicate that CONSULTANT is an independent CONSULTANT. By their signatures to this Agreement, each of the undersigned certifies that it is his or her considered judgment that the CONSULTANT engaged under this Agreement is in fact an independent CONSULTANT. \n",
      "\n"
     ]
    }
   ],
   "source": [
    "response.proof()"
   ]
  },
  {
   "cell_type": "code",
   "execution_count": 5,
   "id": "d6863740-d817-4107-906c-494fe3f65e68",
   "metadata": {},
   "outputs": [],
   "source": [
    "response.add_evidence_to_graph()"
   ]
  },
  {
   "cell_type": "markdown",
   "id": "4f4c2db0-4ba4-4e5c-ae94-56080f9adcbb",
   "metadata": {},
   "source": [
    "![ask my contract](images/ask_my_contract.png)"
   ]
  },
  {
   "cell_type": "code",
   "execution_count": 6,
   "id": "1f159b26-be80-4b02-8c4e-e4044c3b46c4",
   "metadata": {},
   "outputs": [
    {
     "name": "stdout",
     "output_type": "stream",
     "text": [
      "RESPONSE: With each invoice, the consultant should submit a written progress report detailing their performance, any interim findings, difficulties encountered, and proposed remedies. The invoice should be itemized and include information such as labor details (staff name, hours charged, hourly billing rate, current charges and cumulative charges), expenses incurred during the billing period, total invoice/payment requested, and total amount previously paid under the agreement. The consultant should also provide a report of expenditures for each task, subtask or milestone, and estimate the percentage completion for each division of work. Along with the invoice, the consultant should also submit any deliverables as per the agreement. If there are any insurance-related payments due, these should also be submitted. All information derived from these deliverables is deemed confidential and may not be disclosed to any other party without prior written consent of the commission.\n"
     ]
    }
   ],
   "source": [
    "response = AskMyDocuments(conn, \"What should the consultant submit with each invoice?\", \"contract\")"
   ]
  },
  {
   "cell_type": "code",
   "execution_count": 7,
   "id": "2334e3ed-441c-438f-ad57-21df38910526",
   "metadata": {},
   "outputs": [
    {
     "name": "stdout",
     "output_type": "stream",
     "text": [
      "RESPONSE: In such a situation, the contractor, known as the consultant in the content, is expected to defend and hold harmless the Commission, which includes its officers, agents, employees and volunteers from any legal actions as stipulated in the 'Indemnification for Damages, Taxes and Contributions' clause. This means the contractor would be responsible for any legal ramifications. Additionally, if the contractor is found in default of the agreement for any reason, the Commission has the right to terminate the agreement without liability as per the 'Termination' clause. It is also important to note that all activities and files related to the project are subject to review and inspection by the Commission, the state, and the Federal Highway Administration if federal participating funds are used. This is to ensure transparency and compliance with all laws and regulations.\n"
     ]
    }
   ],
   "source": [
    "response = AskMyDocuments(conn, \"A third party sued the contractor and tried to collect money from the city.\", \"contract\")"
   ]
  },
  {
   "cell_type": "code",
   "execution_count": 8,
   "id": "66160423-1913-4f11-afdd-6c3e5ce3ec3a",
   "metadata": {},
   "outputs": [
    {
     "name": "stdout",
     "output_type": "stream",
     "text": [
      "0 0.77711004 <http://franz.com/5.>  5. INDEMNIFICATION FOR DAMAGES, TAXES AND CONTRIBUTIONS. CONSULTANT shall exonerate, indemnify, defend, and hold harmless the COMMISSION (which for the purpose of this Agreement shall include, without limitation, its officers, agents, employees and volunteers) from and against: \n",
      "\n",
      "1 0.77066624 <http://franz.com/4._B.>  B. COMMISSION may terminate this Agreement for CONSULTANT's default if a federal or state proceeding for the relief of debtors is undertaken by or against CONSULTANT, or CONSULTANT's  Page 3 principal, or if CONSULTANT or CONSULTANT's principal makes an assignment for the benefit of creditors, or if CONSULTANT breaches any term(s) or violates any provision(s) of this Agreement and does not cure such breach or violation within ten (10) days after written notice thereof by COMMISSION. CONSULTANT shall be liable for any and all reasonable costs incurred by COMMISSION as a result of such default, including but not limited to reprocurement costs of the same or similar services defaulted by CONSULTANT under this Agreement. \n",
      "\n",
      "2 0.7700982 <http://franz.com/13.>  13. INSPECTION OF WORK  The CONSULTANT and any subconsultant shall permit the COMMISSION, the state, and the FHWA if federal participating funds are used in this contract, to review and inspect the project activities and files at all reasonable times during the term of this Agreement including review and inspection on a daily basis. \n",
      "\n",
      "3 0.7693448 <http://franz.com/4._A.>  A. COMMISSION may terminate this Agreement for its convenience any time, in whole or part, by giving CONSULTANT thirty-day (30-day) written notice thereof. Within thirty days of the COMMISSION's receipt of CONSULTANT's final billing, COMMISSION shall pay CONSULTANT its allowable costs incurred to date of termination and those allowable costs determined by COMMISSION to be reasonably necessary to effect such termination. Thereafter, CONSULTANT shall have no further claims against COMMISSION under this Agreement. \n",
      "\n"
     ]
    }
   ],
   "source": [
    "response.proof()"
   ]
  },
  {
   "cell_type": "code",
   "execution_count": null,
   "id": "75ad6519-9ed3-446d-8534-73a149f6a447",
   "metadata": {},
   "outputs": [],
   "source": [
    "def print_text(string: str):\n",
    "    string = string.replace('\\n', '').replace('\\r', '')\n",
    "    wrapper = textwrap.TextWrapper(width=100)\n",
    "    word_list = wrapper.wrap(text=string)\n",
    "    for element in word_list:\n",
    "        print(element)\n"
   ]
  }
 ],
 "metadata": {
  "kernelspec": {
   "display_name": "Python [conda env:agvector2]",
   "language": "python",
   "name": "conda-env-agvector2-py"
  },
  "language_info": {
   "codemirror_mode": {
    "name": "ipython",
    "version": 3
   },
   "file_extension": ".py",
   "mimetype": "text/x-python",
   "name": "python",
   "nbconvert_exporter": "python",
   "pygments_lexer": "ipython3",
   "version": "3.10.13"
  }
 },
 "nbformat": 4,
 "nbformat_minor": 5
}
