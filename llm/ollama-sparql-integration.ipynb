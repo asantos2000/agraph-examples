{
 "cells": [
  {
   "cell_type": "markdown",
   "id": "0e99127c-ccee-4d21-b875-bb92db2174f7",
   "metadata": {},
   "source": [
    "# AllegroGraph Ollama Integration\n",
    "\n",
    "In this tutorial we assume you have `ollama` installed. If not, see the README about more information or go [here](https://ollama.com/download?utm_id=tutorials_awb-accessing-llms-jupyter-notebook-ollama) to download `ollama`. We will be using their `llama3.1:latest` model for this demo. Pull it using the following shell command:\n",
    "\n",
    "```shell\n",
    "ollama pull llama3.1:latest\n",
    "```\n",
    "\n",
    "We start by connecting to an AllegroGraph repository"
   ]
  },
  {
   "cell_type": "code",
   "execution_count": 1,
   "id": "47bf85a6-a14a-48a0-a699-82e6e6519559",
   "metadata": {},
   "outputs": [],
   "source": [
    "from franz.openrdf.connect import ag_connect\n",
    "from franz.openrdf.query.query import QueryLanguage\n",
    "\n",
    "#Please set your connection parameters here\n",
    "conn = ag_connect('ollama-example', create=True, clear=True, user='', password='', host='', port='')"
   ]
  },
  {
   "cell_type": "markdown",
   "id": "5408f81e-8e08-46a6-b1c1-fae15cbfe5d5",
   "metadata": {},
   "source": [
    "Now we will set our connection parameters:"
   ]
  },
  {
   "cell_type": "code",
   "execution_count": 2,
   "id": "e924b745-9f23-44a5-8a85-1448d174dff6",
   "metadata": {},
   "outputs": [],
   "source": [
    "scheme = 'http'\n",
    "ollama_host = 'localhost'\n",
    "ollama_port = '11434'\n",
    "model = 'llama3.1:latest'"
   ]
  },
  {
   "cell_type": "markdown",
   "id": "3b146c03-ea95-4269-b8e8-b869c17b75a3",
   "metadata": {},
   "source": [
    "We insert all parameters into a `SPARQL` prefixes list that will be included in each subsequent query."
   ]
  },
  {
   "cell_type": "code",
   "execution_count": 3,
   "id": "0c238b98-6aea-43a5-91d2-a66080097b78",
   "metadata": {},
   "outputs": [],
   "source": [
    "PREFIXES = f\"\"\"\n",
    "PREFIX franzOption_llmVendor: <franz:ollama>  \n",
    "PREFIX franzOption_llmScheme: <franz:{scheme}>  \n",
    "PREFIX franzOption_llmHost: <franz:{ollama_host}>  \n",
    "PREFIX franzOption_llmPort: <franz:{ollama_port}>  \n",
    "PREFIX franzOption_llmChatModel: <franz:{model}>  \n",
    " \n",
    "PREFIX llm: <http://franz.com/ns/allegrograph/8.0.0/llm/>   \n",
    "\"\"\""
   ]
  },
  {
   "cell_type": "markdown",
   "id": "0df39b72-6ed4-4a56-b834-6d41d43793ab",
   "metadata": {},
   "source": [
    "## llm:response\n",
    "\n",
    "We will start with our first magic predicate, `llm:response` which returns a list of answers"
   ]
  },
  {
   "cell_type": "code",
   "execution_count": 5,
   "id": "1660a2f1-8613-4ad1-aa98-d1b9beebf11d",
   "metadata": {},
   "outputs": [
    {
     "data": {
      "text/html": [
       "<div>\n",
       "<style scoped>\n",
       "    .dataframe tbody tr th:only-of-type {\n",
       "        vertical-align: middle;\n",
       "    }\n",
       "\n",
       "    .dataframe tbody tr th {\n",
       "        vertical-align: top;\n",
       "    }\n",
       "\n",
       "    .dataframe thead th {\n",
       "        text-align: right;\n",
       "    }\n",
       "</style>\n",
       "<table border=\"1\" class=\"dataframe\">\n",
       "  <thead>\n",
       "    <tr style=\"text-align: right;\">\n",
       "      <th></th>\n",
       "      <th>book</th>\n",
       "    </tr>\n",
       "  </thead>\n",
       "  <tbody>\n",
       "    <tr>\n",
       "      <th>0</th>\n",
       "      <td>The Fellowship of the Ring</td>\n",
       "    </tr>\n",
       "    <tr>\n",
       "      <th>1</th>\n",
       "      <td>The Two Towers</td>\n",
       "    </tr>\n",
       "    <tr>\n",
       "      <th>2</th>\n",
       "      <td>The Return of the King</td>\n",
       "    </tr>\n",
       "  </tbody>\n",
       "</table>\n",
       "</div>"
      ],
      "text/plain": [
       "                         book\n",
       "0  The Fellowship of the Ring\n",
       "1              The Two Towers\n",
       "2      The Return of the King"
      ]
     },
     "execution_count": 5,
     "metadata": {},
     "output_type": "execute_result"
    }
   ],
   "source": [
    "query_string = f\"\"\"\n",
    "    {PREFIXES}\n",
    "\n",
    "    SELECT ?book WHERE {{\n",
    "        ?book llm:response \"list the books in the Lord of the Rings trilogy\" }}\"\"\"\n",
    "df = conn.executeTupleQuery(query_string).toPandas()\n",
    "df"
   ]
  },
  {
   "cell_type": "markdown",
   "id": "9d834ec1-f82e-4d3c-b234-59b236716f0f",
   "metadata": {},
   "source": [
    "*note:* remember that the prefixes are a part of the SPARQL query string."
   ]
  },
  {
   "cell_type": "code",
   "execution_count": 5,
   "id": "25454acf-c1c7-45f8-8136-b4fc03faa1f2",
   "metadata": {},
   "outputs": [
    {
     "name": "stdout",
     "output_type": "stream",
     "text": [
      "\n",
      "    \n",
      "PREFIX franzOption_llmVendor: <franz:ollama>  \n",
      "PREFIX franzOption_llmScheme: <franz:http>  \n",
      "PREFIX franzOption_llmHost: <franz:localhost>  \n",
      "PREFIX franzOption_llmPort: <franz:11434>  \n",
      "PREFIX franzOption_llmChatModel: <franz:llama3.1:latest>  \n",
      " \n",
      "PREFIX llm: <http://franz.com/ns/allegrograph/8.0.0/llm/>   \n",
      "\n",
      "\n",
      "    SELECT ?book WHERE {\n",
      "        ?book llm:response \"list the books in the Lord of the Rings trilogy\" }\n"
     ]
    }
   ],
   "source": [
    "print(query_string)"
   ]
  },
  {
   "cell_type": "markdown",
   "id": "3e113c90-62b2-468e-a068-023ef03225b3",
   "metadata": {},
   "source": [
    "Here is a variety of other examples your can try. Please uncomment the desired clause and check the results! "
   ]
  },
  {
   "cell_type": "code",
   "execution_count": 6,
   "id": "25fdcdb1-e76e-4160-a789-765b6062cd65",
   "metadata": {},
   "outputs": [
    {
     "data": {
      "text/html": [
       "<div>\n",
       "<style scoped>\n",
       "    .dataframe tbody tr th:only-of-type {\n",
       "        vertical-align: middle;\n",
       "    }\n",
       "\n",
       "    .dataframe tbody tr th {\n",
       "        vertical-align: top;\n",
       "    }\n",
       "\n",
       "    .dataframe thead th {\n",
       "        text-align: right;\n",
       "    }\n",
       "</style>\n",
       "<table border=\"1\" class=\"dataframe\">\n",
       "  <thead>\n",
       "    <tr style=\"text-align: right;\">\n",
       "      <th></th>\n",
       "      <th>response</th>\n",
       "    </tr>\n",
       "  </thead>\n",
       "  <tbody>\n",
       "    <tr>\n",
       "      <th>0</th>\n",
       "      <td>Frodo</td>\n",
       "    </tr>\n",
       "    <tr>\n",
       "      <th>1</th>\n",
       "      <td>Sam</td>\n",
       "    </tr>\n",
       "    <tr>\n",
       "      <th>2</th>\n",
       "      <td>Aragorn</td>\n",
       "    </tr>\n",
       "    <tr>\n",
       "      <th>3</th>\n",
       "      <td>Legolas</td>\n",
       "    </tr>\n",
       "    <tr>\n",
       "      <th>4</th>\n",
       "      <td>Gimli</td>\n",
       "    </tr>\n",
       "    <tr>\n",
       "      <th>5</th>\n",
       "      <td>Boromir</td>\n",
       "    </tr>\n",
       "    <tr>\n",
       "      <th>6</th>\n",
       "      <td>Meriadoc Brandybuck</td>\n",
       "    </tr>\n",
       "    <tr>\n",
       "      <th>7</th>\n",
       "      <td>Peregrin Took</td>\n",
       "    </tr>\n",
       "    <tr>\n",
       "      <th>8</th>\n",
       "      <td>Gandalf</td>\n",
       "    </tr>\n",
       "  </tbody>\n",
       "</table>\n",
       "</div>"
      ],
      "text/plain": [
       "              response\n",
       "0                Frodo\n",
       "1                  Sam\n",
       "2              Aragorn\n",
       "3              Legolas\n",
       "4                Gimli\n",
       "5              Boromir\n",
       "6  Meriadoc Brandybuck\n",
       "7        Peregrin Took\n",
       "8              Gandalf"
      ]
     },
     "execution_count": 6,
     "metadata": {},
     "output_type": "execute_result"
    }
   ],
   "source": [
    "query_string = f\"\"\"\n",
    "    {PREFIXES}\n",
    "\n",
    "    SELECT ?response WHERE {{\n",
    "        #?book llm:response \"list the books in the Lord of the Rings trilogy\"\n",
    "        ?response llm:response \"Who are the original 9 of the fellowship of the ring?\"\n",
    "        #?response llm:response \"who eventually destroys the ring of power in the lord of the rings?\"\n",
    "        #?response llm:response \"ADD YOUR OWN QUESTION HERE\"\n",
    "        }}\"\"\"\n",
    "df = conn.executeTupleQuery(query_string).toPandas()\n",
    "df"
   ]
  },
  {
   "cell_type": "markdown",
   "id": "1a0a9c18-7043-4c32-841e-fb27cb4f4e64",
   "metadata": {},
   "source": [
    "## Resources\n",
    "\n",
    "When building datasets, we need to be able to turn string responses into IRIs which will be used as subjects in statements. In order to make an IRI out of a response string, use function **llm:node**. It converts a string into a unique fixed-size IRI in a deterministic way."
   ]
  },
  {
   "cell_type": "code",
   "execution_count": 7,
   "id": "17a80925-0826-4f17-adba-9288673b51da",
   "metadata": {},
   "outputs": [
    {
     "data": {
      "text/html": [
       "<div>\n",
       "<style scoped>\n",
       "    .dataframe tbody tr th:only-of-type {\n",
       "        vertical-align: middle;\n",
       "    }\n",
       "\n",
       "    .dataframe tbody tr th {\n",
       "        vertical-align: top;\n",
       "    }\n",
       "\n",
       "    .dataframe thead th {\n",
       "        text-align: right;\n",
       "    }\n",
       "</style>\n",
       "<table border=\"1\" class=\"dataframe\">\n",
       "  <thead>\n",
       "    <tr style=\"text-align: right;\">\n",
       "      <th></th>\n",
       "      <th>book</th>\n",
       "      <th>node</th>\n",
       "    </tr>\n",
       "  </thead>\n",
       "  <tbody>\n",
       "    <tr>\n",
       "      <th>0</th>\n",
       "      <td>The Fellowship of the Ring</td>\n",
       "      <td>&lt;http://franz.com/ns/allegrograph/8.0.0/llm/no...</td>\n",
       "    </tr>\n",
       "    <tr>\n",
       "      <th>1</th>\n",
       "      <td>The Two Towers</td>\n",
       "      <td>&lt;http://franz.com/ns/allegrograph/8.0.0/llm/no...</td>\n",
       "    </tr>\n",
       "    <tr>\n",
       "      <th>2</th>\n",
       "      <td>The Return of the King</td>\n",
       "      <td>&lt;http://franz.com/ns/allegrograph/8.0.0/llm/no...</td>\n",
       "    </tr>\n",
       "  </tbody>\n",
       "</table>\n",
       "</div>"
      ],
      "text/plain": [
       "                         book  \\\n",
       "0  The Fellowship of the Ring   \n",
       "1              The Two Towers   \n",
       "2      The Return of the King   \n",
       "\n",
       "                                                node  \n",
       "0  <http://franz.com/ns/allegrograph/8.0.0/llm/no...  \n",
       "1  <http://franz.com/ns/allegrograph/8.0.0/llm/no...  \n",
       "2  <http://franz.com/ns/allegrograph/8.0.0/llm/no...  "
      ]
     },
     "execution_count": 7,
     "metadata": {},
     "output_type": "execute_result"
    }
   ],
   "source": [
    "query_string = f\"\"\"\n",
    "    {PREFIXES}\n",
    "\n",
    "    SELECT ?book ?node WHERE {{\n",
    "        ?book llm:response \"What are the 3 books in the Lord of the Rings Trilogy. Please return only the name\" .\n",
    "        BIND ( llm:node(?book) as ?node ) . }}\"\"\"\n",
    "df = conn.executeTupleQuery(query_string).toPandas()\n",
    "df"
   ]
  },
  {
   "cell_type": "markdown",
   "id": "317cdaae-a33f-4fea-8fdc-d741b45bf8d2",
   "metadata": {},
   "source": [
    "## Creating a table of outputs\n",
    "\n",
    "This query demonstrates the combination of both the response magic property and the response function to produce a table"
   ]
  },
  {
   "cell_type": "code",
   "execution_count": 8,
   "id": "bea17779-502b-468f-87fe-82384a143c2e",
   "metadata": {},
   "outputs": [
    {
     "data": {
      "text/html": [
       "<div>\n",
       "<style scoped>\n",
       "    .dataframe tbody tr th:only-of-type {\n",
       "        vertical-align: middle;\n",
       "    }\n",
       "\n",
       "    .dataframe tbody tr th {\n",
       "        vertical-align: top;\n",
       "    }\n",
       "\n",
       "    .dataframe thead th {\n",
       "        text-align: right;\n",
       "    }\n",
       "</style>\n",
       "<table border=\"1\" class=\"dataframe\">\n",
       "  <thead>\n",
       "    <tr style=\"text-align: right;\">\n",
       "      <th></th>\n",
       "      <th>character</th>\n",
       "      <th>race</th>\n",
       "      <th>age</th>\n",
       "      <th>location</th>\n",
       "    </tr>\n",
       "  </thead>\n",
       "  <tbody>\n",
       "    <tr>\n",
       "      <th>0</th>\n",
       "      <td>Frodo Baggins</td>\n",
       "      <td>Hobbit</td>\n",
       "      <td>53</td>\n",
       "      <td>Hobbiton, The Shire</td>\n",
       "    </tr>\n",
       "    <tr>\n",
       "      <th>1</th>\n",
       "      <td>Samwise Gamgee</td>\n",
       "      <td>Hobbit</td>\n",
       "      <td>87</td>\n",
       "      <td>Hobbiton</td>\n",
       "    </tr>\n",
       "    <tr>\n",
       "      <th>2</th>\n",
       "      <td>Aragorn</td>\n",
       "      <td>Dúnedain</td>\n",
       "      <td>87</td>\n",
       "      <td>Dúnedain</td>\n",
       "    </tr>\n",
       "    <tr>\n",
       "      <th>3</th>\n",
       "      <td>Legolas</td>\n",
       "      <td>Woodland Elf</td>\n",
       "      <td>139</td>\n",
       "      <td>Mirkwood</td>\n",
       "    </tr>\n",
       "    <tr>\n",
       "      <th>4</th>\n",
       "      <td>Gimli</td>\n",
       "      <td>Dwarves</td>\n",
       "      <td>139</td>\n",
       "      <td>Khazad-dûm</td>\n",
       "    </tr>\n",
       "    <tr>\n",
       "      <th>5</th>\n",
       "      <td>Boromir</td>\n",
       "      <td>Dunedain</td>\n",
       "      <td>35</td>\n",
       "      <td>Gondor</td>\n",
       "    </tr>\n",
       "    <tr>\n",
       "      <th>6</th>\n",
       "      <td>Meriadoc Brandybuck</td>\n",
       "      <td>Hobbit</td>\n",
       "      <td>130</td>\n",
       "      <td>Oxfordshire (Buckland)</td>\n",
       "    </tr>\n",
       "    <tr>\n",
       "      <th>7</th>\n",
       "      <td>Peregrin Took</td>\n",
       "      <td>Hobbit</td>\n",
       "      <td>17</td>\n",
       "      <td>Rivendell</td>\n",
       "    </tr>\n",
       "    <tr>\n",
       "      <th>8</th>\n",
       "      <td>Gandalf</td>\n",
       "      <td>Maia</td>\n",
       "      <td>1050</td>\n",
       "      <td>Valinor</td>\n",
       "    </tr>\n",
       "  </tbody>\n",
       "</table>\n",
       "</div>"
      ],
      "text/plain": [
       "             character          race   age                location\n",
       "0        Frodo Baggins        Hobbit    53     Hobbiton, The Shire\n",
       "1       Samwise Gamgee        Hobbit    87                Hobbiton\n",
       "2              Aragorn      Dúnedain    87                Dúnedain\n",
       "3              Legolas  Woodland Elf   139                Mirkwood\n",
       "4                Gimli       Dwarves   139              Khazad-dûm\n",
       "5              Boromir      Dunedain    35                  Gondor\n",
       "6  Meriadoc Brandybuck        Hobbit   130  Oxfordshire (Buckland)\n",
       "7        Peregrin Took        Hobbit    17               Rivendell\n",
       "8              Gandalf          Maia  1050                 Valinor"
      ]
     },
     "execution_count": 8,
     "metadata": {},
     "output_type": "execute_result"
    }
   ],
   "source": [
    "query_string = f\"\"\"\n",
    "    {PREFIXES}\n",
    "    SELECT ?character ?race ?age ?location WHERE {{\n",
    "        {{ SELECT ?character WHERE {{\n",
    "            ?character llm:response \"Who are the 9 original characters in the Fellowship of the Ring in the Lord of the Rings\" . }} }}\n",
    "\n",
    "        BIND(llm:response(CONCAT(\"What is the race of \", ?character, \" in the Lord of the Rings. Return the race name only. No explanation needed\")) as ?race) .\n",
    "        BIND(llm:response(CONCAT(\"How old is \", ?character, \" in the Lord of the Rings. Please return their age only as interger only. No explanation needed\")) as ?age) .\n",
    "        BIND(llm:response(CONCAT(\"Where is \", ?character, \" from in Middle Earth in the Lord of the Rings. Please return only a place name. No explanation needed\")) as ?location) .\n",
    "    }}\"\"\"\n",
    "df = conn.executeTupleQuery(query_string).toPandas()\n",
    "df"
   ]
  },
  {
   "cell_type": "markdown",
   "id": "135db677-9c9e-40fa-9a10-3090fae976d3",
   "metadata": {},
   "source": [
    "# Graph Insertion\n",
    "\n",
    "We will now insert the data from the previous query into the graph and show some sample SPARQL queries showing the data is present in the graph! Notice that we also have to create node for each character."
   ]
  },
  {
   "cell_type": "code",
   "execution_count": 75,
   "id": "ca4d594f-a34a-4aee-89f2-105627d1027c",
   "metadata": {},
   "outputs": [
    {
     "data": {
      "text/plain": [
       "45"
      ]
     },
     "execution_count": 75,
     "metadata": {},
     "output_type": "execute_result"
    }
   ],
   "source": [
    "query_string = f\"\"\"\n",
    "    {PREFIXES}\n",
    "    PREFIX f: <http://franz.com/>\n",
    "\n",
    "    INSERT {{\n",
    "        ?characterNode a f:Character ;\n",
    "                  rdfs:label ?character ;\n",
    "                  f:race ?race ;\n",
    "                  f:age ?age ;\n",
    "                  f:placeOfOrigin ?location . }}\n",
    "     WHERE {{\n",
    "        {{ SELECT ?characterNode ?character WHERE {{\n",
    "            ?character llm:response \"Who are the 9 original characters in the Fellowship of the Ring in the Lord of the Rings\" .\n",
    "            BIND ( llm:node(?character) as ?characterNode ) . }}\n",
    "        }}\n",
    "\n",
    "        BIND(llm:response(CONCAT(\"What is the race of \", ?character, \" in the Lord of the Rings. Return the race name only. No explanation needed\")) as ?race) .\n",
    "        BIND(llm:response(CONCAT(\"How old is \", ?character, \" in the Lord of the Rings. Please return their age only as interger only. No explanation needed\")) as ?age) .\n",
    "        BIND(llm:response(CONCAT(\"Where is \", ?character, \" from in Middle Earth in the Lord of the Rings. Please return only a place name. No explanation needed\")) as ?location) .\n",
    "    }}\"\"\"\n",
    "conn.executeUpdate(query_string)\n",
    "conn.size()"
   ]
  },
  {
   "cell_type": "markdown",
   "id": "886ca133-66a6-46e6-a293-1e28e94c4d04",
   "metadata": {},
   "source": [
    "We will now query to find which characters are a \"Hobbit\""
   ]
  },
  {
   "cell_type": "code",
   "execution_count": 76,
   "id": "b125603e-3a66-4a52-9305-ca9c1c1805bb",
   "metadata": {},
   "outputs": [
    {
     "data": {
      "text/html": [
       "<div>\n",
       "<style scoped>\n",
       "    .dataframe tbody tr th:only-of-type {\n",
       "        vertical-align: middle;\n",
       "    }\n",
       "\n",
       "    .dataframe tbody tr th {\n",
       "        vertical-align: top;\n",
       "    }\n",
       "\n",
       "    .dataframe thead th {\n",
       "        text-align: right;\n",
       "    }\n",
       "</style>\n",
       "<table border=\"1\" class=\"dataframe\">\n",
       "  <thead>\n",
       "    <tr style=\"text-align: right;\">\n",
       "      <th></th>\n",
       "      <th>name</th>\n",
       "    </tr>\n",
       "  </thead>\n",
       "  <tbody>\n",
       "    <tr>\n",
       "      <th>0</th>\n",
       "      <td>Pippin Took</td>\n",
       "    </tr>\n",
       "    <tr>\n",
       "      <th>1</th>\n",
       "      <td>Merry Brandybuck</td>\n",
       "    </tr>\n",
       "    <tr>\n",
       "      <th>2</th>\n",
       "      <td>Samwise Gamgee</td>\n",
       "    </tr>\n",
       "    <tr>\n",
       "      <th>3</th>\n",
       "      <td>Frodo Baggins</td>\n",
       "    </tr>\n",
       "  </tbody>\n",
       "</table>\n",
       "</div>"
      ],
      "text/plain": [
       "               name\n",
       "0       Pippin Took\n",
       "1  Merry Brandybuck\n",
       "2    Samwise Gamgee\n",
       "3     Frodo Baggins"
      ]
     },
     "execution_count": 76,
     "metadata": {},
     "output_type": "execute_result"
    }
   ],
   "source": [
    "query_string = \"\"\"\n",
    "    PREFIX f: <http://franz.com/>\n",
    "    SELECT DISTINCT ?name WHERE {\n",
    "        ?character f:race \"Hobbit\" ;\n",
    "                   rdfs:label ?name . }\"\"\"\n",
    "df = conn.executeTupleQuery(query_string).toPandas()\n",
    "df"
   ]
  },
  {
   "cell_type": "markdown",
   "id": "66683085-2dde-4b15-95ab-ddce70108384",
   "metadata": {},
   "source": [
    "If you want more examples of creating a graph using LLMs, please visit [our documentation](https://franz.com/agraph/support/documentation/llm-examples.html#Query-4---Borders)"
   ]
  }
 ],
 "metadata": {
  "kernelspec": {
   "display_name": "Python 3 (ipykernel)",
   "language": "python",
   "name": "python3"
  },
  "language_info": {
   "codemirror_mode": {
    "name": "ipython",
    "version": 3
   },
   "file_extension": ".py",
   "mimetype": "text/x-python",
   "name": "python",
   "nbconvert_exporter": "python",
   "pygments_lexer": "ipython3",
   "version": "3.11.11"
  }
 },
 "nbformat": 4,
 "nbformat_minor": 5
}
