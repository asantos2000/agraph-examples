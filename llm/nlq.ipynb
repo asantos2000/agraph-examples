{
 "cells": [
  {
   "cell_type": "markdown",
   "id": "ffa534d7-dbf9-4a4e-99a7-612e9657ca72",
   "metadata": {},
   "source": [
    "# Natural Language to SPARQL Query Conversion in AllegroGraph\n",
    "\n",
    "Learn how to transform natural language questions into precise SPARQL queries using AllegroGraph's intelligent query conversion system. This system combines SHACL shapes with a vector store of successful query pairs to continuously improve its translation accuracy.\n",
    "\n",
    "## Core Capabilities\n",
    "\n",
    "This notebook demonstrates how to:\n",
    "\n",
    "* Execute natural language queries and examine their SPARQL translations and results\n",
    "* Enhance future query accuracy by storing successful natural language-to-SPARQL mappings\n",
    "* Access and manage your database of historical query conversions\n",
    "* Curate your query history by removing specific entries\n",
    "\n",
    "## Technical Foundation\n",
    "\n",
    "The system leverages:\n",
    "\n",
    "* SHACL shapes automatically derived from your repository structure\n",
    "* Vector embeddings of previously successful query pairs to train the system\n",
    "\n",
    "\n",
    "## System Requirements\n",
    "\n",
    "* AllegroGraph version **8.3.0** or higher\n",
    "* `agraph-python` client version **104.2.0** or higher\n",
    "* OpenAI API key for embedding and query generation\n",
    "\n",
    "## Important Version Note\n",
    "\n",
    "For AllegroGraph versions prior to **8.4.0**, the natural language query vector database must be initialized through either:\n",
    "\n",
    "* AGWebView interface ([documentation](https://gruff.allegrograph.com/classic-webview/doc/natural-language-sparql-queries.html))\n",
    "* Manual setup process (demonstrated in this notebook)\n",
    "\n",
    "Please set your connection parameters in the following cell."
   ]
  },
  {
   "cell_type": "code",
   "execution_count": 16,
   "id": "91593230-aa8e-4038-b86f-7e64e7b999fc",
   "metadata": {},
   "outputs": [],
   "source": [
    "from franz.openrdf.connect import ag_connect\n",
    "import requests\n",
    "\n",
    "from llm_utils import create_nlq_vdb\n",
    "\n",
    "REPO='kennedy'\n",
    "NLQ_VDB='kennedy_vdb'\n",
    "\n",
    "AGRAPH_USER=''\n",
    "AGRAPH_PASSWORD=''\n",
    "AGRAPH_HOST='demo2.franz.com'\n",
    "AGRAPH_PORT='10079'\n",
    "\n",
    "OPENAI_API_KEY=''\n",
    "EMBEDDING_MODEL=\"text-embedding-ada-002\"\n",
    "EMBEDDER=\"openai\"\n",
    "\n",
    "#connect to main repo here-----------\n",
    "conn = ag_connect(\n",
    "    REPO,\n",
    "    clear=True,\n",
    "    user=AGRAPH_USER,\n",
    "    password=AGRAPH_PASSWORD,\n",
    "    host=AGRAPH_HOST,\n",
    "    port=AGRAPH_PORT\n",
    ")\n",
    "conn.addFile('../tutorial-files/kennedy.ntriples')\n",
    "\n",
    "#connecting to nlq vdb\n",
    "nlq_conn = create_nlq_vdb(\n",
    "    REPO,\n",
    "    conn,\n",
    "    NLQ_VDB,\n",
    "    host=AGRAPH_HOST,\n",
    "    port=AGRAPH_PORT,\n",
    "    user=AGRAPH_USER,\n",
    "    password=AGRAPH_PASSWORD,\n",
    "    openai_api_key=OPENAI_API_KEY,\n",
    "    embedder=EMBEDDER,\n",
    "    embedding_model=EMBEDDING_MODEL\n",
    ")"
   ]
  },
  {
   "cell_type": "markdown",
   "id": "b39560ca-367a-497d-b6ae-4247294ec599",
   "metadata": {},
   "source": [
    "## Executing Natural Language Queries\n",
    "\n",
    "AllegroGraph's natural language query system translates human language into SPARQL queries through an iterative process that leverages previous successful queries and repository structure.\n",
    "\n",
    "### Query Execution Syntax\n",
    "\n",
    "```python\n",
    "response = conn.execute_nl_query(\n",
    "    prompt, # the natural language question\n",
    "    vdb_spec, # the desired vector database. It is possible to have multiple vdb's per regular connection  \n",
    "    with_fti=True, # allow the system to use existing Free Text Indices to perform searches over text\n",
    "    asterisk_in_select_clause=False # allows the system to use * in the Select clause of a SPARQL query\n",
    ")\n",
    "```\n",
    "\n",
    "###  Response Components\n",
    "\n",
    "The system returns a comprehensive response object containing:\n",
    "\n",
    "* Generated Query (`response['query']`)\n",
    "   * The translated SPARQL query\n",
    "* Query Results (`response['result']`)\n",
    "   * The data returned from executing the SPARQL query\n",
    "* Reference Examples (`response['referenced-examples']`)\n",
    "   * Similar successful query pairs from the vector database\n",
    "   * Used as templates to guide translation\n",
    "* Failed Attempts (`response['failed-attempts']`)\n",
    "   * Track record of unsuccessful translation attempts\n",
    "   * System makes up to 3 attempts before giving up\n",
    "*  SHACL Shapes (`response['shapes']`)\n",
    "   * Repository structure definitions used to guide query generation\n",
    "   * Ensures generated queries align with data model"
   ]
  },
  {
   "cell_type": "code",
   "execution_count": 17,
   "id": "6bbba918-40f7-4e8b-98f2-c502cc0539b1",
   "metadata": {},
   "outputs": [],
   "source": [
    "prompt = \"show me 10 triples\"\n",
    "\n",
    "result = conn.execute_nl_query(\n",
    "    prompt,\n",
    "    NLQ_VDB\n",
    ")"
   ]
  },
  {
   "cell_type": "code",
   "execution_count": 18,
   "id": "47baa58b-9313-42e3-a2db-867e4d6d4ab6",
   "metadata": {},
   "outputs": [
    {
     "data": {
      "text/plain": [
       "dict_keys(['query', 'result', 'failed-attempts', 'referenced-examples'])"
      ]
     },
     "execution_count": 18,
     "metadata": {},
     "output_type": "execute_result"
    }
   ],
   "source": [
    "result.keys()"
   ]
  },
  {
   "cell_type": "markdown",
   "id": "113d89b7-4d2f-4a71-9924-79c325fbc5a9",
   "metadata": {},
   "source": [
    "## The SPARQL Query"
   ]
  },
  {
   "cell_type": "code",
   "execution_count": 19,
   "id": "a7556c2b-aae1-4830-8721-2aca104b8578",
   "metadata": {},
   "outputs": [
    {
     "name": "stdout",
     "output_type": "stream",
     "text": [
      "\n",
      "PREFIX ns2: <http://www.franz.com/simple#>\n",
      "PREFIX rdf: <http://www.w3.org/1999/02/22-rdf-syntax-ns#>\n",
      "\n",
      "SELECT ?s ?p ?o\n",
      "WHERE {\n",
      "  ?s ?p ?o\n",
      "}\n",
      "LIMIT 10\n",
      "\n"
     ]
    }
   ],
   "source": [
    "sparql_query = result['query']\n",
    "print(sparql_query)"
   ]
  },
  {
   "cell_type": "markdown",
   "id": "5f64a9b7-aeaf-4222-a9ab-6daf1e87e058",
   "metadata": {},
   "source": [
    "## The Results\n",
    "\n",
    "The `result` includes the column `names` as well as a set of `sample-values`, which is a list of lists"
   ]
  },
  {
   "cell_type": "code",
   "execution_count": 20,
   "id": "716b2bf7-9536-42e0-baab-5c9b621991e7",
   "metadata": {},
   "outputs": [
    {
     "data": {
      "text/plain": [
       "{'names': ['s', 'p', 'o'],\n",
       " 'sample-values': [['<http://www.franz.com/simple#person1>',\n",
       "   '<http://www.w3.org/1999/02/22-rdf-syntax-ns#type>',\n",
       "   '<http://www.franz.com/simple#person>'],\n",
       "  ['<http://www.franz.com/simple#person1>',\n",
       "   '<http://www.franz.com/simple#first-name>',\n",
       "   '\"Joseph\"'],\n",
       "  ['<http://www.franz.com/simple#person1>',\n",
       "   '<http://www.franz.com/simple#middle-initial>',\n",
       "   '\"Patrick\"'],\n",
       "  ['<http://www.franz.com/simple#person1>',\n",
       "   '<http://www.franz.com/simple#last-name>',\n",
       "   '\"Kennedy\"'],\n",
       "  ['<http://www.franz.com/simple#person1>',\n",
       "   '<http://www.franz.com/simple#suffix>',\n",
       "   '\"none\"']],\n",
       " 'values': [['<http://www.franz.com/simple#person1>',\n",
       "   '<http://www.w3.org/1999/02/22-rdf-syntax-ns#type>',\n",
       "   '<http://www.franz.com/simple#person>'],\n",
       "  ['<http://www.franz.com/simple#person1>',\n",
       "   '<http://www.franz.com/simple#first-name>',\n",
       "   '\"Joseph\"'],\n",
       "  ['<http://www.franz.com/simple#person1>',\n",
       "   '<http://www.franz.com/simple#middle-initial>',\n",
       "   '\"Patrick\"'],\n",
       "  ['<http://www.franz.com/simple#person1>',\n",
       "   '<http://www.franz.com/simple#last-name>',\n",
       "   '\"Kennedy\"'],\n",
       "  ['<http://www.franz.com/simple#person1>',\n",
       "   '<http://www.franz.com/simple#suffix>',\n",
       "   '\"none\"'],\n",
       "  ['<http://www.franz.com/simple#person1>',\n",
       "   '<http://www.franz.com/simple#alma-mater>',\n",
       "   '<http://www.franz.com/simple#Harvard>'],\n",
       "  ['<http://www.franz.com/simple#person1>',\n",
       "   '<http://www.franz.com/simple#birth-year>',\n",
       "   '\"1888\"'],\n",
       "  ['<http://www.franz.com/simple#person1>',\n",
       "   '<http://www.franz.com/simple#death-year>',\n",
       "   '\"1969\"'],\n",
       "  ['<http://www.franz.com/simple#person1>',\n",
       "   '<http://www.franz.com/simple#sex>',\n",
       "   '<http://www.franz.com/simple#male>'],\n",
       "  ['<http://www.franz.com/simple#person1>',\n",
       "   '<http://www.franz.com/simple#spouse>',\n",
       "   '<http://www.franz.com/simple#person2>']]}"
      ]
     },
     "execution_count": 20,
     "metadata": {},
     "output_type": "execute_result"
    }
   ],
   "source": [
    "result['result']"
   ]
  },
  {
   "cell_type": "markdown",
   "id": "53e312cf-d322-4637-ae15-97f1f46d9772",
   "metadata": {},
   "source": [
    "## Storing Natural Language and SPARQL Query Pairs\n",
    "\n",
    "### Overview\n",
    "\n",
    "To improve future query translations, you can store successful natural language to SPARQL query mappings in your vector database. This creates a growing knowledge base that enhances translation accuracy over time.\n",
    "\n",
    "### Storage Method\n",
    "\n",
    "```python\n",
    "nlq_conn.store_nl_query_pair(\n",
    "    prompt, # the original natural language question\n",
    "    sparql_query # the SPARQL query\n",
    ")\n",
    "```\n",
    "\n",
    "### Best Practices for Query Storage\n",
    "\n",
    "* **Quality Control**\n",
    "   * Verify query results before storage\n",
    "   * Only store pairs that produce correct and intended results\n",
    "   * Review the SPARQL query structure for optimal patterns\n",
    "* **Connection Management**\n",
    "   * Use the NLQ repository connection (`nlq_conn`), not your data repository connection\n",
    "   * Ensure you're connected to the correct vector database instance\n",
    "* **Quality Assurance**\n",
    "   * Incorrect query pairs can be removed from the system\n",
    "   * Regular review of stored pairs helps maintain system accuracy\n",
    "   * See below for instructions on removing problematic pairs\n",
    "\n",
    "### Warning\n",
    "⚠️ Storing incorrect query pairs will degrade system performance. Always validate query results before storage."
   ]
  },
  {
   "cell_type": "code",
   "execution_count": 21,
   "id": "22325c5b-7825-4799-8105-040fd4dae325",
   "metadata": {},
   "outputs": [],
   "source": [
    "nlq_conn.store_nl_query_pair(prompt, sparql_query)"
   ]
  },
  {
   "cell_type": "markdown",
   "id": "f9fbbfd9-dbd7-48ed-a163-a02f889b5550",
   "metadata": {},
   "source": [
    "## Managing Natural Language Query Pairs\n",
    "\n",
    "### Retrieving Stored Query Pairs\n",
    "\n",
    "You can access and search your database of successful query translations using the get_nl_query_pairs method. This tool supports both direct retrieval and similarity-based searching. A main use case for this method is acquiring the `id`s of stored queries to be deleted.\n",
    "\n",
    "### Method Syntax\n",
    "\n",
    "```python\n",
    "results = nlq_conn.get_nl_query_pairs(\n",
    "    offset=0,                    # Pagination start point\n",
    "    limit=100,                   # Maximum pairs to return\n",
    "    neighbor_search=\"\",          # Optional similarity search text\n",
    "    neighbor_search_limit=10,    # Maximum similar pairs to return (only used if neighbore search used)\n",
    "    neighbor_search_min_score=.5 # Minimum similarity threshold (0-1) (only used if neighbor search is used)\n",
    ")\n",
    "```\n",
    "### Search Modes\n",
    "\n",
    "* **Direct Retrieval**\n",
    "   * Lists all stored query pairs from the vector database\n",
    "   * Useful for system audit and maintenance\n",
    "   * Supports pagination for large collections\n",
    "* **Similarity Search**\n",
    "   * Finds semantically similar queries\n",
    "   * Uses the same vector search mechanism as `execute_nl_query`\n",
    "   * Helps understand system decision-making\n",
    "\n",
    "### Return Values\n",
    "\n",
    "Each result contains:\n",
    "\n",
    "* `id`: Unique identifier for the pair (used for deletion)\n",
    "* `nl-query`: Original natural language question\n",
    "* `sparql-query`: Corresponding SPARQL translation\n"
   ]
  },
  {
   "cell_type": "code",
   "execution_count": 22,
   "id": "74a096fb-406d-4756-a031-e6b753a22472",
   "metadata": {},
   "outputs": [
    {
     "data": {
      "text/plain": [
       "[{'id': '_:bED2FE913x2',\n",
       "  'nl-query': 'show me 10 triples',\n",
       "  'sparql-query': '\\nPREFIX ns2: <http://www.franz.com/simple#>\\nPREFIX rdf: <http://www.w3.org/1999/02/22-rdf-syntax-ns#>\\n\\nSELECT ?s ?p ?o\\nWHERE {\\n  ?s ?p ?o\\n}\\nLIMIT 10\\n'},\n",
       " {'id': '_:bED2FE913x6',\n",
       "  'nl-query': 'Give me all persons, their first name, middle initial, last name, as well as their birth date.',\n",
       "  'sparql-query': '\\nPREFIX ns2: <http://www.franz.com/simple#>\\nPREFIX rdf: <http://www.w3.org/1999/02/22-rdf-syntax-ns#>\\n\\nSELECT ?person ?firstName ?middleInitial ?lastName ?birthYear\\nWHERE {\\n  ?person rdf:type ns2:person ;\\n          ns2:first-name ?firstName ;\\n          ns2:middle-initial ?middleInitial ;\\n          ns2:last-name ?lastName ;\\n          ns2:birth-year ?birthYear .\\n}\\n'}]"
      ]
     },
     "execution_count": 22,
     "metadata": {},
     "output_type": "execute_result"
    }
   ],
   "source": [
    "result = nlq_conn.get_nl_query_pairs()\n",
    "result"
   ]
  },
  {
   "cell_type": "markdown",
   "id": "9e9d21ae-3b78-4acb-a6b7-071150821f1d",
   "metadata": {},
   "source": [
    "## Query Performance Optimization Through Caching\n",
    "\n",
    "### Intelligent Query Reuse\n",
    "\n",
    "When you execute a previously stored natural language query, AllegroGraph's system automatically:\n",
    "\n",
    "* Checks the vector store for exact matches\n",
    "* Returns SPARQL translations immediately\n",
    "* Bypasses the LLM translation process entirely\n",
    "\n",
    "### Benefits\n",
    "\n",
    "* Near-instantaneous response times for repeat queries\n",
    "* Consistent SPARQL translations\n",
    "* Reduced API costs by avoiding unnecessary LLM calls\n",
    "* Guaranteed reproducibility of successful queries"
   ]
  },
  {
   "cell_type": "code",
   "execution_count": 23,
   "id": "cad0f78d-d327-49bd-bdd8-904294be7040",
   "metadata": {},
   "outputs": [
    {
     "name": "stdout",
     "output_type": "stream",
     "text": [
      "\n",
      "PREFIX ns2: <http://www.franz.com/simple#>\n",
      "PREFIX rdf: <http://www.w3.org/1999/02/22-rdf-syntax-ns#>\n",
      "\n",
      "SELECT ?s ?p ?o\n",
      "WHERE {\n",
      "  ?s ?p ?o\n",
      "}\n",
      "LIMIT 10\n",
      "\n",
      "CPU times: user 4.04 ms, sys: 0 ns, total: 4.04 ms\n",
      "Wall time: 29.1 ms\n"
     ]
    }
   ],
   "source": [
    "%%time\n",
    "prompt = \"show me 10 triples\"\n",
    "\n",
    "result = conn.execute_nl_query(\n",
    "    prompt,\n",
    "    NLQ_VDB\n",
    ")\n",
    "print(result['query'])"
   ]
  },
  {
   "cell_type": "markdown",
   "id": "bd40e493-e465-4f74-8da8-ab0d7445c743",
   "metadata": {},
   "source": [
    "# More examples\n",
    "\n",
    "We will now run a more difficult query.\n",
    "**Note** that it is possible that it will not work on the first try!"
   ]
  },
  {
   "cell_type": "code",
   "execution_count": 24,
   "id": "7c6a1c55-2f80-4b8d-a23e-1af45bef02d5",
   "metadata": {},
   "outputs": [],
   "source": [
    "prompt = \"Give me all persons, their first name, middle initial, last name, as well as their birth date.\"\n",
    "result = conn.execute_nl_query(prompt, NLQ_VDB)"
   ]
  },
  {
   "cell_type": "code",
   "execution_count": 25,
   "id": "065f1c76-efb0-4858-8812-a0ec66c57e7b",
   "metadata": {},
   "outputs": [
    {
     "name": "stdout",
     "output_type": "stream",
     "text": [
      "\n",
      "PREFIX ns2: <http://www.franz.com/simple#>\n",
      "PREFIX rdf: <http://www.w3.org/1999/02/22-rdf-syntax-ns#>\n",
      "\n",
      "SELECT ?person ?firstName ?middleInitial ?lastName ?birthYear\n",
      "WHERE {\n",
      "  ?person rdf:type ns2:person ;\n",
      "          ns2:first-name ?firstName ;\n",
      "          ns2:middle-initial ?middleInitial ;\n",
      "          ns2:last-name ?lastName ;\n",
      "          ns2:birth-year ?birthYear .\n",
      "}\n",
      "\n"
     ]
    }
   ],
   "source": [
    "sparql_query = result['query']\n",
    "print(sparql_query)"
   ]
  },
  {
   "cell_type": "code",
   "execution_count": 26,
   "id": "118a2a6c-64f3-4d71-aa19-97af4b00f220",
   "metadata": {},
   "outputs": [
    {
     "name": "stdout",
     "output_type": "stream",
     "text": [
      "{'names': ['person', 'firstName', 'middleInitial', 'lastName', 'birthYear'], 'sample-values': [['<http://www.franz.com/simple#person76>', '\"Patrick\"', '\"Joseph\"', '\"Kennedy\"', '\"1967\"'], ['<http://www.franz.com/simple#person75>', '\"Katherine\"', '\"Anne\"', '\"Gershman\"', '\"1959\"'], ['<http://www.franz.com/simple#person74>', '\"Edward\"', '\"M\"', '\"Kennedy\"', '\"1961\"'], ['<http://www.franz.com/simple#person73>', '\"Michael\"', '\"nil\"', '\"Allen\"', '\"1958\"'], ['<http://www.franz.com/simple#person72>', '\"Kara\"', '\"Anne\"', '\"Kennedy\"', '\"1960\"']], 'values': [['<http://www.franz.com/simple#person76>', '\"Patrick\"', '\"Joseph\"', '\"Kennedy\"', '\"1967\"'], ['<http://www.franz.com/simple#person75>', '\"Katherine\"', '\"Anne\"', '\"Gershman\"', '\"1959\"'], ['<http://www.franz.com/simple#person74>', '\"Edward\"', '\"M\"', '\"Kennedy\"', '\"1961\"'], ['<http://www.franz.com/simple#person73>', '\"Michael\"', '\"nil\"', '\"Allen\"', '\"1958\"'], ['<http://www.franz.com/simple#person72>', '\"Kara\"', '\"Anne\"', '\"Kennedy\"', '\"1960\"'], ['<http://www.franz.com/simple#person71>', '\"Alfred\"', '\"nil\"', '\"Tucker\"', '\"1967\"'], ['<http://www.franz.com/simple#person70>', '\"Kym\"', '\"Maria\"', '\"Smith\"', '\"1972\"'], ['<http://www.franz.com/simple#person69>', '\"Cart\"', '\"Harmon\"', '\"Hood\"', '\"1966\"'], ['<http://www.franz.com/simple#person68>', '\"Amanda\"', '\"Mary\"', '\"Smith\"', '\"1967\"'], ['<http://www.franz.com/simple#person67>', '\"William\"', '\"Kennedy\"', '\"Smith\"', '\"1960\"'], ['<http://www.franz.com/simple#person66>', '\"Stephen\"', '\"E\"', '\"Smith\"', '\"1957\"'], ['<http://www.franz.com/simple#person65>', '\"Mark\"', '\"nil\"', '\"Bailey\"', '\"1967\"'], ['<http://www.franz.com/simple#person64>', '\"Rory\"', '\"Elizabeth\"', '\"Kennedy\"', '\"1968\"'], ['<http://www.franz.com/simple#person63>', '\"Molly\"', '\"Elizabeth\"', '\"Stark\"', '\"1968\"'], ['<http://www.franz.com/simple#person62>', '\"Douglas\"', '\"Harriman\"', '\"Kennedy\"', '\"1967\"'], ['<http://www.franz.com/simple#person61>', '\"Victoria\"', '\"Anne\"', '\"Stauss\"', '\"1964\"'], ['<http://www.franz.com/simple#person60>', '\"Matthew\"', '\"Maxwell\"', '\"Kennedy\"', '\"1965\"'], ['<http://www.franz.com/simple#person59>', '\"Sheila\"', '\"Sinclair\"', '\"Berner\"', '\"1962\"'], ['<http://www.franz.com/simple#person58>', '\"Christopher\"', '\"George\"', '\"Kennedy\"', '\"1963\"'], ['<http://www.franz.com/simple#person57>', '\"Andrew\"', '\"Mark\"', '\"Cuomo\"', '\"1957\"'], ['<http://www.franz.com/simple#person56>', '\"Mary\"', '\"Kerry\"', '\"Kennedy\"', '\"1959\"'], ['<http://www.franz.com/simple#person55>', '\"Victoria\"', '\"Denise\"', '\"Gifford\"', '\"1957\"'], ['<http://www.franz.com/simple#person54>', '\"Michael\"', '\"LeMoyne\"', '\"Kennedy\"', '\"1958\"'], ['<http://www.franz.com/simple#person53>', '\"Paul\"', '\"Michael\"', '\"Hill\"', '\"1954\"'], ['<http://www.franz.com/simple#person52>', '\"Jeffrey\"', '\"Robert\"', '\"Ruhe\"', '\"1952\"'], ['<http://www.franz.com/simple#person51>', '\"Mary\"', '\"Courtney\"', '\"Kennedy\"', '\"1956\"'], ['<http://www.franz.com/simple#person50>', '\"David\"', '\"Anthony\"', '\"Kennedy\"', '\"1955\"'], ['<http://www.franz.com/simple#person49>', '\"Mary\"', '\"nil\"', '\"Richardson\"', '\"1960\"'], ['<http://www.franz.com/simple#person48>', '\"Emily\"', '\"Ruth\"', '\"Black\"', '\"1957\"'], ['<http://www.franz.com/simple#person47>', '\"Robert\"', '\"F\"', '\"Kennedy\"', '\"1954\"'], ['<http://www.franz.com/simple#person46>', '\"Anne\"', '\"Elizabeth\"', '\"Kelly\"', '\"1957\"'], ['<http://www.franz.com/simple#person45>', '\"Sheila\"', '\"Brewster\"', '\"Rauch\"', '\"1949\"'], ['<http://www.franz.com/simple#person44>', '\"Joseph\"', '\"P\"', '\"Kennedy\"', '\"1952\"'], ['<http://www.franz.com/simple#person43>', '\"David\"', '\"Lee\"', '\"Townsend\"', '\"1947\"'], ['<http://www.franz.com/simple#person42>', '\"Kathleen\"', '\"Hartington\"', '\"Kennedy\"', '\"1951\"'], ['<http://www.franz.com/simple#person41>', '\"Robin\"', '\"Elizabeth\"', '\"Lawford\"', '\"1961\"'], ['<http://www.franz.com/simple#person40>', '\"Robert\"', '\"B\"', '\"Pender\"', '\"1953\"'], ['<http://www.franz.com/simple#person39>', '\"Victoria\"', '\"nil\"', '\"Lawford\"', '\"1958\"'], ['<http://www.franz.com/simple#person38>', '\"James\"', '\"Peter\"', '\"McKelvy\"', '\"1955\"'], ['<http://www.franz.com/simple#person37>', '\"Sydney\"', '\"Maleia\"', '\"Lawford\"', '\"1956\"'], ['<http://www.franz.com/simple#person36>', '\"Jean\"', '\"nil\"', '\"Olsson\"', '\"1955\"'], ['<http://www.franz.com/simple#person35>', '\"Christopher\"', '\"Kennedy\"', '\"Lawford\"', '\"1955\"'], ['<http://www.franz.com/simple#person34>', '\"Alina\"', '\"nil\"', '\"Mojica\"', '\"1965\"'], ['<http://www.franz.com/simple#person33>', '\"Anthony\"', '\"Kennedy\"', '\"Shriver\"', '\"1965\"'], ['<http://www.franz.com/simple#person32>', '\"Jeannie\"', '\"nil\"', '\"Ripp\"', '\"1965\"'], ['<http://www.franz.com/simple#person31>', '\"Mark\"', '\"Kennedy\"', '\"Shriver\"', '\"1964\"'], ['<http://www.franz.com/simple#person30>', '\"Linda\"', '\"Sophia\"', '\"Potter\"', '\"1956\"'], ['<http://www.franz.com/simple#person28>', '\"Timothy\"', '\"Perry\"', '\"Shriver\"', '\"1959\"'], ['<http://www.franz.com/simple#person27>', '\"Arnold\"', '\"Alois\"', '\"Schwarzenegger\"', '\"1947\"'], ['<http://www.franz.com/simple#person26>', '\"Maria\"', '\"Owings\"', '\"Shriver\"', '\"1955\"'], ['<http://www.franz.com/simple#person25>', '\"Robert\"', '\"S\"', '\"Shriver\"', '\"1954\"'], ['<http://www.franz.com/simple#person24>', '\"Patrick\"', '\"Bouvier\"', '\"Kennedy\"', '\"1963\"'], ['<http://www.franz.com/simple#person23>', '\"Carolyn\"', '\"nil\"', '\"Bessette\"', '\"1966\"'], ['<http://www.franz.com/simple#person22>', '\"John\"', '\"F\"', '\"Kennedy\"', '\"1960\"'], ['<http://www.franz.com/simple#person21>', '\"Edwin\"', '\"Arthur\"', '\"Schlossberg\"', '\"1945\"'], ['<http://www.franz.com/simple#person20>', '\"Caroline\"', '\"Bouvier\"', '\"Kennedy\"', '\"1957\"'], ['<http://www.franz.com/simple#person19>', '\"Victoria\"', '\"Anne\"', '\"Reggie\"', '\"1954\"'], ['<http://www.franz.com/simple#person18>', '\"Virginia\"', '\"Joan\"', '\"Bennett\"', '\"1936\"'], ['<http://www.franz.com/simple#person17>', '\"Edward\"', '\"Moore\"', '\"Kennedy\"', '\"1932\"'], ['<http://www.franz.com/simple#person16>', '\"Stephen\"', '\"Edward\"', '\"Smith\"', '\"1927\"'], ['<http://www.franz.com/simple#person15>', '\"Jean\"', '\"Ann\"', '\"Kennedy\"', '\"1928\"'], ['<http://www.franz.com/simple#person14>', '\"Ethel\"', '\"nil\"', '\"Skakel\"', '\"1928\"'], ['<http://www.franz.com/simple#person13>', '\"Robert\"', '\"Francis\"', '\"Kennedy\"', '\"1925\"'], ['<http://www.franz.com/simple#person12>', '\"Peter\"', '\"nil\"', '\"Lawford\"', '\"1923\"'], ['<http://www.franz.com/simple#person11>', '\"Patricia\"', '\"nil\"', '\"Kennedy\"', '\"1924\"'], ['<http://www.franz.com/simple#person10>', '\"Robert\"', '\"Sargent\"', '\"Shriver\"', '\"1915\"'], ['<http://www.franz.com/simple#person9>', '\"Eunice\"', '\"Mary\"', '\"Kennedy\"', '\"1921\"'], ['<http://www.franz.com/simple#person8>', '\"William\"', '\"JR\"', '\"Cavendish\"', '\"1917\"'], ['<http://www.franz.com/simple#person7>', '\"Kathleen\"', '\"Agnes\"', '\"Kennedy\"', '\"1920\"'], ['<http://www.franz.com/simple#person6>', '\"Rose\"', '\"Marie\"', '\"Kennedy\"', '\"1918\"'], ['<http://www.franz.com/simple#person5>', '\"Jacqueline\"', '\"Lee\"', '\"Bouvier\"', '\"1929\"'], ['<http://www.franz.com/simple#person4>', '\"John\"', '\"Fitzgerald\"', '\"Kennedy\"', '\"1917\"'], ['<http://www.franz.com/simple#person3>', '\"Joseph\"', '\"P\"', '\"Kennedy\"', '\"1915\"'], ['<http://www.franz.com/simple#person2>', '\"Rose\"', '\"Elizabeth\"', '\"Fitzgerald\"', '\"1890\"'], ['<http://www.franz.com/simple#person1>', '\"Joseph\"', '\"Patrick\"', '\"Kennedy\"', '\"1888\"']]}\n"
     ]
    }
   ],
   "source": [
    "print(result['result'])"
   ]
  },
  {
   "cell_type": "markdown",
   "id": "d86f1a2b-8b23-41ce-bc94-622cb5f48606",
   "metadata": {},
   "source": [
    "Again, assuming we are happy with this response, we can store the result! If you are not happy with the result you can run the next cell instead to \"manually\" add the correct version."
   ]
  },
  {
   "cell_type": "code",
   "execution_count": 27,
   "id": "633711a7-6ac8-4450-9f1f-9f73db9f24d5",
   "metadata": {},
   "outputs": [],
   "source": [
    "#OPTIONAL CELL - RUN IF THE ABOVE RESULT IS INCORRECT\n",
    "sparql_query = \"\"\"\n",
    "    PREFIX ns2: <http://www.franz.com/simple#>\n",
    "    PREFIX rdf: <http://www.w3.org/1999/02/22-rdf-syntax-ns#>\n",
    "    \n",
    "    SELECT ?person ?firstName ?middleInitial ?lastName ?birthYear\n",
    "    WHERE {\n",
    "      ?person rdf:type ns2:person ;\n",
    "              ns2:first-name ?firstName ;\n",
    "              ns2:middle-initial ?middleInitial ;\n",
    "              ns2:last-name ?lastName ;\n",
    "              ns2:birth-year ?birthYear .\n",
    "    }\n",
    "\"\"\""
   ]
  },
  {
   "cell_type": "code",
   "execution_count": 28,
   "id": "e08c07d6-12d2-4ffa-8887-a8520a0e7626",
   "metadata": {},
   "outputs": [],
   "source": [
    "nlq_conn.store_nl_query_pair(prompt, sparql_query)"
   ]
  },
  {
   "cell_type": "markdown",
   "id": "e64402a2-9348-4a4c-aea8-f4104f2fc29b",
   "metadata": {},
   "source": [
    "Now we will run a very similar query, and we will show in the output how the previous query was used as a template for the new one."
   ]
  },
  {
   "cell_type": "code",
   "execution_count": 29,
   "id": "d9bc93fb-cc43-4f78-895c-0751112e053f",
   "metadata": {},
   "outputs": [],
   "source": [
    "prompt = \"Give me all persons, their first name, middle initial, last name, as well as their birth date and their optional death date\"\n",
    "result = conn.execute_nl_query(prompt, NLQ_VDB)"
   ]
  },
  {
   "cell_type": "code",
   "execution_count": 30,
   "id": "51894505-ede6-4709-af40-97404387357a",
   "metadata": {},
   "outputs": [
    {
     "name": "stdout",
     "output_type": "stream",
     "text": [
      "\n",
      "PREFIX ns2: <http://www.franz.com/simple#>\n",
      "PREFIX rdf: <http://www.w3.org/1999/02/22-rdf-syntax-ns#>\n",
      "\n",
      "SELECT ?person ?firstName ?middleInitial ?lastName ?birthYear ?deathYear\n",
      "WHERE {\n",
      "  ?person rdf:type ns2:person ;\n",
      "          ns2:first-name ?firstName ;\n",
      "          ns2:middle-initial ?middleInitial ;\n",
      "          ns2:last-name ?lastName ;\n",
      "          ns2:birth-year ?birthYear .\n",
      "  OPTIONAL {\n",
      "    ?person ns2:death-year ?deathYear .\n",
      "  }\n",
      "}\n",
      "\n"
     ]
    }
   ],
   "source": [
    "sparql_query = result['query']\n",
    "print(sparql_query)"
   ]
  },
  {
   "cell_type": "markdown",
   "id": "338a8e57-764e-4e2d-b570-8355bd579a1e",
   "metadata": {},
   "source": [
    "This query is very similar to the previous query! We can see that the prior query was \"referenced\" by checking the following field"
   ]
  },
  {
   "cell_type": "code",
   "execution_count": 31,
   "id": "95a78909-74df-4d5f-b6af-bf15fd98a40f",
   "metadata": {},
   "outputs": [
    {
     "data": {
      "text/plain": [
       "[{'nl-query': 'Give me all persons, their first name, middle initial, last name, as well as their birth date.',\n",
       "  'sparql-query': '\\n    PREFIX ns2: <http://www.franz.com/simple#>\\n    PREFIX rdf: <http://www.w3.org/1999/02/22-rdf-syntax-ns#>\\n    \\n    SELECT ?person ?firstName ?middleInitial ?lastName ?birthYear\\n    WHERE {\\n      ?person rdf:type ns2:person ;\\n              ns2:first-name ?firstName ;\\n              ns2:middle-initial ?middleInitial ;\\n              ns2:last-name ?lastName ;\\n              ns2:birth-year ?birthYear .\\n    }\\n'},\n",
       " {'nl-query': 'Give me all persons, their first name, middle initial, last name, as well as their birth date.',\n",
       "  'sparql-query': '\\nPREFIX ns2: <http://www.franz.com/simple#>\\nPREFIX rdf: <http://www.w3.org/1999/02/22-rdf-syntax-ns#>\\n\\nSELECT ?person ?firstName ?middleInitial ?lastName ?birthYear\\nWHERE {\\n  ?person rdf:type ns2:person ;\\n          ns2:first-name ?firstName ;\\n          ns2:middle-initial ?middleInitial ;\\n          ns2:last-name ?lastName ;\\n          ns2:birth-year ?birthYear .\\n}\\n'},\n",
       " {'nl-query': 'show me 10 triples',\n",
       "  'sparql-query': '\\nPREFIX ns2: <http://www.franz.com/simple#>\\nPREFIX rdf: <http://www.w3.org/1999/02/22-rdf-syntax-ns#>\\n\\nSELECT ?s ?p ?o\\nWHERE {\\n  ?s ?p ?o\\n}\\nLIMIT 10\\n'}]"
      ]
     },
     "execution_count": 31,
     "metadata": {},
     "output_type": "execute_result"
    }
   ],
   "source": [
    "result['referenced-examples']"
   ]
  },
  {
   "cell_type": "markdown",
   "id": "7f27d9c3-3267-4c8a-aa03-9397e975335a",
   "metadata": {},
   "source": [
    "## Managing Vector Store Content: Removing Query Pairs\n",
    "\n",
    "### Overview\n",
    "AllegroGraph provides tools to curate your query pair database, allowing you to maintain quality and relevance by removing outdated or incorrect entries.\n",
    "\n",
    "### Deletion Process\n",
    "\n",
    "#### Step 1: Identify Pairs to Remove\n",
    "\n",
    "You can locate specific query pairs using either:\n",
    "\n",
    "* Direct ID lookup from all known pairs\n",
    "* Similarity search to find related queries"
   ]
  },
  {
   "cell_type": "code",
   "execution_count": 32,
   "id": "dde7a2b0-8b38-4746-8418-251ef07d19f7",
   "metadata": {},
   "outputs": [
    {
     "name": "stdout",
     "output_type": "stream",
     "text": [
      "{'id': '_:bED2FE913x8', 'nl-query': 'Give me all persons, their first name, middle initial, last name, as well as their birth date.', 'sparql-query': '\\n    PREFIX ns2: <http://www.franz.com/simple#>\\n    PREFIX rdf: <http://www.w3.org/1999/02/22-rdf-syntax-ns#>\\n    \\n    SELECT ?person ?firstName ?middleInitial ?lastName ?birthYear\\n    WHERE {\\n      ?person rdf:type ns2:person ;\\n              ns2:first-name ?firstName ;\\n              ns2:middle-initial ?middleInitial ;\\n              ns2:last-name ?lastName ;\\n              ns2:birth-year ?birthYear .\\n    }\\n'}\n",
      "\n",
      "{'id': '_:bED2FE913x6', 'nl-query': 'Give me all persons, their first name, middle initial, last name, as well as their birth date.', 'sparql-query': '\\nPREFIX ns2: <http://www.franz.com/simple#>\\nPREFIX rdf: <http://www.w3.org/1999/02/22-rdf-syntax-ns#>\\n\\nSELECT ?person ?firstName ?middleInitial ?lastName ?birthYear\\nWHERE {\\n  ?person rdf:type ns2:person ;\\n          ns2:first-name ?firstName ;\\n          ns2:middle-initial ?middleInitial ;\\n          ns2:last-name ?lastName ;\\n          ns2:birth-year ?birthYear .\\n}\\n'}\n",
      "\n",
      "{'id': '_:bED2FE913x2', 'nl-query': 'show me 10 triples', 'sparql-query': '\\nPREFIX ns2: <http://www.franz.com/simple#>\\nPREFIX rdf: <http://www.w3.org/1999/02/22-rdf-syntax-ns#>\\n\\nSELECT ?s ?p ?o\\nWHERE {\\n  ?s ?p ?o\\n}\\nLIMIT 10\\n'}\n",
      "\n"
     ]
    }
   ],
   "source": [
    "result = nlq_conn.get_nl_query_pairs(\n",
    "    neighbor_search=\"give me all persons and their names\",\n",
    "    neighbor_search_min_score=.75\n",
    ")\n",
    "\n",
    "for response in result:\n",
    "    print(response)\n",
    "    print()"
   ]
  },
  {
   "cell_type": "markdown",
   "id": "7132ddbf-c799-4e8b-9e2f-934f226f56b7",
   "metadata": {},
   "source": [
    "#### Step 2: Remove Selected Pairs\n",
    "\n",
    "Use the `delete_nl_query_pairs` method to remove entries:\n",
    "\n",
    "```python\n",
    "nlq_conn.delete_nl_query_pairs(\n",
    "    ['id1', 'id2'] # a list of id's to delete\n",
    ")\n",
    "```\n"
   ]
  },
  {
   "cell_type": "code",
   "execution_count": 33,
   "id": "a27ee0b5-813d-4db7-af37-efcc988dda4a",
   "metadata": {},
   "outputs": [],
   "source": [
    "ids = [result[0]['id']]\n",
    "nlq_conn.delete_nl_query_pairs(ids)"
   ]
  },
  {
   "cell_type": "markdown",
   "id": "e13254a0-3578-4148-9894-1fa3baea1b74",
   "metadata": {},
   "source": [
    "Note that now the nl query pair is no longer found"
   ]
  },
  {
   "cell_type": "code",
   "execution_count": 34,
   "id": "4aeaf407-d452-494a-a5f0-709dfa6537e5",
   "metadata": {},
   "outputs": [
    {
     "name": "stdout",
     "output_type": "stream",
     "text": [
      "{'id': '_:bED2FE913x2', 'nl-query': 'show me 10 triples', 'sparql-query': '\\nPREFIX ns2: <http://www.franz.com/simple#>\\nPREFIX rdf: <http://www.w3.org/1999/02/22-rdf-syntax-ns#>\\n\\nSELECT ?s ?p ?o\\nWHERE {\\n  ?s ?p ?o\\n}\\nLIMIT 10\\n'}\n",
      "\n"
     ]
    }
   ],
   "source": [
    "result = nlq_conn.get_nl_query_pairs(\n",
    "    neighbor_search=\"give me all persons and their names\",\n",
    "    neighbor_search_min_score=.75\n",
    ")\n",
    "\n",
    "for response in result:\n",
    "    print(response)\n",
    "    print()"
   ]
  },
  {
   "cell_type": "markdown",
   "id": "ee42fdfe-04da-4fc8-a55e-595b257acb27",
   "metadata": {},
   "source": [
    "### Best Practices for Deletion\n",
    "\n",
    "#### Verification\n",
    "\n",
    "* Always verify IDs before deletion\n",
    "* Consider keeping a backup of deleted pairs\n",
    "* Review the impact on similar queries\n",
    "\n",
    "#### Maintenance Strategy\n",
    "\n",
    "* Regularly review and clean up outdated pairs\n",
    "* Remove incorrect or poorly performing translations\n",
    "* Consider periodic quality audits\n",
    "\n",
    "#### System Impact\n",
    "\n",
    "* Deletions are permanent and cannot be undone\n",
    "* Removing pairs may affect translation quality for similar queries\n",
    "* Consider adding replacement pairs for critical query types\n",
    "\n",
    "## AllegroGraph Natural Language Query System: Summary and Best Practices\n",
    "\n",
    "### Core Methods Summary:\n",
    "\n",
    "* Execute Query (`execute_nl_query`)\n",
    "   * Translates natural language to SPARQL\n",
    "   * Returns query, results, and translation metadata\n",
    "* Store Query Pairs (`store_nl_query_pair`)\n",
    "   * Saves successful translations for future use\n",
    "   * Improves system performance over time\n",
    "* Retrieve Query Pairs (`get_nl_query_pairs`)\n",
    "   * Access stored query translations\n",
    "   * Search for similar queries\n",
    "* Delete Query Pairs (`delete_nl_query_pairs`)\n",
    "   * Remove incorrect or outdated translations\n",
    "   * Maintain system quality\n",
    "\n",
    "### Recommended Implementation Strategy\n",
    "\n",
    "#### Initial System Training\n",
    "\n",
    "* Develop Training Dataset\n",
    "   * Create comprehensive query set covering common use cases\n",
    "   * Include variations of similar questions\n",
    "   * Cover edge cases and complex queries\n",
    "   * Test and validate SPARQL translations\n",
    "* Batch Training\n",
    "   * Store validated query pairs\n",
    "   * Review system performance\n",
    "   * Iterate and refine training set\n",
    "\n",
    "#### Continuous Improvement\n",
    "\n",
    "* Monitor user queries and success rates\n",
    "* Regular review of stored pairs\n",
    "* Periodic system retraining\n",
    "* Expert validation of edge cases\n",
    "\n",
    "### Important Implementation Notes\n",
    "\n",
    "#### Result Validation and System Enhancement\n",
    "\n",
    "* User Responsibility\n",
    "   * **Result Verification**: Users must verify that SPARQL results match their query intent\n",
    "   * **Empty Results**: A correct SPARQL query may return no results if the requested data doesn't exist in the repository\n",
    "   * **False Positives**: Syntactically correct queries may not capture the user's intended semantic meaning\n",
    "\n",
    "#### Best Practices\n",
    "\n",
    "* Start with a strong foundation of validated queries\n",
    "* Implement user feedback mechanisms\n",
    "* Regular quality audits\n",
    "* Monitor system performance metrics\n",
    "* Maintain documentation of known good queries"
   ]
  }
 ],
 "metadata": {
  "kernelspec": {
   "display_name": "Python 3 (ipykernel)",
   "language": "python",
   "name": "python3"
  },
  "language_info": {
   "codemirror_mode": {
    "name": "ipython",
    "version": 3
   },
   "file_extension": ".py",
   "mimetype": "text/x-python",
   "name": "python",
   "nbconvert_exporter": "python",
   "pygments_lexer": "ipython3",
   "version": "3.11.11"
  }
 },
 "nbformat": 4,
 "nbformat_minor": 5
}
