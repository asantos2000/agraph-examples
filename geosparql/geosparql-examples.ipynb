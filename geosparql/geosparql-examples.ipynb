{
 "cells": [
  {
   "cell_type": "markdown",
   "id": "4f64597c-f589-405a-a82f-ab4f146dc0a9",
   "metadata": {},
   "source": [
    "# GeoSPARQL Examples\n",
    "\n",
    "In the following tutorial we will show how to ETL geometric data into an AllegroGraph repository, and then demonstrate a few GeoSPARQL queries. This notebook is not meant to be an exhaustive list of every possible SPARQL GeoSPARQL function, but to show the patterns that all subsequent functions follow. There are many more functions available within the Franz SPARQL engine than we will show, and more can be found [here](https://opengeospatial.github.io/ogc-geosparql/geosparql11/geo.ttl).\n",
    "\n",
    "We start by importing `geopandas` and some utility functions from the agraph-python `franz` package, and connecting to a new repository. Make sure to add your own connection parameters:"
   ]
  },
  {
   "cell_type": "code",
   "execution_count": null,
   "id": "12b47d8e-fa53-4dde-b3eb-94b0fc5e3c46",
   "metadata": {},
   "outputs": [],
   "source": [
    "import geopandas as gpd\n",
    "\n",
    "from franz.openrdf.connect import ag_connect\n",
    "from franz.openrdf.vocabulary import RDF, RDFS\n",
    "\n",
    "import json\n",
    "import shortuuid\n",
    "from tqdm import tqdm\n",
    "from pprint import pprint\n",
    "import matplotlib.pyplot as plt\n",
    "\n",
    "#the repository connection. Please add your connection parameters here\n",
    "conn = ag_connect('geosparql-examples', clear=True,\n",
    "                   host='localhost', port='10035',\n",
    "                   user='your AllegroGraph username', password='your AllegroGraph password')\n",
    "\n",
    "#defining namespaces\n",
    "geo = conn.namespace('http://www.opengis.net/ont/geosparql#')\n",
    "conn.setNamespace('geo', 'http://www.opengis.net/ont/geosparql#')\n",
    "\n",
    "uri = 'http://franz.com/'\n",
    "f = conn.namespace(uri)\n",
    "conn.setNamespace('f', uri)"
   ]
  },
  {
   "cell_type": "markdown",
   "id": "9de53350-e79a-4e84-8bf5-269d720abd93",
   "metadata": {},
   "source": [
    "## ETL\n",
    "\n",
    "Now we read in some data that contains various geometric objects. We will look at Provinces and Municipalities in the Netherlands (and make some simple plots of the data). If you are interested you can download more data here at [https://gadm.org/download_country.html](https://gadm.org/download_country.html). Importing a file with `geopandas` makes it so that the geometry data is correctly added in the dataframe."
   ]
  },
  {
   "cell_type": "code",
   "execution_count": null,
   "id": "bcef835b-db2f-4b29-9e94-ea6fb7283907",
   "metadata": {},
   "outputs": [],
   "source": [
    "df_province = gpd.read_file('https://geodata.ucdavis.edu/gadm/gadm4.1/json/gadm41_NLD_1.json.zip')\n",
    "df_province.head()"
   ]
  },
  {
   "cell_type": "code",
   "execution_count": null,
   "id": "10f844f3-0fec-4eba-a4c8-f1b797da2839",
   "metadata": {},
   "outputs": [],
   "source": [
    "df_province.plot()\n",
    "plt.show()"
   ]
  },
  {
   "cell_type": "markdown",
   "id": "9886fd1a-39ac-4d2e-a30b-339d697cb87d",
   "metadata": {},
   "source": [
    "As you can see, the last column named `geometry` contains a number of **Multipolygons**.\n",
    "\n",
    "Before we are able to ETL the data into our repository, we need to define a function that converts each entry in the `geometry` column into a **MultiPolygon  geo:geoJSONLiteral**. You can read more about the shapes of these [here](https://datatracker.ietf.org/doc/html/rfc7946#section-3.1.7):\n"
   ]
  },
  {
   "cell_type": "code",
   "execution_count": null,
   "id": "df4c093e-c142-41c7-9768-964c9353b893",
   "metadata": {},
   "outputs": [],
   "source": [
    "def convert_geo_to_literal(geometry_cell):\n",
    "    _json = {\"type\": \"MultiPolygon\", \"coordinates\": []}\n",
    "    for geom in geometry_cell.geoms:\n",
    "        multi = []\n",
    "        for point in geom.exterior.coords:\n",
    "            coordinates = [point[0], point[1]]\n",
    "            multi.append(coordinates)\n",
    "        _json[\"coordinates\"].append([multi])\n",
    "    json_string = json.dumps(_json)\n",
    "    return conn.createLiteral(json_string, datatype=geo.geoJSONLiteral)"
   ]
  },
  {
   "cell_type": "markdown",
   "id": "e32c7033-01bf-4ee8-a72d-01153a44ca14",
   "metadata": {},
   "source": [
    "We will do a very simplified version of the ETL. We could add more metadata about each province, but for now we will only gather the names and rdf:types of each geometric feature (a `geo:Feature` being the object we care about, in this case a province). The most important thing is that you need to create an object with `rdf:type` `geo:Feature`, and also create another objects with `rdf:type` `geo:Geometry`. Then that geometry object has the geometric data attached as a literal."
   ]
  },
  {
   "cell_type": "code",
   "execution_count": null,
   "id": "2391572e-af15-4f98-b0c1-adb28ce6dd36",
   "metadata": {},
   "outputs": [],
   "source": [
    "triples = []\n",
    "for i in range(df_province.shape[0]):\n",
    "    province_uri = conn.createURI(f\"{uri}{df_province['GID_1'][i]}\")\n",
    "    triples.append((province_uri, RDF.TYPE, conn.createURI(f\"{uri}{df_province['ENGTYPE_1'][i]}\")))\n",
    "    triples.append((province_uri, RDF.TYPE, geo.Feature))\n",
    "\n",
    "    #add name info and a label\n",
    "    triples.append((province_uri, RDFS.LABEL, df_province['NAME_1'][i]))\n",
    "    triples.append((province_uri, f.provinceName, df_province['NAME_1'][i]))\n",
    "\n",
    "    #add geometry\n",
    "    geo_uri = conn.createURI(f\"{uri}{shortuuid.uuid()}\")\n",
    "    triples.append((geo_uri, RDF.TYPE, geo.Geometry))\n",
    "    triples.append((province_uri, geo.hasGeometry, geo_uri))\n",
    "    geometry_literal = convert_geo_to_literal(df_province['geometry'][i])\n",
    "    triples.append((geo_uri, geo.asGeoJSON, geometry_literal))\n",
    "    \n",
    "conn.addTriples(triples)\n",
    "conn.deleteDuplicates(mode='spo')"
   ]
  },
  {
   "cell_type": "markdown",
   "id": "961ba8e8-81a8-4be8-9c92-18a30fbae8c7",
   "metadata": {},
   "source": [
    "Now we will also ETL some more Netherlands Municipality Data"
   ]
  },
  {
   "cell_type": "code",
   "execution_count": null,
   "id": "936c894d-79c6-46e1-892d-5d05391a72fa",
   "metadata": {},
   "outputs": [],
   "source": [
    "df_muni = gpd.read_file('https://geodata.ucdavis.edu/gadm/gadm4.1/json/gadm41_NLD_2.json.zip')\n",
    "df_muni.head()"
   ]
  },
  {
   "cell_type": "code",
   "execution_count": null,
   "id": "5588b148-02de-4e8b-89c4-6309bf7e4ca5",
   "metadata": {},
   "outputs": [],
   "source": [
    "df_muni.plot()\n",
    "plt.show()"
   ]
  },
  {
   "cell_type": "markdown",
   "id": "a87269e2-89e3-43a4-bf29-726014e0c6cf",
   "metadata": {},
   "source": [
    "We will skip bodies of water for simplicity's sake"
   ]
  },
  {
   "cell_type": "code",
   "execution_count": null,
   "id": "93abe1b2-9356-4c7e-b1be-fbb216a5dcfc",
   "metadata": {},
   "outputs": [],
   "source": [
    "triples = []\n",
    "for i in range(df_muni.shape[0]):\n",
    "    if df_muni['ENGTYPE_2'][i] != 'Waterbody':\n",
    "        muni_uri = conn.createURI(f\"{uri}{df_muni['GID_2'][i]}\")\n",
    "        triples.append((muni_uri, RDF.TYPE, conn.createURI(f\"{uri}{df_muni['ENGTYPE_2'][i]}\")))\n",
    "        triples.append((muni_uri, RDF.TYPE, geo.Feature))\n",
    "\n",
    "        #get name info\n",
    "        triples.append((muni_uri, RDFS.LABEL, df_muni['NAME_2'][i]))\n",
    "        triples.append((muni_uri, f.municipalityName, df_muni['NAME_2'][i]))\n",
    "\n",
    "        #link to provinces\n",
    "        province_uri = conn.createURI(f\"{uri}{df_muni['GID_1'][i]}\")\n",
    "        triples.append((province_uri, f.municipality, muni_uri))\n",
    "\n",
    "        #add geometry\n",
    "        geo_uri = conn.createURI(f\"{uri}{shortuuid.uuid()}\")\n",
    "        triples.append((geo_uri, RDF.TYPE, geo.Geometry))\n",
    "        triples.append((muni_uri, geo.hasGeometry, geo_uri))\n",
    "        geometry_literal = convert_geo_to_literal(df_muni['geometry'][i])\n",
    "        triples.append((geo_uri, geo.asGeoJSON, geometry_literal))\n",
    "conn.addTriples(triples)\n",
    "conn.deleteDuplicates(mode='spo')"
   ]
  },
  {
   "cell_type": "markdown",
   "id": "eba89fbd-ad07-434e-868a-62501f7371fa",
   "metadata": {},
   "source": [
    "We can examine the data in Gruff. Notice that the Provinces and Municipalities all have related `geometry` objects and to that we connect the **Multipolygon** literal"
   ]
  },
  {
   "cell_type": "markdown",
   "id": "f80d82b9-8888-42c9-91be-f2c7991c25ed",
   "metadata": {},
   "source": [
    "![sample layout](img/geosparql-etl-layout.png)"
   ]
  },
  {
   "cell_type": "markdown",
   "id": "43e4b84d-7be3-4a49-9fc7-ec4de165b747",
   "metadata": {},
   "source": [
    "## The format of GeoSPARQL queries\n",
    "\n",
    "GeoSPARQL queries do comparisons and calculations between different geometries. Those can be points, lines, polygons and others. However, most queries will follow the following format.\n",
    "\n",
    "```\n",
    "PREFIX geo: <http://www.opengis.net/ont/geosparql#>\n",
    "PREFIX geof: <http://www.opengis.net/def/function/geosparql/>\n",
    "\n",
    "SELECT ?result WHERE {\n",
    "    ?feature1 a geo:Feature ;\n",
    "              geo:hasGeometry ?geometry1 .\n",
    "    ?geometry1 a geo:Geometry ;\n",
    "              geo:asGeoJSON ?geoJSON1 .\n",
    "              \n",
    "    ?feature2 a geo:Feature ;\n",
    "              geo:hasGeometry ?geometry2 .\n",
    "    ?geometry2 a geo:Geometry ;\n",
    "              geo:asGeoJSON ?geoJSON2 .\n",
    "              \n",
    "    BIND ( geof:sfWithin(?geometry1, ?geometry2) as ?result ) .\n",
    "```\n",
    "\n",
    "Instead of `geof:sfWithin` can be replaced by many of the geospatial functions.\n",
    "\n",
    "## The **S** imple **F** eatures functions: \n",
    "\n",
    "As defined by Simple Features [[OGCSFACA]](https://opengeospatial.github.io/ogc-geosparql/geosparql11/spec.html#OGCSFACA) [[ISO19125-1]](https://opengeospatial.github.io/ogc-geosparql/geosparql11/spec.html#ISO19125-1), AllegroGraph supports `geof:sfEquals`, `geof:sfDisjoint`, `geof:sfIntersects`, `geof:sfTouches`, `geof:sfCrosses`, `geof:sfWithin`, `geof:sfContains` and `geof:sfOverlaps` as SPARQL extension functions, consistent with their corresponding DE-9IM intersection patterns, where geof: namespace has uri http://www.opengis.net/def/function/geosparql/. Here are a few examples of those:\n",
    "\n",
    "\n",
    "## sfWithin / sfContains\n",
    "\n",
    "In the following example we find which municipality a given point is within.\n",
    "\n",
    "As a note, `sfWithin` is the inverse of `sfContains`. The key difference is directionality\n",
    "* `sfWithin` is used when you want to check if one geometry is completely inside another.\n",
    "* `sfContains` is used when you want to check if one geometry completely encompasses another."
   ]
  },
  {
   "cell_type": "code",
   "execution_count": null,
   "id": "a87976a5-8620-447b-abd7-d5a4e00c081c",
   "metadata": {},
   "outputs": [],
   "source": [
    "%%time\n",
    "query_string = \"\"\"\n",
    "PREFIX geof: <http://www.opengis.net/def/function/geosparql/>\n",
    "\n",
    "SELECT ?label  WHERE {\n",
    "  BIND ( 'POINT(4.9041 52.3676)'^^geo:wktLiteral  as ?point) #The point\n",
    "  ?municipality geo:hasGeometry ?geometry ;\n",
    "                a f:Municipality ;\n",
    "                rdfs:label ?label .\n",
    "  ?geometry geo:asGeoJSON ?geoJsonLiteral .\n",
    "  BIND ( geof:sfWithin( ?point, ?geoJsonLiteral ) as ?result ) #the function\n",
    "  FILTER ( ?result = \"true\"^^xsd:boolean ) . }\"\"\"\n",
    "result = conn.executeTupleQuery(query_string).toPandas()\n",
    "result.head()"
   ]
  },
  {
   "cell_type": "markdown",
   "id": "182c7e53-e23b-45ee-b9a0-48b47f6b964c",
   "metadata": {},
   "source": [
    "We will plot to show where the point lies"
   ]
  },
  {
   "cell_type": "code",
   "execution_count": null,
   "id": "47f478a5-a195-4426-8116-837a4a73aa59",
   "metadata": {},
   "outputs": [],
   "source": [
    "from shapely.geometry import Point\n",
    "from shapely import wkt\n",
    "\n",
    "point_wkt = 'POINT(4.9041 52.3676)'  # Amsterdam coordinates\n",
    "point = wkt.loads(point_wkt)\n",
    "gdf_point = gpd.GeoSeries([point])\n",
    "ax = df_muni.plot(color='lightblue', edgecolor='black', figsize=(10, 10))\n",
    "gdf_point.plot(ax=ax, color='red', marker='o', markersize=100)\n",
    "\n",
    "# Display the plot\n",
    "plt.show()"
   ]
  },
  {
   "cell_type": "markdown",
   "id": "007ce841-12e7-4f48-a7eb-9a1d36ab880c",
   "metadata": {},
   "source": [
    "## sfIntersects\n",
    "\n",
    "We find which Provinces a certain line intersects. The line starts at the top of the netherlands and ends at the bottom."
   ]
  },
  {
   "cell_type": "code",
   "execution_count": null,
   "id": "d557fdb7-42eb-4475-b430-10d84b0706a2",
   "metadata": {},
   "outputs": [],
   "source": [
    "%%time\n",
    "query_string = \"\"\"\n",
    "PREFIX geof: <http://www.opengis.net/def/function/geosparql/>\n",
    "\n",
    "SELECT ?label  WHERE {\n",
    "  BIND ( '''{\n",
    "              \"type\": \"LineString\",\n",
    "              \"coordinates\": [\n",
    "                    [6.074182, 53.510403],  \n",
    "                    [5.887200, 50.750383] \n",
    "                ] }'''^^geo:geoJSONLiteral  as ?line )\n",
    "  ?province geo:hasGeometry ?geometry ;\n",
    "                a f:Province ;\n",
    "                rdfs:label ?label .\n",
    "  ?geometry geo:asGeoJSON ?geoJsonLiteral .\n",
    "  BIND ( geof:sfIntersects(?line, ?geoJsonLiteral ) as ?result )\n",
    "  FILTER ( ?result = \"true\"^^xsd:boolean ) . }\"\"\"\n",
    "result = conn.executeTupleQuery(query_string).toPandas()\n",
    "result.head()"
   ]
  },
  {
   "cell_type": "markdown",
   "id": "478d5bbd-5e2d-4833-b255-b498e1edf682",
   "metadata": {},
   "source": [
    "We will prove by plotting the line over the multipolygons"
   ]
  },
  {
   "cell_type": "code",
   "execution_count": null,
   "id": "441d00b9-9c75-4469-b338-da4af42fdd3b",
   "metadata": {},
   "outputs": [],
   "source": [
    "from shapely.geometry import LineString\n",
    "\n",
    "line = LineString([\n",
    "    [6.074182, 53.510403],  # Top of the Netherlands\n",
    "    [5.887200, 50.750383]   # Bottom of the Netherlands\n",
    "])\n",
    "\n",
    "gdf_line = gpd.GeoSeries([line])\n",
    "ax = df_province.plot(color='lightblue', edgecolor='black', figsize=(10, 10))\n",
    "gdf_line.plot(ax=ax, color='red', linewidth=2)\n",
    "plt.show()"
   ]
  },
  {
   "cell_type": "markdown",
   "id": "cae6b141-84e0-43a5-b9c3-9cd9d5b16f28",
   "metadata": {},
   "source": [
    "### Distance\n",
    "\n",
    "We start by computing the shortest **distance** between two geometries. In this example we will compute the **distance** between 'Amsterdam' and 'Groningen' in kilometers. Notice the `qudt` prefix for units of measurement. You can read more about that [here](https://qudt.org/2.1/vocab/unit)"
   ]
  },
  {
   "cell_type": "code",
   "execution_count": null,
   "id": "89fff3f5-de15-4032-bd52-b52865da27d2",
   "metadata": {},
   "outputs": [],
   "source": [
    "%%time\n",
    "query_string = \"\"\"\n",
    "PREFIX geof: <http://www.opengis.net/def/function/geosparql/>\n",
    "PREFIX qudt: <http://qudt.org/vocab/unit/>\n",
    "\n",
    "SELECT (geof:distance(?amsterdamGeoLit, ?groningenGeoLit, qudt:KiloM) as ?distance) WHERE {\n",
    "    #amsterdam\n",
    "    ?amsterdam f:municipalityName \"Amsterdam\" ;\n",
    "               geo:hasGeometry ?amsterdamGeo .\n",
    "    ?amsterdamGeo geo:asGeoJSON ?amsterdamGeoLit .\n",
    "\n",
    "    #Gronginen\n",
    "    ?groningen f:municipalityName \"Groningen\" ;\n",
    "               geo:hasGeometry ?groningenGeo .\n",
    "    ?groningenGeo geo:asGeoJSON ?groningenGeoLit . }\"\"\"\n",
    "result = conn.executeTupleQuery(query_string).toPandas()\n",
    "result.head()"
   ]
  },
  {
   "cell_type": "markdown",
   "id": "98506e66-02c0-4165-9d03-5283532b8ce6",
   "metadata": {},
   "source": [
    "## Intersection\n",
    "\n",
    "In the following query we show that there is an intersection between 'Amsterdam' and the province it is in 'Noord-Holland'. Since 'Amsterdam' is in 'Noord-Holland' it makes sense that we get a full **Multipolygon** as a result."
   ]
  },
  {
   "cell_type": "code",
   "execution_count": null,
   "id": "010132ef-1cf5-48b9-8dde-99b0c7bb245f",
   "metadata": {},
   "outputs": [],
   "source": [
    "query_string = \"\"\"\n",
    "PREFIX geof: <http://www.opengis.net/def/function/geosparql/>\n",
    "\n",
    "SELECT (geof:intersection(?amsterdamGeoLit, ?nhGeoLit) as ?intersection) WHERE {\n",
    "    #amsterdam\n",
    "    ?amsterdam f:municipalityName \"Amsterdam\" ;\n",
    "               geo:hasGeometry ?amsterdamGeo .\n",
    "    ?amsterdamGeo geo:asGeoJSON ?amsterdamGeoLit .\n",
    "\n",
    "    #Noord-Holland\n",
    "    ?nh f:provinceName \"Noord-Holland\" ;\n",
    "               geo:hasGeometry ?nhGeo .\n",
    "    ?nhGeo geo:asGeoJSON ?nhGeoLit . }\"\"\"\n",
    "result = conn.executeTupleQuery(query_string).toPandas()\n",
    "pprint(result['intersection'][0])"
   ]
  },
  {
   "cell_type": "markdown",
   "id": "7b395f0d-6033-44db-abd6-988a04cb2507",
   "metadata": {},
   "source": [
    "## Union\n",
    "\n",
    "Here we run a query that returns a **Multipolygon** of the *union* of the two geometries. Since these two are not connected it should return the two multipolygons of each, as one multipolygon."
   ]
  },
  {
   "cell_type": "code",
   "execution_count": null,
   "id": "acc55186-602f-4148-ad85-1d2b3fd3b7bb",
   "metadata": {
    "tags": []
   },
   "outputs": [],
   "source": [
    "query_string = \"\"\"\n",
    "PREFIX geof: <http://www.opengis.net/def/function/geosparql/>\n",
    "PREFIX uom: <http://www.opengis.net/def/uom/OGC/1.0/>\n",
    "\n",
    "SELECT (geof:union(?amsterdamGeoLit, ?groningenGeoLit) as ?union) WHERE {\n",
    "    #amsterdam\n",
    "    ?amsterdam f:municipalityName \"Amsterdam\" ;\n",
    "               geo:hasGeometry ?amsterdamGeo .\n",
    "    ?amsterdamGeo geo:asGeoJSON ?amsterdamGeoLit .\n",
    "\n",
    "    #Gronginen\n",
    "    ?groningen f:municipalityName \"Groningen\" ;\n",
    "               geo:hasGeometry ?groningenGeo .\n",
    "    ?groningenGeo geo:asGeoJSON ?groningenGeoLit . }\"\"\"\n",
    "result = conn.executeTupleQuery(query_string).toPandas()\n",
    "pprint(result['union'][0])"
   ]
  }
 ],
 "metadata": {
  "kernelspec": {
   "display_name": "Python 3 (ipykernel)",
   "language": "python",
   "name": "python3"
  },
  "language_info": {
   "codemirror_mode": {
    "name": "ipython",
    "version": 3
   },
   "file_extension": ".py",
   "mimetype": "text/x-python",
   "name": "python",
   "nbconvert_exporter": "python",
   "pygments_lexer": "ipython3",
   "version": "3.10.14"
  }
 },
 "nbformat": 4,
 "nbformat_minor": 5
}
